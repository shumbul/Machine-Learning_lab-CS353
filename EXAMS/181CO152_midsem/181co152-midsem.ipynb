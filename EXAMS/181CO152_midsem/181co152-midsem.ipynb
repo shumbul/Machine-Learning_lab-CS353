{
  "nbformat": 4,
  "nbformat_minor": 0,
  "metadata": {
    "colab": {
      "name": "midsem.ipynb",
      "provenance": [],
      "collapsed_sections": []
    },
    "kernelspec": {
      "display_name": "Python 3",
      "name": "python3"
    }
  },
  "cells": [
    {
      "cell_type": "markdown",
      "metadata": {
        "id": "ygrHUPJJb0jp"
      },
      "source": [
        "<h1 align='center'> CS353 Machine Learning Lab</h1>\n",
        "<h1 align='center'>05/03/21</h1>\n",
        "<h2 align='center'>Shumbul Arifa (181CO152)</h2>"
      ]
    },
    {
      "cell_type": "code",
      "metadata": {
        "id": "EeNEKsBVWsFy"
      },
      "source": [
        "%matplotlib inline\n",
        "import numpy as np\n",
        "import pandas as pd\n",
        "from sklearn.model_selection import train_test_split\n",
        "from sklearn.naive_bayes import GaussianNB\n",
        "from scipy.stats import norm\n",
        "from sklearn.metrics import confusion_matrix, accuracy_score, classification_report, plot_confusion_matrix\n",
        "import matplotlib.pyplot as plt"
      ],
      "execution_count": 101,
      "outputs": []
    },
    {
      "cell_type": "code",
      "metadata": {
        "id": "gVzpmkSUPTmt"
      },
      "source": [
        "import pandas as pd\r\n",
        "df = pd.read_csv('https://query.data.world/s/cvcnuwicngektqaaapuqxw45lpngsj')"
      ],
      "execution_count": 102,
      "outputs": []
    },
    {
      "cell_type": "code",
      "metadata": {
        "colab": {
          "base_uri": "https://localhost:8080/",
          "height": 195
        },
        "id": "PlL656WqP2D3",
        "outputId": "211f338e-922d-4d30-c41a-b889232d27e7"
      },
      "source": [
        "df.head()"
      ],
      "execution_count": 103,
      "outputs": [
        {
          "output_type": "execute_result",
          "data": {
            "text/html": [
              "<div>\n",
              "<style scoped>\n",
              "    .dataframe tbody tr th:only-of-type {\n",
              "        vertical-align: middle;\n",
              "    }\n",
              "\n",
              "    .dataframe tbody tr th {\n",
              "        vertical-align: top;\n",
              "    }\n",
              "\n",
              "    .dataframe thead th {\n",
              "        text-align: right;\n",
              "    }\n",
              "</style>\n",
              "<table border=\"1\" class=\"dataframe\">\n",
              "  <thead>\n",
              "    <tr style=\"text-align: right;\">\n",
              "      <th></th>\n",
              "      <th>1254</th>\n",
              "      <th>0</th>\n",
              "      <th>40</th>\n",
              "      <th>1</th>\n",
              "      <th>1.1</th>\n",
              "      <th>0.1</th>\n",
              "      <th>0.2</th>\n",
              "      <th>Unnamed: 7</th>\n",
              "    </tr>\n",
              "  </thead>\n",
              "  <tbody>\n",
              "    <tr>\n",
              "      <th>0</th>\n",
              "      <td>-9.0</td>\n",
              "      <td>2</td>\n",
              "      <td>140</td>\n",
              "      <td>0</td>\n",
              "      <td>289</td>\n",
              "      <td>-9.0</td>\n",
              "      <td>-9.0</td>\n",
              "      <td>-9.0</td>\n",
              "    </tr>\n",
              "    <tr>\n",
              "      <th>1</th>\n",
              "      <td>0.0</td>\n",
              "      <td>-9</td>\n",
              "      <td>-9</td>\n",
              "      <td>0</td>\n",
              "      <td>12</td>\n",
              "      <td>16.0</td>\n",
              "      <td>84.0</td>\n",
              "      <td>0.0</td>\n",
              "    </tr>\n",
              "    <tr>\n",
              "      <th>2</th>\n",
              "      <td>0.0</td>\n",
              "      <td>0</td>\n",
              "      <td>0</td>\n",
              "      <td>0</td>\n",
              "      <td>150</td>\n",
              "      <td>18.0</td>\n",
              "      <td>-9.0</td>\n",
              "      <td>7.0</td>\n",
              "    </tr>\n",
              "    <tr>\n",
              "      <th>3</th>\n",
              "      <td>172.0</td>\n",
              "      <td>86</td>\n",
              "      <td>200</td>\n",
              "      <td>110</td>\n",
              "      <td>140</td>\n",
              "      <td>86.0</td>\n",
              "      <td>0.0</td>\n",
              "      <td>0.0</td>\n",
              "    </tr>\n",
              "    <tr>\n",
              "      <th>4</th>\n",
              "      <td>0.0</td>\n",
              "      <td>-9</td>\n",
              "      <td>26</td>\n",
              "      <td>20</td>\n",
              "      <td>-9</td>\n",
              "      <td>-9.0</td>\n",
              "      <td>-9.0</td>\n",
              "      <td>-9.0</td>\n",
              "    </tr>\n",
              "  </tbody>\n",
              "</table>\n",
              "</div>"
            ],
            "text/plain": [
              "    1254   0   40    1  1.1   0.1   0.2  Unnamed: 7\n",
              "0   -9.0   2  140    0  289  -9.0  -9.0        -9.0\n",
              "1    0.0  -9   -9    0   12  16.0  84.0         0.0\n",
              "2    0.0   0    0    0  150  18.0  -9.0         7.0\n",
              "3  172.0  86  200  110  140  86.0   0.0         0.0\n",
              "4    0.0  -9   26   20   -9  -9.0  -9.0        -9.0"
            ]
          },
          "metadata": {
            "tags": []
          },
          "execution_count": 103
        }
      ]
    },
    {
      "cell_type": "code",
      "metadata": {
        "colab": {
          "base_uri": "https://localhost:8080/",
          "height": 284
        },
        "id": "MVQrEsnJRCtX",
        "outputId": "8a9f34ef-4b87-4a39-a37f-42a802956ee7"
      },
      "source": [
        "df.describe()"
      ],
      "execution_count": 104,
      "outputs": [
        {
          "output_type": "execute_result",
          "data": {
            "text/html": [
              "<div>\n",
              "<style scoped>\n",
              "    .dataframe tbody tr th:only-of-type {\n",
              "        vertical-align: middle;\n",
              "    }\n",
              "\n",
              "    .dataframe tbody tr th {\n",
              "        vertical-align: top;\n",
              "    }\n",
              "\n",
              "    .dataframe thead th {\n",
              "        text-align: right;\n",
              "    }\n",
              "</style>\n",
              "<table border=\"1\" class=\"dataframe\">\n",
              "  <thead>\n",
              "    <tr style=\"text-align: right;\">\n",
              "      <th></th>\n",
              "      <th>1254</th>\n",
              "      <th>0</th>\n",
              "      <th>40</th>\n",
              "      <th>1</th>\n",
              "      <th>0.1</th>\n",
              "      <th>0.2</th>\n",
              "      <th>Unnamed: 7</th>\n",
              "    </tr>\n",
              "  </thead>\n",
              "  <tbody>\n",
              "    <tr>\n",
              "      <th>count</th>\n",
              "      <td>2939.000000</td>\n",
              "      <td>2939.000000</td>\n",
              "      <td>2939.000000</td>\n",
              "      <td>2939.000000</td>\n",
              "      <td>2645.000000</td>\n",
              "      <td>2645.000000</td>\n",
              "      <td>2352.000000</td>\n",
              "    </tr>\n",
              "    <tr>\n",
              "      <th>mean</th>\n",
              "      <td>132.321980</td>\n",
              "      <td>13.954406</td>\n",
              "      <td>34.589656</td>\n",
              "      <td>7.779857</td>\n",
              "      <td>8.719471</td>\n",
              "      <td>5.419282</td>\n",
              "      <td>-1.500638</td>\n",
              "    </tr>\n",
              "    <tr>\n",
              "      <th>std</th>\n",
              "      <td>377.950388</td>\n",
              "      <td>35.218475</td>\n",
              "      <td>65.221180</td>\n",
              "      <td>30.318440</td>\n",
              "      <td>28.418497</td>\n",
              "      <td>28.701144</td>\n",
              "      <td>6.095486</td>\n",
              "    </tr>\n",
              "    <tr>\n",
              "      <th>min</th>\n",
              "      <td>-9.000000</td>\n",
              "      <td>-9.000000</td>\n",
              "      <td>-9.000000</td>\n",
              "      <td>-9.000000</td>\n",
              "      <td>-9.000000</td>\n",
              "      <td>-9.000000</td>\n",
              "      <td>-9.000000</td>\n",
              "    </tr>\n",
              "    <tr>\n",
              "      <th>25%</th>\n",
              "      <td>-9.000000</td>\n",
              "      <td>-9.000000</td>\n",
              "      <td>-9.000000</td>\n",
              "      <td>-9.000000</td>\n",
              "      <td>-9.000000</td>\n",
              "      <td>-9.000000</td>\n",
              "      <td>-9.000000</td>\n",
              "    </tr>\n",
              "    <tr>\n",
              "      <th>50%</th>\n",
              "      <td>0.000000</td>\n",
              "      <td>0.000000</td>\n",
              "      <td>0.000000</td>\n",
              "      <td>0.000000</td>\n",
              "      <td>1.000000</td>\n",
              "      <td>-9.000000</td>\n",
              "      <td>0.000000</td>\n",
              "    </tr>\n",
              "    <tr>\n",
              "      <th>75%</th>\n",
              "      <td>17.000000</td>\n",
              "      <td>3.000000</td>\n",
              "      <td>50.000000</td>\n",
              "      <td>1.000000</td>\n",
              "      <td>10.000000</td>\n",
              "      <td>1.000000</td>\n",
              "      <td>2.000000</td>\n",
              "    </tr>\n",
              "    <tr>\n",
              "      <th>max</th>\n",
              "      <td>5002.000000</td>\n",
              "      <td>134.000000</td>\n",
              "      <td>240.000000</td>\n",
              "      <td>134.000000</td>\n",
              "      <td>110.000000</td>\n",
              "      <td>87.000000</td>\n",
              "      <td>12.000000</td>\n",
              "    </tr>\n",
              "  </tbody>\n",
              "</table>\n",
              "</div>"
            ],
            "text/plain": [
              "              1254            0  ...          0.2   Unnamed: 7\n",
              "count  2939.000000  2939.000000  ...  2645.000000  2352.000000\n",
              "mean    132.321980    13.954406  ...     5.419282    -1.500638\n",
              "std     377.950388    35.218475  ...    28.701144     6.095486\n",
              "min      -9.000000    -9.000000  ...    -9.000000    -9.000000\n",
              "25%      -9.000000    -9.000000  ...    -9.000000    -9.000000\n",
              "50%       0.000000     0.000000  ...    -9.000000     0.000000\n",
              "75%      17.000000     3.000000  ...     1.000000     2.000000\n",
              "max    5002.000000   134.000000  ...    87.000000    12.000000\n",
              "\n",
              "[8 rows x 7 columns]"
            ]
          },
          "metadata": {
            "tags": []
          },
          "execution_count": 104
        }
      ]
    },
    {
      "cell_type": "code",
      "metadata": {
        "colab": {
          "base_uri": "https://localhost:8080/"
        },
        "id": "8DYbA7ItRGdu",
        "outputId": "a03a6770-6c60-4766-d8f6-facb6f72e8d1"
      },
      "source": [
        "df.info()"
      ],
      "execution_count": 105,
      "outputs": [
        {
          "output_type": "stream",
          "text": [
            "<class 'pandas.core.frame.DataFrame'>\n",
            "RangeIndex: 2939 entries, 0 to 2938\n",
            "Data columns (total 8 columns):\n",
            " #   Column      Non-Null Count  Dtype  \n",
            "---  ------      --------------  -----  \n",
            " 0   1254        2939 non-null   float64\n",
            " 1   0           2939 non-null   int64  \n",
            " 2   40          2939 non-null   int64  \n",
            " 3   1           2939 non-null   int64  \n",
            " 4   1.1         2939 non-null   object \n",
            " 5   0.1         2645 non-null   float64\n",
            " 6   0.2         2645 non-null   float64\n",
            " 7   Unnamed: 7  2352 non-null   float64\n",
            "dtypes: float64(4), int64(3), object(1)\n",
            "memory usage: 183.8+ KB\n"
          ],
          "name": "stdout"
        }
      ]
    },
    {
      "cell_type": "code",
      "metadata": {
        "id": "AUhPibNvRg9P"
      },
      "source": [
        "df = df.rename(columns={'1254': 'col1','0':'col2','40':'col3','1':'col4','1.1':'col5','0.1':'col6','0.2':'col7','Unnamed: 7':'col8'})"
      ],
      "execution_count": 106,
      "outputs": []
    },
    {
      "cell_type": "code",
      "metadata": {
        "colab": {
          "base_uri": "https://localhost:8080/",
          "height": 195
        },
        "id": "955hAmKjSNy6",
        "outputId": "a886452b-5b1c-4578-e0b6-30890692b8fd"
      },
      "source": [
        "df.head()"
      ],
      "execution_count": 107,
      "outputs": [
        {
          "output_type": "execute_result",
          "data": {
            "text/html": [
              "<div>\n",
              "<style scoped>\n",
              "    .dataframe tbody tr th:only-of-type {\n",
              "        vertical-align: middle;\n",
              "    }\n",
              "\n",
              "    .dataframe tbody tr th {\n",
              "        vertical-align: top;\n",
              "    }\n",
              "\n",
              "    .dataframe thead th {\n",
              "        text-align: right;\n",
              "    }\n",
              "</style>\n",
              "<table border=\"1\" class=\"dataframe\">\n",
              "  <thead>\n",
              "    <tr style=\"text-align: right;\">\n",
              "      <th></th>\n",
              "      <th>col1</th>\n",
              "      <th>col2</th>\n",
              "      <th>col3</th>\n",
              "      <th>col4</th>\n",
              "      <th>col5</th>\n",
              "      <th>col6</th>\n",
              "      <th>col7</th>\n",
              "      <th>col8</th>\n",
              "    </tr>\n",
              "  </thead>\n",
              "  <tbody>\n",
              "    <tr>\n",
              "      <th>0</th>\n",
              "      <td>-9.0</td>\n",
              "      <td>2</td>\n",
              "      <td>140</td>\n",
              "      <td>0</td>\n",
              "      <td>289</td>\n",
              "      <td>-9.0</td>\n",
              "      <td>-9.0</td>\n",
              "      <td>-9.0</td>\n",
              "    </tr>\n",
              "    <tr>\n",
              "      <th>1</th>\n",
              "      <td>0.0</td>\n",
              "      <td>-9</td>\n",
              "      <td>-9</td>\n",
              "      <td>0</td>\n",
              "      <td>12</td>\n",
              "      <td>16.0</td>\n",
              "      <td>84.0</td>\n",
              "      <td>0.0</td>\n",
              "    </tr>\n",
              "    <tr>\n",
              "      <th>2</th>\n",
              "      <td>0.0</td>\n",
              "      <td>0</td>\n",
              "      <td>0</td>\n",
              "      <td>0</td>\n",
              "      <td>150</td>\n",
              "      <td>18.0</td>\n",
              "      <td>-9.0</td>\n",
              "      <td>7.0</td>\n",
              "    </tr>\n",
              "    <tr>\n",
              "      <th>3</th>\n",
              "      <td>172.0</td>\n",
              "      <td>86</td>\n",
              "      <td>200</td>\n",
              "      <td>110</td>\n",
              "      <td>140</td>\n",
              "      <td>86.0</td>\n",
              "      <td>0.0</td>\n",
              "      <td>0.0</td>\n",
              "    </tr>\n",
              "    <tr>\n",
              "      <th>4</th>\n",
              "      <td>0.0</td>\n",
              "      <td>-9</td>\n",
              "      <td>26</td>\n",
              "      <td>20</td>\n",
              "      <td>-9</td>\n",
              "      <td>-9.0</td>\n",
              "      <td>-9.0</td>\n",
              "      <td>-9.0</td>\n",
              "    </tr>\n",
              "  </tbody>\n",
              "</table>\n",
              "</div>"
            ],
            "text/plain": [
              "    col1  col2  col3  col4 col5  col6  col7  col8\n",
              "0   -9.0     2   140     0  289  -9.0  -9.0  -9.0\n",
              "1    0.0    -9    -9     0   12  16.0  84.0   0.0\n",
              "2    0.0     0     0     0  150  18.0  -9.0   7.0\n",
              "3  172.0    86   200   110  140  86.0   0.0   0.0\n",
              "4    0.0    -9    26    20   -9  -9.0  -9.0  -9.0"
            ]
          },
          "metadata": {
            "tags": []
          },
          "execution_count": 107
        }
      ]
    },
    {
      "cell_type": "code",
      "metadata": {
        "id": "tA30DvILYuNb"
      },
      "source": [
        "df=df.drop(columns=['col5'])"
      ],
      "execution_count": 108,
      "outputs": []
    },
    {
      "cell_type": "code",
      "metadata": {
        "colab": {
          "base_uri": "https://localhost:8080/"
        },
        "id": "fL_TGpN9SoTi",
        "outputId": "68d58411-b558-4b54-fcce-044fc100a8e0"
      },
      "source": [
        "## Data preprocessing\n",
        "df.info()"
      ],
      "execution_count": 109,
      "outputs": [
        {
          "output_type": "stream",
          "text": [
            "<class 'pandas.core.frame.DataFrame'>\n",
            "RangeIndex: 2939 entries, 0 to 2938\n",
            "Data columns (total 7 columns):\n",
            " #   Column  Non-Null Count  Dtype  \n",
            "---  ------  --------------  -----  \n",
            " 0   col1    2939 non-null   float64\n",
            " 1   col2    2939 non-null   int64  \n",
            " 2   col3    2939 non-null   int64  \n",
            " 3   col4    2939 non-null   int64  \n",
            " 4   col6    2645 non-null   float64\n",
            " 5   col7    2645 non-null   float64\n",
            " 6   col8    2352 non-null   float64\n",
            "dtypes: float64(4), int64(3)\n",
            "memory usage: 160.9 KB\n"
          ],
          "name": "stdout"
        }
      ]
    },
    {
      "cell_type": "code",
      "metadata": {
        "id": "7VcYY8rxSv9_"
      },
      "source": [
        "#replacing all null values with mean of respective columns\r\n",
        "x=df['col6'].mean()\r\n",
        "df['col6'].fillna(value = x, inplace = True)\r\n",
        "x=df['col7'].mean()\r\n",
        "df['col7'].fillna(value = x, inplace = True)\r\n",
        "x=df['col8'].mean()\r\n",
        "df['col8'].fillna(value = x, inplace = True)"
      ],
      "execution_count": 110,
      "outputs": []
    },
    {
      "cell_type": "code",
      "metadata": {
        "colab": {
          "base_uri": "https://localhost:8080/"
        },
        "id": "JebGL30iUn0R",
        "outputId": "b55ae203-d8ce-47cf-8dc0-c7703c616a34"
      },
      "source": [
        "df.info()"
      ],
      "execution_count": 111,
      "outputs": [
        {
          "output_type": "stream",
          "text": [
            "<class 'pandas.core.frame.DataFrame'>\n",
            "RangeIndex: 2939 entries, 0 to 2938\n",
            "Data columns (total 7 columns):\n",
            " #   Column  Non-Null Count  Dtype  \n",
            "---  ------  --------------  -----  \n",
            " 0   col1    2939 non-null   float64\n",
            " 1   col2    2939 non-null   int64  \n",
            " 2   col3    2939 non-null   int64  \n",
            " 3   col4    2939 non-null   int64  \n",
            " 4   col6    2939 non-null   float64\n",
            " 5   col7    2939 non-null   float64\n",
            " 6   col8    2939 non-null   float64\n",
            "dtypes: float64(4), int64(3)\n",
            "memory usage: 160.9 KB\n"
          ],
          "name": "stdout"
        }
      ]
    },
    {
      "cell_type": "code",
      "metadata": {
        "colab": {
          "base_uri": "https://localhost:8080/",
          "height": 195
        },
        "id": "VdGdGZSsVR-k",
        "outputId": "502672e1-359f-4587-d9cf-1caf8cdc90dc"
      },
      "source": [
        "df.head()"
      ],
      "execution_count": 112,
      "outputs": [
        {
          "output_type": "execute_result",
          "data": {
            "text/html": [
              "<div>\n",
              "<style scoped>\n",
              "    .dataframe tbody tr th:only-of-type {\n",
              "        vertical-align: middle;\n",
              "    }\n",
              "\n",
              "    .dataframe tbody tr th {\n",
              "        vertical-align: top;\n",
              "    }\n",
              "\n",
              "    .dataframe thead th {\n",
              "        text-align: right;\n",
              "    }\n",
              "</style>\n",
              "<table border=\"1\" class=\"dataframe\">\n",
              "  <thead>\n",
              "    <tr style=\"text-align: right;\">\n",
              "      <th></th>\n",
              "      <th>col1</th>\n",
              "      <th>col2</th>\n",
              "      <th>col3</th>\n",
              "      <th>col4</th>\n",
              "      <th>col6</th>\n",
              "      <th>col7</th>\n",
              "      <th>col8</th>\n",
              "    </tr>\n",
              "  </thead>\n",
              "  <tbody>\n",
              "    <tr>\n",
              "      <th>0</th>\n",
              "      <td>-9.0</td>\n",
              "      <td>2</td>\n",
              "      <td>140</td>\n",
              "      <td>0</td>\n",
              "      <td>-9.0</td>\n",
              "      <td>-9.0</td>\n",
              "      <td>-9.0</td>\n",
              "    </tr>\n",
              "    <tr>\n",
              "      <th>1</th>\n",
              "      <td>0.0</td>\n",
              "      <td>-9</td>\n",
              "      <td>-9</td>\n",
              "      <td>0</td>\n",
              "      <td>16.0</td>\n",
              "      <td>84.0</td>\n",
              "      <td>0.0</td>\n",
              "    </tr>\n",
              "    <tr>\n",
              "      <th>2</th>\n",
              "      <td>0.0</td>\n",
              "      <td>0</td>\n",
              "      <td>0</td>\n",
              "      <td>0</td>\n",
              "      <td>18.0</td>\n",
              "      <td>-9.0</td>\n",
              "      <td>7.0</td>\n",
              "    </tr>\n",
              "    <tr>\n",
              "      <th>3</th>\n",
              "      <td>172.0</td>\n",
              "      <td>86</td>\n",
              "      <td>200</td>\n",
              "      <td>110</td>\n",
              "      <td>86.0</td>\n",
              "      <td>0.0</td>\n",
              "      <td>0.0</td>\n",
              "    </tr>\n",
              "    <tr>\n",
              "      <th>4</th>\n",
              "      <td>0.0</td>\n",
              "      <td>-9</td>\n",
              "      <td>26</td>\n",
              "      <td>20</td>\n",
              "      <td>-9.0</td>\n",
              "      <td>-9.0</td>\n",
              "      <td>-9.0</td>\n",
              "    </tr>\n",
              "  </tbody>\n",
              "</table>\n",
              "</div>"
            ],
            "text/plain": [
              "    col1  col2  col3  col4  col6  col7  col8\n",
              "0   -9.0     2   140     0  -9.0  -9.0  -9.0\n",
              "1    0.0    -9    -9     0  16.0  84.0   0.0\n",
              "2    0.0     0     0     0  18.0  -9.0   7.0\n",
              "3  172.0    86   200   110  86.0   0.0   0.0\n",
              "4    0.0    -9    26    20  -9.0  -9.0  -9.0"
            ]
          },
          "metadata": {
            "tags": []
          },
          "execution_count": 112
        }
      ]
    },
    {
      "cell_type": "code",
      "metadata": {
        "id": "woSxO5tqVZKB"
      },
      "source": [
        "from sklearn.model_selection import train_test_split"
      ],
      "execution_count": 113,
      "outputs": []
    },
    {
      "cell_type": "code",
      "metadata": {
        "colab": {
          "base_uri": "https://localhost:8080/",
          "height": 195
        },
        "id": "wL3owBKiV28C",
        "outputId": "f6d5bee3-75f5-48b9-a1f7-a50dcf8a08a3"
      },
      "source": [
        "X=df.loc[:, df.columns!=\"col8\"]\n",
        "X.head()"
      ],
      "execution_count": 114,
      "outputs": [
        {
          "output_type": "execute_result",
          "data": {
            "text/html": [
              "<div>\n",
              "<style scoped>\n",
              "    .dataframe tbody tr th:only-of-type {\n",
              "        vertical-align: middle;\n",
              "    }\n",
              "\n",
              "    .dataframe tbody tr th {\n",
              "        vertical-align: top;\n",
              "    }\n",
              "\n",
              "    .dataframe thead th {\n",
              "        text-align: right;\n",
              "    }\n",
              "</style>\n",
              "<table border=\"1\" class=\"dataframe\">\n",
              "  <thead>\n",
              "    <tr style=\"text-align: right;\">\n",
              "      <th></th>\n",
              "      <th>col1</th>\n",
              "      <th>col2</th>\n",
              "      <th>col3</th>\n",
              "      <th>col4</th>\n",
              "      <th>col6</th>\n",
              "      <th>col7</th>\n",
              "    </tr>\n",
              "  </thead>\n",
              "  <tbody>\n",
              "    <tr>\n",
              "      <th>0</th>\n",
              "      <td>-9.0</td>\n",
              "      <td>2</td>\n",
              "      <td>140</td>\n",
              "      <td>0</td>\n",
              "      <td>-9.0</td>\n",
              "      <td>-9.0</td>\n",
              "    </tr>\n",
              "    <tr>\n",
              "      <th>1</th>\n",
              "      <td>0.0</td>\n",
              "      <td>-9</td>\n",
              "      <td>-9</td>\n",
              "      <td>0</td>\n",
              "      <td>16.0</td>\n",
              "      <td>84.0</td>\n",
              "    </tr>\n",
              "    <tr>\n",
              "      <th>2</th>\n",
              "      <td>0.0</td>\n",
              "      <td>0</td>\n",
              "      <td>0</td>\n",
              "      <td>0</td>\n",
              "      <td>18.0</td>\n",
              "      <td>-9.0</td>\n",
              "    </tr>\n",
              "    <tr>\n",
              "      <th>3</th>\n",
              "      <td>172.0</td>\n",
              "      <td>86</td>\n",
              "      <td>200</td>\n",
              "      <td>110</td>\n",
              "      <td>86.0</td>\n",
              "      <td>0.0</td>\n",
              "    </tr>\n",
              "    <tr>\n",
              "      <th>4</th>\n",
              "      <td>0.0</td>\n",
              "      <td>-9</td>\n",
              "      <td>26</td>\n",
              "      <td>20</td>\n",
              "      <td>-9.0</td>\n",
              "      <td>-9.0</td>\n",
              "    </tr>\n",
              "  </tbody>\n",
              "</table>\n",
              "</div>"
            ],
            "text/plain": [
              "    col1  col2  col3  col4  col6  col7\n",
              "0   -9.0     2   140     0  -9.0  -9.0\n",
              "1    0.0    -9    -9     0  16.0  84.0\n",
              "2    0.0     0     0     0  18.0  -9.0\n",
              "3  172.0    86   200   110  86.0   0.0\n",
              "4    0.0    -9    26    20  -9.0  -9.0"
            ]
          },
          "metadata": {
            "tags": []
          },
          "execution_count": 114
        }
      ]
    },
    {
      "cell_type": "code",
      "metadata": {
        "colab": {
          "base_uri": "https://localhost:8080/"
        },
        "id": "_bjm5QJWWHi3",
        "outputId": "9aa5d404-76f9-4b1e-93cb-1ffcd1f71a19"
      },
      "source": [
        "y=df[\"col8\"]\n",
        "y.head()"
      ],
      "execution_count": 115,
      "outputs": [
        {
          "output_type": "execute_result",
          "data": {
            "text/plain": [
              "0   -9.0\n",
              "1    0.0\n",
              "2    7.0\n",
              "3    0.0\n",
              "4   -9.0\n",
              "Name: col8, dtype: float64"
            ]
          },
          "metadata": {
            "tags": []
          },
          "execution_count": 115
        }
      ]
    },
    {
      "cell_type": "code",
      "metadata": {
        "colab": {
          "base_uri": "https://localhost:8080/"
        },
        "id": "64VedfSLYMRV",
        "outputId": "948c76aa-ca7a-44f6-901c-8cfa713f04ea"
      },
      "source": [
        "df.info()"
      ],
      "execution_count": 116,
      "outputs": [
        {
          "output_type": "stream",
          "text": [
            "<class 'pandas.core.frame.DataFrame'>\n",
            "RangeIndex: 2939 entries, 0 to 2938\n",
            "Data columns (total 7 columns):\n",
            " #   Column  Non-Null Count  Dtype  \n",
            "---  ------  --------------  -----  \n",
            " 0   col1    2939 non-null   float64\n",
            " 1   col2    2939 non-null   int64  \n",
            " 2   col3    2939 non-null   int64  \n",
            " 3   col4    2939 non-null   int64  \n",
            " 4   col6    2939 non-null   float64\n",
            " 5   col7    2939 non-null   float64\n",
            " 6   col8    2939 non-null   float64\n",
            "dtypes: float64(4), int64(3)\n",
            "memory usage: 160.9 KB\n"
          ],
          "name": "stdout"
        }
      ]
    },
    {
      "cell_type": "code",
      "metadata": {
        "colab": {
          "base_uri": "https://localhost:8080/"
        },
        "id": "GM5sE295V5Z8",
        "outputId": "f4a29633-574b-4bb6-9abb-a151103b94f1"
      },
      "source": [
        "print(df.shape)\n",
        "print(X.shape)\n",
        "print(y.shape)"
      ],
      "execution_count": 117,
      "outputs": [
        {
          "output_type": "stream",
          "text": [
            "(2939, 7)\n",
            "(2939, 6)\n",
            "(2939,)\n"
          ],
          "name": "stdout"
        }
      ]
    },
    {
      "cell_type": "code",
      "metadata": {
        "colab": {
          "base_uri": "https://localhost:8080/",
          "height": 195
        },
        "id": "RcGOGgDSWQIw",
        "outputId": "5e9cd631-145c-44df-a4f4-aa4b5470ab21"
      },
      "source": [
        "X_train, X_test, y_train, y_test = train_test_split(X, y, test_size = 0.3, random_state = 10)\n",
        "X_train.head()"
      ],
      "execution_count": 118,
      "outputs": [
        {
          "output_type": "execute_result",
          "data": {
            "text/html": [
              "<div>\n",
              "<style scoped>\n",
              "    .dataframe tbody tr th:only-of-type {\n",
              "        vertical-align: middle;\n",
              "    }\n",
              "\n",
              "    .dataframe tbody tr th {\n",
              "        vertical-align: top;\n",
              "    }\n",
              "\n",
              "    .dataframe thead th {\n",
              "        text-align: right;\n",
              "    }\n",
              "</style>\n",
              "<table border=\"1\" class=\"dataframe\">\n",
              "  <thead>\n",
              "    <tr style=\"text-align: right;\">\n",
              "      <th></th>\n",
              "      <th>col1</th>\n",
              "      <th>col2</th>\n",
              "      <th>col3</th>\n",
              "      <th>col4</th>\n",
              "      <th>col6</th>\n",
              "      <th>col7</th>\n",
              "    </tr>\n",
              "  </thead>\n",
              "  <tbody>\n",
              "    <tr>\n",
              "      <th>5</th>\n",
              "      <td>-9.0</td>\n",
              "      <td>-9</td>\n",
              "      <td>-9</td>\n",
              "      <td>-9</td>\n",
              "      <td>-9.000000</td>\n",
              "      <td>-9.000000</td>\n",
              "    </tr>\n",
              "    <tr>\n",
              "      <th>252</th>\n",
              "      <td>0.0</td>\n",
              "      <td>0</td>\n",
              "      <td>0</td>\n",
              "      <td>0</td>\n",
              "      <td>21.000000</td>\n",
              "      <td>-9.000000</td>\n",
              "    </tr>\n",
              "    <tr>\n",
              "      <th>199</th>\n",
              "      <td>1274.0</td>\n",
              "      <td>0</td>\n",
              "      <td>43</td>\n",
              "      <td>0</td>\n",
              "      <td>0.000000</td>\n",
              "      <td>0.000000</td>\n",
              "    </tr>\n",
              "    <tr>\n",
              "      <th>1118</th>\n",
              "      <td>1.0</td>\n",
              "      <td>1</td>\n",
              "      <td>-9</td>\n",
              "      <td>-9</td>\n",
              "      <td>8.719471</td>\n",
              "      <td>5.419282</td>\n",
              "    </tr>\n",
              "    <tr>\n",
              "      <th>886</th>\n",
              "      <td>12.0</td>\n",
              "      <td>86</td>\n",
              "      <td>2</td>\n",
              "      <td>-9</td>\n",
              "      <td>2.000000</td>\n",
              "      <td>-9.000000</td>\n",
              "    </tr>\n",
              "  </tbody>\n",
              "</table>\n",
              "</div>"
            ],
            "text/plain": [
              "        col1  col2  col3  col4       col6      col7\n",
              "5       -9.0    -9    -9    -9  -9.000000 -9.000000\n",
              "252      0.0     0     0     0  21.000000 -9.000000\n",
              "199   1274.0     0    43     0   0.000000  0.000000\n",
              "1118     1.0     1    -9    -9   8.719471  5.419282\n",
              "886     12.0    86     2    -9   2.000000 -9.000000"
            ]
          },
          "metadata": {
            "tags": []
          },
          "execution_count": 118
        }
      ]
    },
    {
      "cell_type": "code",
      "metadata": {
        "colab": {
          "base_uri": "https://localhost:8080/",
          "height": 195
        },
        "id": "SSAvzOVoWV6Y",
        "outputId": "bd08f3bd-6ab7-4071-ba1a-2805156676aa"
      },
      "source": [
        "X_test.head()"
      ],
      "execution_count": 119,
      "outputs": [
        {
          "output_type": "execute_result",
          "data": {
            "text/html": [
              "<div>\n",
              "<style scoped>\n",
              "    .dataframe tbody tr th:only-of-type {\n",
              "        vertical-align: middle;\n",
              "    }\n",
              "\n",
              "    .dataframe tbody tr th {\n",
              "        vertical-align: top;\n",
              "    }\n",
              "\n",
              "    .dataframe thead th {\n",
              "        text-align: right;\n",
              "    }\n",
              "</style>\n",
              "<table border=\"1\" class=\"dataframe\">\n",
              "  <thead>\n",
              "    <tr style=\"text-align: right;\">\n",
              "      <th></th>\n",
              "      <th>col1</th>\n",
              "      <th>col2</th>\n",
              "      <th>col3</th>\n",
              "      <th>col4</th>\n",
              "      <th>col6</th>\n",
              "      <th>col7</th>\n",
              "    </tr>\n",
              "  </thead>\n",
              "  <tbody>\n",
              "    <tr>\n",
              "      <th>675</th>\n",
              "      <td>-9.0</td>\n",
              "      <td>-9</td>\n",
              "      <td>-9</td>\n",
              "      <td>-9</td>\n",
              "      <td>-9.0</td>\n",
              "      <td>-9.0</td>\n",
              "    </tr>\n",
              "    <tr>\n",
              "      <th>862</th>\n",
              "      <td>0.0</td>\n",
              "      <td>0</td>\n",
              "      <td>0</td>\n",
              "      <td>0</td>\n",
              "      <td>4.0</td>\n",
              "      <td>3.0</td>\n",
              "    </tr>\n",
              "    <tr>\n",
              "      <th>183</th>\n",
              "      <td>125.0</td>\n",
              "      <td>73</td>\n",
              "      <td>176</td>\n",
              "      <td>80</td>\n",
              "      <td>74.0</td>\n",
              "      <td>0.0</td>\n",
              "    </tr>\n",
              "    <tr>\n",
              "      <th>2061</th>\n",
              "      <td>0.0</td>\n",
              "      <td>-9</td>\n",
              "      <td>-9</td>\n",
              "      <td>0</td>\n",
              "      <td>26.0</td>\n",
              "      <td>85.0</td>\n",
              "    </tr>\n",
              "    <tr>\n",
              "      <th>955</th>\n",
              "      <td>-9.0</td>\n",
              "      <td>-9</td>\n",
              "      <td>-9</td>\n",
              "      <td>-9</td>\n",
              "      <td>-9.0</td>\n",
              "      <td>-9.0</td>\n",
              "    </tr>\n",
              "  </tbody>\n",
              "</table>\n",
              "</div>"
            ],
            "text/plain": [
              "       col1  col2  col3  col4  col6  col7\n",
              "675    -9.0    -9    -9    -9  -9.0  -9.0\n",
              "862     0.0     0     0     0   4.0   3.0\n",
              "183   125.0    73   176    80  74.0   0.0\n",
              "2061    0.0    -9    -9     0  26.0  85.0\n",
              "955    -9.0    -9    -9    -9  -9.0  -9.0"
            ]
          },
          "metadata": {
            "tags": []
          },
          "execution_count": 119
        }
      ]
    },
    {
      "cell_type": "markdown",
      "metadata": {
        "id": "RV1-Rt2KWk5y"
      },
      "source": [
        "Naive Bayes"
      ]
    },
    {
      "cell_type": "code",
      "metadata": {
        "id": "Hn1vrqlzWaRf"
      },
      "source": [
        "means = X_train.groupby(y_train).apply(np.mean) \n",
        "stds = X_train.groupby(y_train).apply(np.std)\n",
        "probs = X_train.groupby(y_train).apply(lambda x: len(x))/X_train.shape[0]"
      ],
      "execution_count": 120,
      "outputs": []
    },
    {
      "cell_type": "code",
      "metadata": {
        "colab": {
          "base_uri": "https://localhost:8080/"
        },
        "id": "s503aZfTWnoJ",
        "outputId": "7bfccf49-fdf7-44b9-bd90-57ffb6242b48"
      },
      "source": [
        "print(means)\n",
        "print(stds)\n",
        "print(probs)"
      ],
      "execution_count": 121,
      "outputs": [
        {
          "output_type": "stream",
          "text": [
            "                  col1       col2       col3       col4       col6       col7\n",
            "col8                                                                         \n",
            "-9.000000     1.798322  22.724832  52.994966   2.494966  -8.270134  -8.565436\n",
            "-1.500638   611.269036   0.565990  23.043147  -4.086294   4.536286   2.951167\n",
            " 0.000000    71.711864  36.888620  88.782082  49.559322  50.615012  41.438257\n",
            " 1.000000    -7.659389  -4.951965  -8.441048  -7.462882   0.432314   0.445415\n",
            " 2.000000    10.359375  54.546875   0.234375  -5.859375  -3.820312  -7.031250\n",
            " 3.000000    -5.463415  -5.682927  -5.463415  -5.073171  -3.987805  -6.487805\n",
            " 4.000000    -3.926829  -4.121951  -3.926829  -3.146341  -0.060976  -4.243902\n",
            " 5.000000    -3.410959  -3.260274  -3.410959  -2.904110   3.130137  -5.547945\n",
            " 5.400000     1.000000   1.000000   1.000000   0.000000  11.000000  10.000000\n",
            " 6.000000    -2.444444  -2.592593  -2.611111  -2.388889   5.601852  -5.620370\n",
            " 7.000000    -2.984127  -2.984127  -2.984127  -2.301587   6.222222  -5.642857\n",
            " 7.500000     0.000000   0.000000   0.000000   0.000000  13.000000  12.000000\n",
            " 8.000000    -8.100000  -8.100000  -8.100000  -8.100000  -6.200000  -9.000000\n",
            " 9.000000    -4.468750  -4.468750  -4.468750  -3.125000   3.687500  -7.390625\n",
            " 10.000000   -7.500000  -7.500000  -7.500000  -6.833333  -4.666667  -9.000000\n",
            " 11.000000   -8.400000  -8.400000  -8.400000  -6.533333  -5.666667  -9.000000\n",
            " 12.000000   -9.000000  -9.000000  -9.000000  -9.000000  -9.000000  -9.000000\n",
            "                  col1       col2       col3       col4       col6       col7\n",
            "col8                                                                         \n",
            "-9.000000    12.463584  38.832001  61.115785  10.066972   4.466412   4.991343\n",
            "-1.500638   692.611829   0.646710  29.411412   4.874326   4.155908   2.468780\n",
            " 0.000000    71.738102  45.096262  96.365180  48.656422  35.739703  42.471517\n",
            " 1.000000     5.559300  17.361362   2.392176   3.826439   2.315885   2.319998\n",
            " 2.000000    12.586410  42.467241   4.148577   4.746272   5.780062   4.406028\n",
            " 3.000000     4.423317   4.369735   4.423317   4.785090   6.395967   4.774791\n",
            " 4.000000     4.490588   4.538159   4.490588   4.911713   7.731938   6.691022\n",
            " 5.000000     4.413043   4.407426   4.413043   4.490978   8.923583   7.019622\n",
            " 5.400000     0.000000   0.000000   0.000000   0.000000   0.000000   0.000000\n",
            " 6.000000     4.071885   4.165638   4.151825   4.178502   9.545883   7.154987\n",
            " 7.000000     4.255686   4.255686   4.255686   4.399260  11.205787   7.838868\n",
            " 7.500000     0.000000   0.000000   0.000000   0.000000   0.000000   0.000000\n",
            " 8.000000     2.700000   2.700000   2.700000   2.700000   8.400000   0.000000\n",
            " 9.000000     4.534482   4.534482   4.534482   5.146297  11.980290   6.258412\n",
            " 10.000000    3.354102   3.354102   3.354102   4.099458   8.730534   0.000000\n",
            " 11.000000    2.244994   2.244994   2.244994   5.097276   7.888106   0.000000\n",
            " 12.000000    0.000000   0.000000   0.000000   0.000000   0.000000   0.000000\n",
            "col8\n",
            "-9.000000     0.289742\n",
            "-1.500638     0.191541\n",
            " 0.000000     0.200778\n",
            " 1.000000     0.111327\n",
            " 2.000000     0.031113\n",
            " 3.000000     0.019932\n",
            " 4.000000     0.019932\n",
            " 5.000000     0.035489\n",
            " 5.400000     0.000486\n",
            " 6.000000     0.026252\n",
            " 7.000000     0.030627\n",
            " 7.500000     0.000486\n",
            " 8.000000     0.004861\n",
            " 9.000000     0.015557\n",
            " 10.000000    0.008751\n",
            " 11.000000    0.007292\n",
            " 12.000000    0.005834\n",
            "dtype: float64\n"
          ],
          "name": "stdout"
        }
      ]
    },
    {
      "cell_type": "markdown",
      "metadata": {
        "id": "J_53RH0tXAoA"
      },
      "source": [
        "Function to perform naive baiyes classification"
      ]
    },
    {
      "cell_type": "code",
      "metadata": {
        "colab": {
          "base_uri": "https://localhost:8080/"
        },
        "id": "HP3BtJacZE8M",
        "outputId": "57de06a6-0bdc-43cf-edea-5f2fea7521a7"
      },
      "source": [
        "from sklearn.linear_model import LinearRegression\r\n",
        "model = LinearRegression()\r\n",
        "model.fit(X_train, y_train)"
      ],
      "execution_count": 122,
      "outputs": [
        {
          "output_type": "execute_result",
          "data": {
            "text/plain": [
              "LinearRegression(copy_X=True, fit_intercept=True, n_jobs=None, normalize=False)"
            ]
          },
          "metadata": {
            "tags": []
          },
          "execution_count": 122
        }
      ]
    },
    {
      "cell_type": "code",
      "metadata": {
        "id": "ZYXTPdU5XWjX"
      },
      "source": [
        "y_pred = model.predict(X_test)"
      ],
      "execution_count": 123,
      "outputs": []
    },
    {
      "cell_type": "code",
      "metadata": {
        "colab": {
          "base_uri": "https://localhost:8080/"
        },
        "id": "Fm-gEwWoZitS",
        "outputId": "d85b73d6-192d-48e0-f8fa-25a779527fe7"
      },
      "source": [
        "from sklearn.metrics import mean_squared_error\r\n",
        "mean_squared_error(y_test, y_pred)"
      ],
      "execution_count": 124,
      "outputs": [
        {
          "output_type": "execute_result",
          "data": {
            "text/plain": [
              "14.845411024451467"
            ]
          },
          "metadata": {
            "tags": []
          },
          "execution_count": 124
        }
      ]
    },
    {
      "cell_type": "code",
      "metadata": {
        "colab": {
          "base_uri": "https://localhost:8080/"
        },
        "id": "HzaX5WkLbXE9",
        "outputId": "479c6690-788b-413f-9478-b06e57ab8630"
      },
      "source": [
        "# Predicting the Test set results\r\n",
        "from sklearn.metrics import mean_squared_error\r\n",
        "y_pred = model.predict(X_test)\r\n",
        "print('Coefficients: \\n', model.coef_)\r\n",
        "# The mean squared error\r\n",
        "print(\"Mean squared error: %.2f\" % mean_squared_error(y_test, y_pred))\r\n",
        "# Explained variance score: 1 is perfect prediction\r\n",
        "print('Variance score: %.2f' % model.score(X_test, y_test))"
      ],
      "execution_count": 125,
      "outputs": [
        {
          "output_type": "stream",
          "text": [
            "Coefficients: \n",
            " [ 0.00080917 -0.06158086 -0.04501709 -0.11864999  0.28804053 -0.06046657]\n",
            "Mean squared error: 14.85\n",
            "Variance score: 0.50\n"
          ],
          "name": "stdout"
        }
      ]
    },
    {
      "cell_type": "code",
      "metadata": {
        "id": "zeUWNbB2auWc"
      },
      "source": [
        "from sklearn.metrics import mean_squared_error,mean_absolute_error,r2_score\n",
        "from sklearn.metrics import mean_squared_log_error,explained_variance_score\n",
        "from sklearn import metrics"
      ],
      "execution_count": 126,
      "outputs": []
    },
    {
      "cell_type": "code",
      "metadata": {
        "id": "gAMi7rPwav7M",
        "colab": {
          "base_uri": "https://localhost:8080/"
        },
        "outputId": "8b12dfa5-81d1-44a9-f1de-68dd86327dc7"
      },
      "source": [
        "prediction = model.predict(X_test)\n",
        "print('\\n\\nMetrics for model evualtion:\\n\\n')\n",
        "\n",
        "mean_sq_error = mean_squared_error(y_test,prediction)\n",
        "mean_abs_error = mean_absolute_error(y_test,prediction)\n",
        "R2_score = metrics.r2_score(y_test,prediction)\n",
        "explained_variance_score = metrics.explained_variance_score( y_test,prediction, multioutput='uniform_average')\n",
        "\n",
        "print(f' Mean-sq-error            : {mean_sq_error}\\n\\n Mean-abs-error           : {mean_abs_error}\\n\\n R2-score                 : {R2_score}\\n\\n Explained-variance-score : {explained_variance_score}\\n')\n"
      ],
      "execution_count": 127,
      "outputs": [
        {
          "output_type": "stream",
          "text": [
            "\n",
            "\n",
            "Metrics for model evualtion:\n",
            "\n",
            "\n",
            " Mean-sq-error            : 14.845411024451467\n",
            "\n",
            " Mean-abs-error           : 2.932858061697213\n",
            "\n",
            " R2-score                 : 0.5042264898652904\n",
            "\n",
            " Explained-variance-score : 0.5042800231737037\n",
            "\n"
          ],
          "name": "stdout"
        }
      ]
    },
    {
      "cell_type": "code",
      "metadata": {
        "id": "2QLQHtJwdaa6"
      },
      "source": [
        "from sklearn.naive_bayes import GaussianNB, BernoulliNB, MultinomialNB\n",
        "from sklearn import linear_model\n",
        "clf = linear_model.BayesianRidge()"
      ],
      "execution_count": 128,
      "outputs": []
    },
    {
      "cell_type": "code",
      "metadata": {
        "colab": {
          "base_uri": "https://localhost:8080/"
        },
        "id": "Dytb0ugTdweS",
        "outputId": "50df1ab9-552c-40ad-c338-d8338743fce0"
      },
      "source": [
        "clf.fit(X_train,y_train)"
      ],
      "execution_count": 129,
      "outputs": [
        {
          "output_type": "execute_result",
          "data": {
            "text/plain": [
              "BayesianRidge(alpha_1=1e-06, alpha_2=1e-06, alpha_init=None,\n",
              "              compute_score=False, copy_X=True, fit_intercept=True,\n",
              "              lambda_1=1e-06, lambda_2=1e-06, lambda_init=None, n_iter=300,\n",
              "              normalize=False, tol=0.001, verbose=False)"
            ]
          },
          "metadata": {
            "tags": []
          },
          "execution_count": 129
        }
      ]
    },
    {
      "cell_type": "code",
      "metadata": {
        "colab": {
          "base_uri": "https://localhost:8080/"
        },
        "id": "PfKxUWVkdyb_",
        "outputId": "c1f76df7-801f-4918-b41c-af1013e329c2"
      },
      "source": [
        "clf.predict(X_test)"
      ],
      "execution_count": 130,
      "outputs": [
        {
          "output_type": "execute_result",
          "data": {
            "text/plain": [
              "array([-4.91837783e-01,  5.03431612e-01, -9.68429143e-01,  2.83431730e+00,\n",
              "       -4.91837783e-01, -8.16444851e+00, -4.38058429e+00, -1.17461760e+00,\n",
              "        4.81811336e-01, -1.63795876e+00,  3.42544508e+00,  1.79779014e+00,\n",
              "        3.11018373e+00,  4.81811336e-01, -6.84498260e+00,  3.16933669e+00,\n",
              "       -1.38193335e+00, -6.65143767e+00,  1.77135964e+00,  3.11018373e+00,\n",
              "        3.11018373e+00, -4.86758930e+00, -4.91837783e-01, -2.03584198e+00,\n",
              "       -8.26701219e+00, -3.79997882e+00,  4.81811336e-01, -8.29312815e-01,\n",
              "       -6.64819606e+00, -5.51692933e+00, -3.60390807e+00, -4.91837783e-01,\n",
              "       -6.64819606e+00, -8.88208580e+00,  5.80798558e+00,  2.08423267e+00,\n",
              "        3.11018373e+00,  6.85583527e-01,  1.77135964e+00, -4.91837783e-01,\n",
              "       -4.21824928e+00,  5.23510052e+00,  1.77135964e+00,  1.43877198e+00,\n",
              "        4.08933039e+00, -1.04138942e+01,  5.99043001e-01,  2.94356027e+00,\n",
              "       -4.91837783e-01, -6.58671954e+00,  1.96211733e-01,  3.98008743e+00,\n",
              "       -4.91837783e-01,  2.08407779e+00,  1.21245223e+00, -4.91837783e-01,\n",
              "       -2.54796800e+00,  1.77135964e+00, -2.66411444e+00, -1.06066588e+00,\n",
              "       -1.88108964e+00, -9.96286081e+00,  1.63503032e+00,  8.29219585e-01,\n",
              "       -5.80540365e+00,  1.77135964e+00, -1.96799773e+00,  1.98159564e+00,\n",
              "        3.11018373e+00,  1.77135964e+00, -5.30706280e+00, -2.38177105e+00,\n",
              "       -6.66764575e+00, -4.56901052e+00, -2.25031274e+00, -4.44699156e+00,\n",
              "       -5.12733346e+00, -3.64103758e+00, -1.73792745e+00,  3.11018373e+00,\n",
              "       -4.91837783e-01, -1.57988896e+00, -6.60292762e+00, -1.56455584e+00,\n",
              "       -8.49252890e+00, -3.77634760e+00, -1.98237657e+00,  3.51644533e+00,\n",
              "        1.63503032e+00, -2.10794052e+00, -4.05386573e-01,  1.18239084e+00,\n",
              "       -2.25031274e+00,  3.11018373e+00,  2.65711774e+00, -4.20864466e+00,\n",
              "        3.11018373e+00, -2.27463554e-01, -4.91837783e-01, -8.73271359e+00,\n",
              "       -9.96858218e+00, -6.72750145e+00,  7.89874144e-01, -1.10753557e+00,\n",
              "       -6.62858127e+00, -4.91837783e-01, -4.91837783e-01,  5.52154305e+00,\n",
              "       -4.91837783e-01,  4.81811336e-01, -4.91837783e-01,  4.12454749e+00,\n",
              "       -4.91837783e-01, -4.91837783e-01, -1.58939909e+00,  3.11018373e+00,\n",
              "        3.11018373e+00, -8.28168018e+00,  1.77135964e+00, -6.82435647e+00,\n",
              "        4.81811336e-01, -8.15872715e+00, -2.59489922e+00, -4.44042257e+00,\n",
              "       -3.51937717e+00, -4.91837783e-01,  4.81811336e-01, -9.02307985e-02,\n",
              "        2.44249820e+00,  2.65711774e+00, -1.63967512e+00, -6.66602494e+00,\n",
              "        3.23000280e+00,  3.11018373e+00, -6.60454843e+00, -1.52996035e+00,\n",
              "       -8.49252890e+00, -2.93764760e+00,  6.46087511e-01,  1.77135964e+00,\n",
              "       -4.91837783e-01,  3.11018373e+00,  1.30627119e+00,  1.77135964e+00,\n",
              "        3.12075984e+00, -6.78064445e+00,  5.03431612e-01, -4.21824928e+00,\n",
              "       -3.75571468e+00, -4.91837783e-01,  5.52235346e+00,  1.77135964e+00,\n",
              "       -5.14541182e+00, -1.90314228e+00, -9.43078406e-01,  3.11018373e+00,\n",
              "       -4.91837783e-01,  3.11018373e+00, -4.91837783e-01,  6.14112570e-01,\n",
              "       -9.49558393e-01,  2.08154383e+00,  4.94865799e+00, -4.91837783e-01,\n",
              "       -9.39459573e+00, -1.74238863e+00,  1.17601323e+00, -3.08190424e+00,\n",
              "       -2.87446589e+00, -4.38058429e+00, -8.94356232e+00,  2.82675182e+00,\n",
              "       -2.16248704e+00, -6.87189102e+00, -3.81398371e+00,  3.11342534e+00,\n",
              "       -8.19989434e+00,  7.54953225e-01, -2.14266153e+00, -1.03244490e+00,\n",
              "       -6.65711050e+00, -1.04896039e-01, -8.06073323e+00,  3.11018373e+00,\n",
              "        4.81811336e-01,  3.11018373e+00, -4.91837783e-01, -4.91837783e-01,\n",
              "       -8.84099864e+00, -4.38058429e+00,  3.11018373e+00, -4.16054903e+00,\n",
              "       -4.91837783e-01, -4.91837783e-01, -9.29203205e+00,  1.56830160e+00,\n",
              "        2.66078717e+00, -2.24770735e+00,  1.80122728e+00,  4.55563560e+00,\n",
              "       -3.01080095e-02,  2.37411234e+00, -7.17381565e+00, -2.66821358e+00,\n",
              "       -1.43202546e+00, -6.70643096e+00,  1.00602043e+00,  2.94356027e+00,\n",
              "        3.11018373e+00, -4.86758930e+00,  2.00722088e+00,  1.77135964e+00,\n",
              "        3.22984791e+00,  3.40720237e+00,  1.77135964e+00,  3.40986548e+00,\n",
              "       -1.54905165e+00, -1.80888599e+00, -4.91837783e-01, -4.93878387e+00,\n",
              "        3.11018373e+00,  5.23510052e+00,  6.52722667e-01,  7.89800689e-02,\n",
              "        2.83431730e+00, -4.33292638e+00, -6.49895223e+00, -8.04149548e+00,\n",
              "       -1.82812676e+00, -4.91837783e-01, -4.91837783e-01,  1.77135964e+00,\n",
              "       -7.71341510e+00,  9.86132491e-01, -2.91956923e+00, -8.49252890e+00,\n",
              "        1.15659450e+00,  1.62842439e+00,  1.79779014e+00,  1.77135964e+00,\n",
              "       -4.91837783e-01, -6.64819606e+00,  2.37067521e+00,  3.52744795e+00,\n",
              "       -6.63992692e+00, -1.74603148e+00, -2.02783950e+00,  3.11504615e+00,\n",
              "       -3.24423925e+00,  5.03431612e-01, -4.91837783e-01, -4.91837783e-01,\n",
              "        1.77135964e+00, -4.71564069e+00,  1.77135964e+00, -2.29050583e+00,\n",
              "       -4.91837783e-01,  4.32665275e+00, -4.61411386e+00, -1.00243373e+01,\n",
              "        7.29751354e-01,  3.11018373e+00,  1.77135964e+00, -4.91837783e-01,\n",
              "        4.26652996e+00, -4.91837783e-01, -3.73124426e+00, -4.85922900e+00,\n",
              "        3.11018373e+00,  5.52154305e+00,  1.77135964e+00,  1.02209397e+00,\n",
              "       -9.06651534e+00, -1.70398039e+00,  6.14112570e-01, -1.72739220e+00,\n",
              "       -8.60976056e+00,  2.88687461e+00, -1.53603880e+00, -1.24852340e+00,\n",
              "       -1.17329216e+00, -1.52101613e+00, -8.88038061e+00, -4.05591427e+00,\n",
              "        1.77135964e+00,  3.11018373e+00,  1.77135964e+00, -9.90710566e+00,\n",
              "       -8.61548193e+00, -4.21826000e-01,  3.11018373e+00,  3.11018373e+00,\n",
              "       -4.70501872e-02,  5.23510052e+00,  2.55478542e+00, -1.15912951e+00,\n",
              "        3.11018373e+00, -7.45770597e-01,  1.66509172e+00, -4.91837783e-01,\n",
              "       -8.04149548e+00,  2.02788353e+00,  3.27670039e-01, -2.95631196e+00,\n",
              "       -9.06079398e+00,  4.81811336e-01, -1.84127353e+00,  3.11018373e+00,\n",
              "       -5.49629641e+00, -1.29310980e+00, -4.65812495e+00, -1.82894453e+00,\n",
              "       -4.91837783e-01,  1.77135964e+00, -6.78573635e+00, -4.91837783e-01,\n",
              "       -8.73271359e+00, -7.49786320e+00,  2.37067521e+00, -1.18899475e+01,\n",
              "        3.11018373e+00,  1.77135964e+00,  1.77135964e+00, -4.71497235e+00,\n",
              "        1.77135964e+00, -2.18087685e+00, -6.43232702e-01, -4.38058429e+00,\n",
              "       -4.91837783e-01, -4.91837783e-01, -1.17587814e+00, -4.58802263e+00,\n",
              "       -8.04149548e+00, -4.91837783e-01, -4.52980262e-01,  8.75441468e+00,\n",
              "       -2.00857489e+00, -6.52848464e+00, -8.18044465e+00, -3.73124426e+00,\n",
              "       -1.71388723e+00, -1.23600092e+00, -1.04188326e+00,  1.77135964e+00,\n",
              "        4.94865799e+00, -7.80362178e+00, -4.65921720e+00, -1.12691285e+00,\n",
              "        2.08407779e+00, -8.26701219e+00,  1.55138094e+00, -7.07749177e+00,\n",
              "       -6.71453499e+00, -3.87410650e+00, -5.00289933e+00,  3.23000280e+00,\n",
              "       -3.48581746e+00, -4.91837783e-01, -2.33496754e-01, -1.72725609e+00,\n",
              "       -2.23917850e+00, -4.91837783e-01, -1.00858138e+01, -1.41625196e+00,\n",
              "       -7.77787902e-01,  1.18239084e+00, -2.36754441e+00,  1.77135964e+00,\n",
              "       -6.65305848e+00, -4.21703367e+00, -9.96858218e+00, -1.41034146e+00,\n",
              "        7.29751354e-01, -1.05368473e+01, -4.84056432e+00, -4.91837783e-01,\n",
              "       -1.78003368e+00, -4.91837783e-01,  6.79365031e-01,  5.45440162e-01,\n",
              "       -7.79689095e-01, -8.18287586e+00, -5.95708685e+00, -2.15248533e+00,\n",
              "       -4.91837783e-01,  3.11342534e+00,  3.11585655e+00,  6.14112570e-01,\n",
              "       -9.51754876e+00, -4.91837783e-01, -4.91837783e-01, -3.60796009e+00,\n",
              "        2.65711774e+00, -2.39005511e+00, -1.37139073e+00,  4.81811336e-01,\n",
              "       -1.64439649e+00,  3.11018373e+00, -7.41855780e+00, -4.91837783e-01,\n",
              "        1.40557816e+00, -5.19754130e+00, -8.49252890e+00,  3.11018373e+00,\n",
              "       -1.85515879e-01, -6.65630010e+00,  1.53410222e+00, -4.91837783e-01,\n",
              "       -4.91837783e-01, -3.00977592e+00, -4.45271261e+00, -4.91837783e-01,\n",
              "       -1.86942756e+00, -8.77626679e+00,  3.11018373e+00,  1.77135964e+00,\n",
              "        1.77135964e+00,  1.77135964e+00, -7.18349685e-01, -1.23015840e+00,\n",
              "        2.95456288e+00, -3.72229423e+00,  3.11018373e+00,  3.11018373e+00,\n",
              "        1.78483161e+00,  3.91996464e+00, -6.53983030e+00, -2.72532246e+00,\n",
              "        1.77135964e+00, -4.91837783e-01,  2.43372944e+00, -9.39459573e+00,\n",
              "       -1.90917450e+00,  2.65711774e+00,  3.11018373e+00,  3.11018373e+00,\n",
              "        5.42777053e-01,  3.11018373e+00, -1.86217109e+00, -1.88673507e+00,\n",
              "       -9.06651534e+00,  1.63503032e+00, -4.91837783e-01,  3.11018373e+00,\n",
              "       -1.36899668e+00, -3.98018066e+00, -9.02307985e-02, -4.05591427e+00,\n",
              "        1.77135964e+00,  4.66221546e+00,  4.08933039e+00, -4.30845596e+00,\n",
              "        3.11018373e+00, -2.67704473e-01, -9.77898372e-01,  2.50680510e+00,\n",
              "        4.31564960e-02, -4.91837783e-01, -8.04149548e+00,  4.41584589e-01,\n",
              "       -4.82887802e+00, -9.84562915e+00, -9.73058922e-04,  3.18489946e+00,\n",
              "        2.68956221e+00,  1.77135964e+00, -1.16102958e+00, -6.64657525e+00,\n",
              "       -3.65792585e+00, -1.11987294e+01, -4.91837783e-01,  3.11018373e+00,\n",
              "       -6.73094401e+00, -7.87745529e+00, -2.91956923e+00,  1.77135964e+00,\n",
              "       -6.19155017e+00,  2.37067521e+00,  4.08933039e+00,  2.22036257e+00,\n",
              "       -2.12140833e+00, -6.60101947e-01,  3.11018373e+00, -4.91837783e-01,\n",
              "       -4.91837783e-01, -9.84562915e+00, -6.79809335e+00, -2.08038679e+00,\n",
              "        3.11018373e+00,  1.77135964e+00, -6.58996116e+00, -3.74660646e+00,\n",
              "        1.77135964e+00, -1.35761387e+00, -4.91837783e-01, -1.43946464e+00,\n",
              "       -4.91837783e-01,  8.76883232e-01, -3.73124426e+00, -6.79825845e+00,\n",
              "        1.75477021e+00, -5.23736266e+00, -4.54291929e+00, -2.39124537e+00,\n",
              "        3.11018373e+00,  7.29751354e-01,  2.26143224e+00,  5.52154305e+00,\n",
              "       -6.54388232e+00, -4.91837783e-01, -2.75723423e+00, -1.71526354e+00,\n",
              "       -2.21542492e+00,  3.11018373e+00,  3.11018373e+00, -6.98595724e+00,\n",
              "       -1.58270577e+00,  4.21982866e-01,  4.04021022e+00, -4.91837783e-01,\n",
              "       -4.91837783e-01, -6.72831186e+00, -6.76795147e+00, -2.15545131e+00,\n",
              "       -1.62960518e+00, -4.91837783e-01,  2.76662904e+00, -7.65193858e+00,\n",
              "       -4.77738262e+00,  3.51644533e+00,  2.08766981e+00,  3.11018373e+00,\n",
              "        3.11018373e+00,  1.18239084e+00,  3.11018373e+00, -1.47674321e+00,\n",
              "       -6.69816182e+00, -8.55400541e+00, -3.93868261e+00,  1.77135964e+00,\n",
              "        5.99043001e-01,  1.77135964e+00,  5.42777053e-01, -8.23867955e+00,\n",
              "       -4.23632764e+00,  3.81832309e-01,  3.40720237e+00, -1.74468018e+00,\n",
              "        9.49465163e-01,  4.60073894e+00, -3.49678093e+00, -2.96467258e+00,\n",
              "       -3.82957108e+00,  3.51644533e+00, -6.65305848e+00, -6.58428833e+00,\n",
              "        1.77135964e+00, -4.91837783e-01, -8.94356232e+00, -8.22190885e+00,\n",
              "        3.11018373e+00, -5.30949098e+00, -2.11361095e+00, -3.52380592e+00,\n",
              "       -8.16444851e+00,  1.21245223e+00, -1.80888599e+00, -4.91837783e-01,\n",
              "        4.80543672e+00, -9.98996261e-01,  3.52744795e+00, -9.76079661e-01,\n",
              "       -1.99398762e+00, -3.24109864e+00, -2.29623645e+00,  3.11018373e+00,\n",
              "       -4.91837783e-01, -6.65954171e+00,  9.86132491e-01,  2.31398955e+00,\n",
              "       -4.91837783e-01, -1.75089391e+00,  3.28086407e+00, -8.84957484e-01,\n",
              "       -6.65711050e+00,  3.11018373e+00,  3.05113842e+00, -5.04800267e+00,\n",
              "        7.29751354e-01, -3.64560470e+00, -3.92005787e+00,  3.11018373e+00,\n",
              "       -7.69190026e-01, -6.78816756e+00,  1.77135964e+00, -4.91837783e-01,\n",
              "       -1.68905135e+00,  3.11180453e+00,  3.69364490e+00, -1.10376282e+00,\n",
              "       -1.65042148e+00, -6.58347793e+00, -2.07281887e+00, -9.98976237e-01,\n",
              "       -2.16763112e+00, -9.51182740e+00, -4.91837783e-01,  3.11018373e+00,\n",
              "        2.94356027e+00, -8.61548193e+00, -1.35754470e+00,  3.11018373e+00,\n",
              "        4.81811336e-01, -6.59239237e+00,  2.54787477e+00, -4.91837783e-01,\n",
              "       -6.49093936e+00, -6.70805177e+00, -8.10297200e+00,  1.77135964e+00,\n",
              "       -3.16550541e-01, -6.87432223e+00,  1.92365557e+00, -8.40470314e-01,\n",
              "        1.77135964e+00,  1.77135964e+00, -3.92973599e+00, -1.92130316e+00,\n",
              "       -8.55400541e+00, -4.91837783e-01,  3.11018373e+00, -2.17249355e+00,\n",
              "        1.06501807e+00,  2.89444009e+00,  2.20130945e+00,  2.32462589e+00,\n",
              "        1.77135964e+00, -3.85010968e+00,  3.11018373e+00, -6.58347793e+00,\n",
              "        1.79779014e+00, -2.55611159e+00, -5.95668164e+00, -1.46406578e+00,\n",
              "       -1.63218698e+00, -1.93865349e+00, -8.10297200e+00,  3.44166715e-01,\n",
              "        1.96776074e+00, -4.33782205e-01, -9.06651534e+00, -3.80203363e+00,\n",
              "       -2.64000256e+00, -6.64495444e+00,  3.85556213e+00,  3.11018373e+00,\n",
              "        1.77135964e+00, -5.39876391e+00, -4.91837783e-01, -8.16444851e+00,\n",
              "        1.74866997e+00,  3.11018373e+00, -8.04149548e+00,  1.66509172e+00,\n",
              "        3.11018373e+00,  2.95944458e+00, -4.91837783e-01,  1.77135964e+00,\n",
              "       -6.60049641e+00, -6.53739909e+00, -9.18374701e+00, -4.91837783e-01,\n",
              "       -4.91837783e-01,  1.05553933e+00, -8.15872715e+00, -4.91837783e-01,\n",
              "        5.30527777e-01, -8.89675379e+00,  2.61458269e-01, -1.18886258e+00,\n",
              "       -2.68510591e+00, -6.72263903e+00, -5.46287936e+00,  2.32155503e+00,\n",
              "       -8.61548193e+00,  3.11018373e+00,  4.38244424e-02, -1.94430319e-01,\n",
              "       -4.24190930e+00, -1.78006844e+00, -4.91837783e-01, -1.59369561e+00,\n",
              "       -2.11604216e+00, -4.91837783e-01,  3.51644533e+00,  5.99043001e-01,\n",
              "       -4.09741232e+00,  3.11018373e+00,  3.00147796e-02, -4.91837783e-01,\n",
              "       -1.43569428e+00, -4.91837783e-01,  3.11018373e+00, -2.21949696e+00,\n",
              "        3.11018373e+00,  4.08933039e+00, -1.89808072e+00, -6.76774237e+00,\n",
              "       -3.99632613e+00, -1.34147034e+00, -1.80247311e+00, -1.37256870e-01,\n",
              "       -1.81928721e+00, -1.28903861e+00,  3.20385912e+00, -1.40219344e+00,\n",
              "       -4.91837783e-01, -6.72101822e+00, -3.24423925e+00, -1.22653856e+00,\n",
              "       -6.65630010e+00,  3.00147796e-02,  2.67369275e+00,  1.80879276e+00,\n",
              "        2.37067521e+00, -1.64267803e+00, -4.91837783e-01,  3.11018373e+00,\n",
              "       -3.75733549e+00, -8.37188686e+00, -8.61548193e+00, -9.18374701e+00,\n",
              "       -7.59046207e+00,  3.11018373e+00, -2.44189384e+00, -4.91837783e-01,\n",
              "        2.36051461e+00, -1.97508294e+00, -2.05541719e+00,  1.77135964e+00,\n",
              "        1.77135964e+00, -9.30109554e-01,  3.11018373e+00, -4.91837783e-01,\n",
              "       -4.91837783e-01, -8.89675379e+00,  3.11018373e+00,  6.95375571e+00,\n",
              "        3.80288786e+00,  5.52154305e+00, -7.26238168e+00, -6.72263903e+00,\n",
              "        3.11018373e+00, -2.22334924e+00,  3.91996464e+00, -1.00858138e+01,\n",
              "       -9.63478042e+00, -8.19989434e+00, -6.90567077e-01, -4.91837783e-01,\n",
              "        1.23590769e+00,  1.77135964e+00,  2.35542980e+00, -6.78411555e+00,\n",
              "       -4.75796531e+00, -1.05368473e+01, -5.58074436e+00, -1.73629688e+00,\n",
              "       -7.80362178e+00,  4.04021022e+00,  1.77135964e+00,  3.11018373e+00,\n",
              "       -1.51593162e+00,  1.99928163e+00, -4.91837783e-01, -5.92835668e+00,\n",
              "       -4.86758930e+00, -6.65143767e+00, -6.72588065e+00,  3.75376769e+00,\n",
              "       -4.91837783e-01,  3.11018373e+00, -4.91837783e-01,  1.95183896e+00,\n",
              "        3.40720237e+00, -6.85065542e+00, -1.94430319e-01, -2.51641158e+00,\n",
              "       -2.55142843e+00,  3.11018373e+00, -6.90321750e+00,  1.77135964e+00,\n",
              "       -4.04458317e+00, -6.71777661e+00,  3.11585655e+00, -6.59563398e+00,\n",
              "        1.74866997e+00,  1.18239084e+00,  3.11018373e+00, -6.81625243e+00,\n",
              "        1.77135964e+00,  3.11018373e+00, -2.31375265e+00,  3.11018373e+00,\n",
              "        8.82598376e-02,  3.23000280e+00,  3.23000280e+00, -5.97562976e+00,\n",
              "       -4.91837783e-01, -2.31200851e+00,  3.11018373e+00,  3.05438004e+00,\n",
              "       -1.22614115e+00,  3.11018373e+00,  1.77135964e+00, -4.21824928e+00,\n",
              "       -5.11006550e+00,  2.37067521e+00,  3.11018373e+00, -2.33535730e+00,\n",
              "       -2.25031274e+00,  4.08933039e+00, -4.77738262e+00, -3.61401260e+00,\n",
              "       -4.45271261e+00,  4.32665275e+00, -4.91837783e-01,  3.11018373e+00,\n",
              "        4.96880906e-01, -3.54188428e+00, -6.81203531e+00,  1.77135964e+00,\n",
              "       -8.04149548e+00, -4.91837783e-01, -1.93444256e+00, -5.91454612e+00,\n",
              "        7.57259209e-01,  1.77135964e+00, -6.77179439e+00, -3.12085307e+00,\n",
              "       -1.46232067e+00, -3.37791057e+00,  1.77135964e+00, -4.91837783e-01,\n",
              "       -1.95979775e+00, -5.46351270e+00,  5.49226315e-01,  3.00147796e-02,\n",
              "        1.79779014e+00, -2.72532246e+00,  1.77135964e+00, -6.58347793e+00,\n",
              "       -8.50719688e+00, -6.65711050e+00, -4.91837783e-01, -4.91837783e-01,\n",
              "       -3.75862926e-01,  3.80288786e+00,  3.11018373e+00, -2.14860715e+00,\n",
              "        3.11018373e+00, -8.61548193e+00,  3.11018373e+00, -6.70805177e+00,\n",
              "       -3.15309881e+00,  1.94820219e-01, -4.10101762e+00,  3.11018373e+00,\n",
              "        4.26189944e+00,  1.77135964e+00, -9.02307985e-02, -3.62773578e-01,\n",
              "       -3.49878392e+00,  3.11180453e+00,  3.11018373e+00,  3.11018373e+00,\n",
              "        2.65711774e+00, -1.32953805e-01,  1.18239084e+00, -4.90433234e+00,\n",
              "        3.21926852e+00, -4.33454719e+00])"
            ]
          },
          "metadata": {
            "tags": []
          },
          "execution_count": 130
        }
      ]
    },
    {
      "cell_type": "code",
      "metadata": {
        "colab": {
          "base_uri": "https://localhost:8080/"
        },
        "id": "QweZxCxGd3c3",
        "outputId": "d9840a1d-6c08-42ce-f78f-7e232baabb75"
      },
      "source": [
        "from sklearn.metrics import mean_squared_error\n",
        "y_pred = clf.predict(X_test)\n",
        "print('Coefficients: \\n', clf.coef_)\n",
        "# The mean squared error\n",
        "print(\"Mean squared error: %.2f\" % mean_squared_error(y_test, y_pred))\n",
        "# Explained variance score: 1 is perfect prediction\n",
        "print('Variance score: %.2f' % model.score(X_test, y_test))"
      ],
      "execution_count": 131,
      "outputs": [
        {
          "output_type": "stream",
          "text": [
            "Coefficients: \n",
            " [ 0.0008104  -0.06147651 -0.04510334 -0.11723166  0.28644253 -0.06012279]\n",
            "Mean squared error: 14.84\n",
            "Variance score: 0.50\n"
          ],
          "name": "stdout"
        }
      ]
    },
    {
      "cell_type": "code",
      "metadata": {
        "colab": {
          "base_uri": "https://localhost:8080/"
        },
        "id": "CNs98JgDeBKt",
        "outputId": "b7e35897-d09a-4e7b-ca00-5bf42b59726b"
      },
      "source": [
        "prediction = clf.predict(X_test)\n",
        "print('\\n\\nMetrics for model evualtion:\\n\\n')\n",
        "\n",
        "mean_sq_error = mean_squared_error(y_test,prediction)\n",
        "mean_abs_error = mean_absolute_error(y_test,prediction)\n",
        "R2_score = metrics.r2_score(y_test,prediction)\n",
        "explained_variance_score = metrics.explained_variance_score( y_test,prediction, multioutput='uniform_average')\n",
        "\n",
        "print(f' Mean-sq-error            : {mean_sq_error}\\n\\n Mean-abs-error           : {mean_abs_error}\\n\\n R2-score                 : {R2_score}\\n\\n Explained-variance-score : {explained_variance_score}\\n')"
      ],
      "execution_count": 132,
      "outputs": [
        {
          "output_type": "stream",
          "text": [
            "\n",
            "\n",
            "Metrics for model evualtion:\n",
            "\n",
            "\n",
            " Mean-sq-error            : 14.841750786927637\n",
            "\n",
            " Mean-abs-error           : 2.932494612339554\n",
            "\n",
            " R2-score                 : 0.5043487262117363\n",
            "\n",
            " Explained-variance-score : 0.504404973879818\n",
            "\n"
          ],
          "name": "stdout"
        }
      ]
    }
  ]
}