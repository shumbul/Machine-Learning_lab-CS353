{
 "cells": [
  {
   "cell_type": "code",
   "execution_count": 37,
   "metadata": {
    "colab": {
     "base_uri": "https://localhost:8080/",
     "height": 401
    },
    "id": "4o78D-kz_H1i",
    "outputId": "15f57583-a104-4c49-bb84-2f3bee4ef521"
   },
   "outputs": [
    {
     "data": {
      "image/png": "[encoded data removed]",
      "text/plain": [
       "<Figure size 432x288 with 1 Axes>"
      ]
     },
     "metadata": {
      "needs_background": "light",
      "tags": []
     },
     "output_type": "display_data"
    },
    {
     "name": "stdout",
     "output_type": "stream",
     "text": [
      "[1, 1, 0, 0] [0, 1, 0, 0]\n",
      "[[0.00363737 0.00178916 0.98923354 0.98923354]]\n",
      "[[0. 0. 1. 1.]]\n",
      "[[ 5.46913997  5.58857902]\n",
      " [ 1.62127692 -0.41840051]] [[-11.35247122  -0.50197867]] [[-2.8171502 ]\n",
      " [-0.01430685]] [[-2.8171502 ]\n",
      " [-0.01430685]]\n"
     ]
    }
   ],
   "source": [
    "# import Python Libraries\n",
    "import numpy as np\n",
    "from matplotlib import pyplot as plt\n",
    "\n",
    "# Sigmoid Function\n",
    "def sigmoid(z):\n",
    "\treturn 1 / (1 + np.exp(-z))\n",
    "\n",
    "# Initialization of the neural network parameters\n",
    "# Initialized all the weights in the range of between 0 and 1\n",
    "# Bias values are initialized to 0\n",
    "def initializeParameters(inputFeatures, neuronsInHiddenLayers, outputFeatures):\n",
    "\tW1 = np.random.randn(neuronsInHiddenLayers, inputFeatures)\n",
    "\tW2 = np.random.randn(outputFeatures, neuronsInHiddenLayers)\n",
    "\tb1 = np.zeros((neuronsInHiddenLayers, 1))\n",
    "\tb2 = np.zeros((outputFeatures, 1))\n",
    "\t\n",
    "\tparameters = {\"W1\" : W1, \"b1\": b1,\n",
    "\t\t\t\t\"W2\" : W2, \"b2\": b2}\n",
    "\treturn parameters\n",
    "\n",
    "# Forward Propagation\n",
    "def forwardPropagation(X, Y, parameters):\n",
    "\tm = X.shape[1]\n",
    "\tW1 = parameters[\"W1\"]\n",
    "\tW2 = parameters[\"W2\"]\n",
    "\tb1 = parameters[\"b1\"]\n",
    "\tb2 = parameters[\"b2\"]\n",
    "\n",
    "\tZ1 = np.dot(W1, X) + b1\n",
    "\tA1 = sigmoid(Z1)\n",
    "\tZ2 = np.dot(W2, A1) + b2\n",
    "\tA2 = sigmoid(Z2)\n",
    "\n",
    "\tcache = (Z1, A1, W1, b1, Z2, A2, W2, b2)\n",
    "\tlogprobs = np.multiply(np.log(A2), Y) + np.multiply(np.log(1 - A2), (1 - Y))\n",
    "\tcost = -np.sum(logprobs) / m\n",
    "\treturn cost, cache, A2\n",
    "\n",
    "# Backward Propagation\n",
    "def backwardPropagation(X, Y, cache):\n",
    "\tm = X.shape[1]\n",
    "\t(Z1, A1, W1, b1, Z2, A2, W2, b2) = cache\n",
    "\t\n",
    "\tdZ2 = A2 - Y\n",
    "\tdW2 = np.dot(dZ2, A1.T) / m\n",
    "\tdb2 = np.sum(dZ2, axis = 1, keepdims = True)\n",
    "\t\n",
    "\tdA1 = np.dot(W2.T, dZ2)\n",
    "\tdZ1 = np.multiply(dA1, A1 * (1- A1))\n",
    "\tdW1 = np.dot(dZ1, X.T) / m\n",
    "\tdb1 = np.sum(dZ1, axis = 1, keepdims = True) / m\n",
    "\t\n",
    "\tgradients = {\"dZ2\": dZ2, \"dW2\": dW2, \"db2\": db2,\n",
    "\t\t\t\t\"dZ1\": dZ1, \"dW1\": dW1, \"db1\": db1}\n",
    "\treturn gradients\n",
    "\n",
    "# Updating the weights based on the negative gradients\n",
    "def updateParameters(parameters, gradients, learningRate):\n",
    "\tparameters[\"W1\"] = parameters[\"W1\"] - learningRate * gradients[\"dW1\"]\n",
    "\tparameters[\"W2\"] = parameters[\"W2\"] - learningRate * gradients[\"dW2\"]\n",
    "\tparameters[\"b1\"] = parameters[\"b1\"] - learningRate * gradients[\"db1\"]\n",
    "\tparameters[\"b2\"] = parameters[\"b2\"] - learningRate * gradients[\"db2\"]\n",
    "\treturn parameters\n",
    "\n",
    "# Model to learn the NOR truth table\n",
    "X = np.array([[0, 0, 1, 1], [0, 1, 0, 1]]) # NOR input\n",
    "Y = np.array([[1, 0, 0, 0]]) # NOR output\n",
    "\n",
    "# Define model parameters\n",
    "neuronsInHiddenLayers = 2 # number of hidden layer neurons (2)\n",
    "inputFeatures = X.shape[0] # number of input features (2)\n",
    "outputFeatures = Y.shape[0] # number of output features (1)\n",
    "parameters = initializeParameters(inputFeatures, neuronsInHiddenLayers, outputFeatures)\n",
    "epoch = 100000\n",
    "learningRate = 0.01\n",
    "losses = np.zeros((epoch, 1))\n",
    "\n",
    "for i in range(epoch):\n",
    "\tlosses[i, 0], cache, A2 = forwardPropagation(X, Y, parameters)\n",
    "\tgradients = backwardPropagation(X, Y, cache)\n",
    "\tparameters = updateParameters(parameters, gradients, learningRate)\n",
    "\n",
    "# Evaluating the performance\n",
    "plt.figure()\n",
    "plt.plot(losses)\n",
    "plt.xlabel(\"EPOCHS\")\n",
    "plt.ylabel(\"Loss value\")\n",
    "plt.show()\n",
    "\n",
    "# Testing\n",
    "x1,x2,y_ans= ([1, 1, 0, 0], [0, 1, 0, 1],[0,1,0,0])\n",
    "X = np.array([x,y]) # NOR input\n",
    "cost, _, A2 = forwardPropagation(X, Y, parameters)\n",
    "prediction = (A2 > 0.5) * 1.0\n",
    "print(x,y)\n",
    "print(A2)\n",
    "count=0\n",
    "k=0\n",
    "for i,j in zip(prediction[0],y_ans):\n",
    "  if i==j*1.0:\n",
    "    count+=1\n",
    "\n",
    "\n",
    "\n",
    "print(prediction)   \n",
    "print(parameters[\"W1\"],parameters[\"W2\"],parameters[\"b1\"],parameters[\"b1\"])\n",
    "\n"
   ]
  },
  {
   "cell_type": "code",
   "execution_count": 31,
   "metadata": {
    "colab": {
     "base_uri": "https://localhost:8080/"
    },
    "id": "8qYWxDJOEEjB",
    "outputId": "f4b16d3d-aa7a-47f2-8b68-27491e529bda"
   },
   "outputs": [
    {
     "data": {
      "text/plain": [
       "[0, 1, 0, 0]"
      ]
     },
     "execution_count": 31,
     "metadata": {
      "tags": []
     },
     "output_type": "execute_result"
    }
   ],
   "source": [
    "y_ans"
   ]
  },
  {
   "cell_type": "code",
   "execution_count": 18,
   "metadata": {
    "colab": {
     "base_uri": "https://localhost:8080/"
    },
    "id": "tUhO7t5PCS90",
    "outputId": "ab6073b6-bf1c-4e33-f60c-9f71911251ae"
   },
   "outputs": [
    {
     "name": "stdout",
     "output_type": "stream",
     "text": [
      "[0. 0. 1. 1.]\n"
     ]
    }
   ],
   "source": [
    "for i in prediction:\n",
    "  print(i)"
   ]
  }
 ],
 "metadata": {
  "colab": {
   "name": "AND_USING_ANN.ipynb",
   "provenance": []
  },
  "kernelspec": {
   "display_name": "Python 3",
   "language": "python",
   "name": "python3"
  },
  "language_info": {
   "codemirror_mode": {
    "name": "ipython",
    "version": 3
   },
   "file_extension": ".py",
   "mimetype": "text/x-python",
   "name": "python",
   "nbconvert_exporter": "python",
   "pygments_lexer": "ipython3",
   "version": "3.7.6"
  }
 },
 "nbformat": 4,
 "nbformat_minor": 1
}
