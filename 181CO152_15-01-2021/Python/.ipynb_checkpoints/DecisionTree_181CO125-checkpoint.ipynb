{
 "cells": [
  {
   "cell_type": "markdown",
   "metadata": {
    "id": "EoOOdOQUhJFd"
   },
   "source": [
    "# Introduction to Decision Trees\n",
    "\n",
    "**Author: K Krishna Swaroop \n",
    "181CO125, NITK Surathkal** \n"
   ]
  },
  {
   "cell_type": "markdown",
   "metadata": {
    "id": "gy4EiXATlRP2"
   },
   "source": [
    "Decision trees are non parametric supervised learning method used for classification and regression. The goal is to create a model that predicts the value of a target variable by learning simple decision rules inferred from the data features. A tree can be seen as a piecewise constant approximation."
   ]
  },
  {
   "cell_type": "markdown",
   "metadata": {
    "id": "ecWj-uuelyFP"
   },
   "source": [
    "To create a decision tree, there are various criterions for splitting the attributes. Three major criterions are\n",
    "- Gini (CART)\n",
    "- ID3 (Iterative Dichotomiser 3)\n",
    "- C4.5\n",
    "\n",
    "The decision tree using Gini as a criterion is commonly called as CART (Classification and Regression Trees)"
   ]
  },
  {
   "cell_type": "markdown",
   "metadata": {
    "id": "vxpQP3UEmLX1"
   },
   "source": [
    "# Dataset"
   ]
  },
  {
   "cell_type": "markdown",
   "metadata": {
    "id": "FzEtnMNnmQkA"
   },
   "source": [
    "The iris dataset is a classic and very easy multi-class classification dataset. The dataset is described below\n",
    "\n"
   ]
  },
  {
   "cell_type": "markdown",
   "metadata": {
    "id": "Y9psYLAlmY2A"
   },
   "source": [
    "\n",
    ">Features | Quantity\n",
    ">--- | ---\n",
    ">Classes | 3\n",
    ">Samples per Class | 50\n",
    ">Samples Total | 150\n",
    ">Dimensionality | 4"
   ]
  },
  {
   "cell_type": "markdown",
   "metadata": {
    "id": "4E202gWInM_l"
   },
   "source": [
    "The classes are numbered 0/1/2 and the features are real valued attributes"
   ]
  },
  {
   "cell_type": "markdown",
   "metadata": {
    "id": "e8W3-0kVnUsV"
   },
   "source": [
    "Now, we will look at the implementation of Gini, ID3 and C4.5 on this dataset. At the end, all the three algorithm's accuracy are compared  "
   ]
  },
  {
   "cell_type": "markdown",
   "metadata": {
    "id": "Kokv_I4YnTLh"
   },
   "source": [
    "# Gini"
   ]
  },
  {
   "cell_type": "markdown",
   "metadata": {
    "id": "sx18G6XcnjVm"
   },
   "source": [
    "## 1) Install Required Libraries"
   ]
  },
  {
   "cell_type": "code",
   "execution_count": 1,
   "metadata": {
    "colab": {
     "base_uri": "https://localhost:8080/"
    },
    "id": "SRlNilcpdVdc",
    "outputId": "e97de35b-5349-4845-fc03-11d44908d10e"
   },
   "outputs": [
    {
     "name": "stdout",
     "output_type": "stream",
     "text": [
      "Requirement already satisfied: graphviz in /usr/local/lib/python3.6/dist-packages (0.10.1)\n"
     ]
    }
   ],
   "source": [
    "!pip install graphviz\n",
    "from sklearn.datasets import load_iris\n",
    "from sklearn import tree\n",
    "from sklearn.model_selection import train_test_split\n",
    "from sklearn.metrics import accuracy_score\n",
    "import graphviz \n",
    "import pandas as pd"
   ]
  },
  {
   "cell_type": "markdown",
   "metadata": {
    "id": "x_VwxAqOnvpD"
   },
   "source": [
    "## 2) Load the data "
   ]
  },
  {
   "cell_type": "markdown",
   "metadata": {
    "id": "bf6F0iPBny0r"
   },
   "source": [
    "Here, we are loading via scikit-learn's load_iris class. We can alternatively use ```pd.read_csv()``` if we have the csv file of the dataset\n",
    "\n",
    "---\n",
    "\n"
   ]
  },
  {
   "cell_type": "code",
   "execution_count": 2,
   "metadata": {
    "id": "FzNT3cfbg4q0"
   },
   "outputs": [],
   "source": [
    "iris = load_iris()\n",
    "X, y = load_iris(return_X_y=True)"
   ]
  },
  {
   "cell_type": "markdown",
   "metadata": {
    "id": "3KJC6JTFovy_"
   },
   "source": [
    "Print first five values of numpy array to verify dataset values"
   ]
  },
  {
   "cell_type": "code",
   "execution_count": 3,
   "metadata": {
    "colab": {
     "base_uri": "https://localhost:8080/"
    },
    "id": "fApCK7yvoeEh",
    "outputId": "2fc38685-6d27-4431-d340-2ba7758762af"
   },
   "outputs": [
    {
     "name": "stdout",
     "output_type": "stream",
     "text": [
      "Features of first five values are: \n",
      "[[5.1 3.5 1.4 0.2]\n",
      " [4.9 3.  1.4 0.2]\n",
      " [4.7 3.2 1.3 0.2]\n",
      " [4.6 3.1 1.5 0.2]\n",
      " [5.  3.6 1.4 0.2]]\n",
      "Classes of first five values are:  [0 0 0 0 0]\n"
     ]
    }
   ],
   "source": [
    "print(\"Features of first five values are: \")\n",
    "print(X[0:5])\n",
    "print(\"Classes of first five values are: \", y[0:5])"
   ]
  },
  {
   "cell_type": "markdown",
   "metadata": {
    "id": "Kn4dMHUco4jQ"
   },
   "source": [
    "## 3) Split data "
   ]
  },
  {
   "cell_type": "markdown",
   "metadata": {
    "id": "LspMhsWao6NN"
   },
   "source": [
    "Use ```train_test_split()``` to split the X and y to training and testing dataset. Here, 20% of the dataset is reserved to test our algorithm"
   ]
  },
  {
   "cell_type": "code",
   "execution_count": 4,
   "metadata": {
    "id": "95Du_bx8erVB"
   },
   "outputs": [],
   "source": [
    "X_train, X_test, y_train, y_test = train_test_split(X, y, test_size = 20, random_state = 10)"
   ]
  },
  {
   "cell_type": "markdown",
   "metadata": {
    "id": "Ui6lFTAKpFCI"
   },
   "source": [
    "## 4) Fit the model"
   ]
  },
  {
   "cell_type": "markdown",
   "metadata": {
    "id": "2OHhrUuupJrx"
   },
   "source": [
    "Here, the CART model is fit using the gini criterion. "
   ]
  },
  {
   "cell_type": "code",
   "execution_count": 5,
   "metadata": {
    "id": "qn0Cnh2Qdsv_"
   },
   "outputs": [],
   "source": [
    "clf = tree.DecisionTreeClassifier(criterion='gini')\n",
    "clf = clf.fit(X_train, y_train)"
   ]
  },
  {
   "cell_type": "markdown",
   "metadata": {
    "id": "tTVU1AmmpXDe"
   },
   "source": [
    "## 5) Visualise the tree"
   ]
  },
  {
   "cell_type": "markdown",
   "metadata": {
    "id": "xQm1FnCQpdqR"
   },
   "source": [
    "Using the graphviz library, visualise the constructed tree"
   ]
  },
  {
   "cell_type": "code",
   "execution_count": 6,
   "metadata": {
    "colab": {
     "base_uri": "https://localhost:8080/",
     "height": 916
    },
    "id": "RfbQBF7Idx6S",
    "outputId": "55dc494c-7e5a-478f-b187-50d70adf4c54"
   },
   "outputs": [
    {
     "data": {
      "image/svg+xml": [
       "<?xml version=\"1.0\" encoding=\"UTF-8\" standalone=\"no\"?>\n",
       "<!DOCTYPE svg PUBLIC \"-//W3C//DTD SVG 1.1//EN\"\n",
       " \"http://www.w3.org/Graphics/SVG/1.1/DTD/svg11.dtd\">\n",
       "<!-- Generated by graphviz version 2.40.1 (20161225.0304)\n",
       " -->\n",
       "<!-- Title: Tree Pages: 1 -->\n",
       "<svg width=\"905pt\" height=\"671pt\"\n",
       " viewBox=\"0.00 0.00 904.50 671.00\" xmlns=\"http://www.w3.org/2000/svg\" xmlns:xlink=\"http://www.w3.org/1999/xlink\">\n",
       "<g id=\"graph0\" class=\"graph\" transform=\"scale(1 1) rotate(0) translate(4 667)\">\n",
       "<title>Tree</title>\n",
       "<polygon fill=\"#ffffff\" stroke=\"transparent\" points=\"-4,4 -4,-667 900.5,-667 900.5,4 -4,4\"/>\n",
       "<!-- 0 -->\n",
       "<g id=\"node1\" class=\"node\">\n",
       "<title>0</title>\n",
       "<path fill=\"#f8f4fe\" stroke=\"#000000\" d=\"M536.5,-663C536.5,-663 407.5,-663 407.5,-663 401.5,-663 395.5,-657 395.5,-651 395.5,-651 395.5,-592 395.5,-592 395.5,-586 401.5,-580 407.5,-580 407.5,-580 536.5,-580 536.5,-580 542.5,-580 548.5,-586 548.5,-592 548.5,-592 548.5,-651 548.5,-651 548.5,-657 542.5,-663 536.5,-663\"/>\n",
       "<text text-anchor=\"start\" x=\"403.5\" y=\"-647.8\" font-family=\"Helvetica,sans-Serif\" font-size=\"14.00\" fill=\"#000000\">petal width (cm) ≤ 0.8</text>\n",
       "<text text-anchor=\"start\" x=\"434\" y=\"-632.8\" font-family=\"Helvetica,sans-Serif\" font-size=\"14.00\" fill=\"#000000\">gini = 0.665</text>\n",
       "<text text-anchor=\"start\" x=\"424\" y=\"-617.8\" font-family=\"Helvetica,sans-Serif\" font-size=\"14.00\" fill=\"#000000\">samples = 130</text>\n",
       "<text text-anchor=\"start\" x=\"410\" y=\"-602.8\" font-family=\"Helvetica,sans-Serif\" font-size=\"14.00\" fill=\"#000000\">value = [42, 41, 47]</text>\n",
       "<text text-anchor=\"start\" x=\"420.5\" y=\"-587.8\" font-family=\"Helvetica,sans-Serif\" font-size=\"14.00\" fill=\"#000000\">class = virginica</text>\n",
       "</g>\n",
       "<!-- 1 -->\n",
       "<g id=\"node2\" class=\"node\">\n",
       "<title>1</title>\n",
       "<path fill=\"#e58139\" stroke=\"#000000\" d=\"M441.5,-536.5C441.5,-536.5 342.5,-536.5 342.5,-536.5 336.5,-536.5 330.5,-530.5 330.5,-524.5 330.5,-524.5 330.5,-480.5 330.5,-480.5 330.5,-474.5 336.5,-468.5 342.5,-468.5 342.5,-468.5 441.5,-468.5 441.5,-468.5 447.5,-468.5 453.5,-474.5 453.5,-480.5 453.5,-480.5 453.5,-524.5 453.5,-524.5 453.5,-530.5 447.5,-536.5 441.5,-536.5\"/>\n",
       "<text text-anchor=\"start\" x=\"362.5\" y=\"-521.3\" font-family=\"Helvetica,sans-Serif\" font-size=\"14.00\" fill=\"#000000\">gini = 0.0</text>\n",
       "<text text-anchor=\"start\" x=\"348\" y=\"-506.3\" font-family=\"Helvetica,sans-Serif\" font-size=\"14.00\" fill=\"#000000\">samples = 42</text>\n",
       "<text text-anchor=\"start\" x=\"338.5\" y=\"-491.3\" font-family=\"Helvetica,sans-Serif\" font-size=\"14.00\" fill=\"#000000\">value = [42, 0, 0]</text>\n",
       "<text text-anchor=\"start\" x=\"345\" y=\"-476.3\" font-family=\"Helvetica,sans-Serif\" font-size=\"14.00\" fill=\"#000000\">class = setosa</text>\n",
       "</g>\n",
       "<!-- 0&#45;&gt;1 -->\n",
       "<g id=\"edge1\" class=\"edge\">\n",
       "<title>0&#45;&gt;1</title>\n",
       "<path fill=\"none\" stroke=\"#000000\" d=\"M444.0199,-579.8796C436.4797,-568.6636 428.3113,-556.5131 420.7309,-545.2372\"/>\n",
       "<polygon fill=\"#000000\" stroke=\"#000000\" points=\"423.5527,-543.1612 415.0689,-536.8149 417.7434,-547.0667 423.5527,-543.1612\"/>\n",
       "<text text-anchor=\"middle\" x=\"410.2608\" y=\"-557.6482\" font-family=\"Helvetica,sans-Serif\" font-size=\"14.00\" fill=\"#000000\">True</text>\n",
       "</g>\n",
       "<!-- 2 -->\n",
       "<g id=\"node3\" class=\"node\">\n",
       "<title>2</title>\n",
       "<path fill=\"#efe6fc\" stroke=\"#000000\" d=\"M620.5,-544C620.5,-544 483.5,-544 483.5,-544 477.5,-544 471.5,-538 471.5,-532 471.5,-532 471.5,-473 471.5,-473 471.5,-467 477.5,-461 483.5,-461 483.5,-461 620.5,-461 620.5,-461 626.5,-461 632.5,-467 632.5,-473 632.5,-473 632.5,-532 632.5,-532 632.5,-538 626.5,-544 620.5,-544\"/>\n",
       "<text text-anchor=\"start\" x=\"479.5\" y=\"-528.8\" font-family=\"Helvetica,sans-Serif\" font-size=\"14.00\" fill=\"#000000\">petal width (cm) ≤ 1.75</text>\n",
       "<text text-anchor=\"start\" x=\"514\" y=\"-513.8\" font-family=\"Helvetica,sans-Serif\" font-size=\"14.00\" fill=\"#000000\">gini = 0.498</text>\n",
       "<text text-anchor=\"start\" x=\"508\" y=\"-498.8\" font-family=\"Helvetica,sans-Serif\" font-size=\"14.00\" fill=\"#000000\">samples = 88</text>\n",
       "<text text-anchor=\"start\" x=\"494.5\" y=\"-483.8\" font-family=\"Helvetica,sans-Serif\" font-size=\"14.00\" fill=\"#000000\">value = [0, 41, 47]</text>\n",
       "<text text-anchor=\"start\" x=\"500.5\" y=\"-468.8\" font-family=\"Helvetica,sans-Serif\" font-size=\"14.00\" fill=\"#000000\">class = virginica</text>\n",
       "</g>\n",
       "<!-- 0&#45;&gt;2 -->\n",
       "<g id=\"edge2\" class=\"edge\">\n",
       "<title>0&#45;&gt;2</title>\n",
       "<path fill=\"none\" stroke=\"#000000\" d=\"M499.9801,-579.8796C505.8531,-571.1434 512.1073,-561.8404 518.1679,-552.8253\"/>\n",
       "<polygon fill=\"#000000\" stroke=\"#000000\" points=\"521.2259,-554.5498 523.9005,-544.2981 515.4166,-550.6444 521.2259,-554.5498\"/>\n",
       "<text text-anchor=\"middle\" x=\"528.7085\" y=\"-565.1314\" font-family=\"Helvetica,sans-Serif\" font-size=\"14.00\" fill=\"#000000\">False</text>\n",
       "</g>\n",
       "<!-- 3 -->\n",
       "<g id=\"node4\" class=\"node\">\n",
       "<title>3</title>\n",
       "<path fill=\"#52e891\" stroke=\"#000000\" d=\"M506.5,-425C506.5,-425 363.5,-425 363.5,-425 357.5,-425 351.5,-419 351.5,-413 351.5,-413 351.5,-354 351.5,-354 351.5,-348 357.5,-342 363.5,-342 363.5,-342 506.5,-342 506.5,-342 512.5,-342 518.5,-348 518.5,-354 518.5,-354 518.5,-413 518.5,-413 518.5,-419 512.5,-425 506.5,-425\"/>\n",
       "<text text-anchor=\"start\" x=\"359.5\" y=\"-409.8\" font-family=\"Helvetica,sans-Serif\" font-size=\"14.00\" fill=\"#000000\">petal length (cm) ≤ 4.95</text>\n",
       "<text text-anchor=\"start\" x=\"397\" y=\"-394.8\" font-family=\"Helvetica,sans-Serif\" font-size=\"14.00\" fill=\"#000000\">gini = 0.198</text>\n",
       "<text text-anchor=\"start\" x=\"391\" y=\"-379.8\" font-family=\"Helvetica,sans-Serif\" font-size=\"14.00\" fill=\"#000000\">samples = 45</text>\n",
       "<text text-anchor=\"start\" x=\"381.5\" y=\"-364.8\" font-family=\"Helvetica,sans-Serif\" font-size=\"14.00\" fill=\"#000000\">value = [0, 40, 5]</text>\n",
       "<text text-anchor=\"start\" x=\"379\" y=\"-349.8\" font-family=\"Helvetica,sans-Serif\" font-size=\"14.00\" fill=\"#000000\">class = versicolor</text>\n",
       "</g>\n",
       "<!-- 2&#45;&gt;3 -->\n",
       "<g id=\"edge3\" class=\"edge\">\n",
       "<title>2&#45;&gt;3</title>\n",
       "<path fill=\"none\" stroke=\"#000000\" d=\"M511.0791,-460.8796C502.047,-451.6931 492.3987,-441.8798 483.1112,-432.4336\"/>\n",
       "<polygon fill=\"#000000\" stroke=\"#000000\" points=\"485.6023,-429.975 476.0956,-425.2981 480.6107,-434.8827 485.6023,-429.975\"/>\n",
       "</g>\n",
       "<!-- 12 -->\n",
       "<g id=\"node13\" class=\"node\">\n",
       "<title>12</title>\n",
       "<path fill=\"#843ee6\" stroke=\"#000000\" d=\"M741.5,-425C741.5,-425 598.5,-425 598.5,-425 592.5,-425 586.5,-419 586.5,-413 586.5,-413 586.5,-354 586.5,-354 586.5,-348 592.5,-342 598.5,-342 598.5,-342 741.5,-342 741.5,-342 747.5,-342 753.5,-348 753.5,-354 753.5,-354 753.5,-413 753.5,-413 753.5,-419 747.5,-425 741.5,-425\"/>\n",
       "<text text-anchor=\"start\" x=\"594.5\" y=\"-409.8\" font-family=\"Helvetica,sans-Serif\" font-size=\"14.00\" fill=\"#000000\">petal length (cm) ≤ 4.85</text>\n",
       "<text text-anchor=\"start\" x=\"632\" y=\"-394.8\" font-family=\"Helvetica,sans-Serif\" font-size=\"14.00\" fill=\"#000000\">gini = 0.045</text>\n",
       "<text text-anchor=\"start\" x=\"626\" y=\"-379.8\" font-family=\"Helvetica,sans-Serif\" font-size=\"14.00\" fill=\"#000000\">samples = 43</text>\n",
       "<text text-anchor=\"start\" x=\"616.5\" y=\"-364.8\" font-family=\"Helvetica,sans-Serif\" font-size=\"14.00\" fill=\"#000000\">value = [0, 1, 42]</text>\n",
       "<text text-anchor=\"start\" x=\"618.5\" y=\"-349.8\" font-family=\"Helvetica,sans-Serif\" font-size=\"14.00\" fill=\"#000000\">class = virginica</text>\n",
       "</g>\n",
       "<!-- 2&#45;&gt;12 -->\n",
       "<g id=\"edge12\" class=\"edge\">\n",
       "<title>2&#45;&gt;12</title>\n",
       "<path fill=\"none\" stroke=\"#000000\" d=\"M593.2707,-460.8796C602.3799,-451.6931 612.1108,-441.8798 621.4776,-432.4336\"/>\n",
       "<polygon fill=\"#000000\" stroke=\"#000000\" points=\"623.9973,-434.8634 628.5532,-425.2981 619.0267,-429.9345 623.9973,-434.8634\"/>\n",
       "</g>\n",
       "<!-- 4 -->\n",
       "<g id=\"node5\" class=\"node\">\n",
       "<title>4</title>\n",
       "<path fill=\"#3ee684\" stroke=\"#000000\" d=\"M274.5,-306C274.5,-306 137.5,-306 137.5,-306 131.5,-306 125.5,-300 125.5,-294 125.5,-294 125.5,-235 125.5,-235 125.5,-229 131.5,-223 137.5,-223 137.5,-223 274.5,-223 274.5,-223 280.5,-223 286.5,-229 286.5,-235 286.5,-235 286.5,-294 286.5,-294 286.5,-300 280.5,-306 274.5,-306\"/>\n",
       "<text text-anchor=\"start\" x=\"133.5\" y=\"-290.8\" font-family=\"Helvetica,sans-Serif\" font-size=\"14.00\" fill=\"#000000\">petal width (cm) ≤ 1.65</text>\n",
       "<text text-anchor=\"start\" x=\"172.5\" y=\"-275.8\" font-family=\"Helvetica,sans-Serif\" font-size=\"14.00\" fill=\"#000000\">gini = 0.05</text>\n",
       "<text text-anchor=\"start\" x=\"162\" y=\"-260.8\" font-family=\"Helvetica,sans-Serif\" font-size=\"14.00\" fill=\"#000000\">samples = 39</text>\n",
       "<text text-anchor=\"start\" x=\"152.5\" y=\"-245.8\" font-family=\"Helvetica,sans-Serif\" font-size=\"14.00\" fill=\"#000000\">value = [0, 38, 1]</text>\n",
       "<text text-anchor=\"start\" x=\"150\" y=\"-230.8\" font-family=\"Helvetica,sans-Serif\" font-size=\"14.00\" fill=\"#000000\">class = versicolor</text>\n",
       "</g>\n",
       "<!-- 3&#45;&gt;4 -->\n",
       "<g id=\"edge4\" class=\"edge\">\n",
       "<title>3&#45;&gt;4</title>\n",
       "<path fill=\"none\" stroke=\"#000000\" d=\"M354.9069,-341.8796C335.5571,-331.8244 314.7621,-321.0183 295.0301,-310.7645\"/>\n",
       "<polygon fill=\"#000000\" stroke=\"#000000\" points=\"296.5352,-307.6024 286.0479,-306.0969 293.3074,-313.8138 296.5352,-307.6024\"/>\n",
       "</g>\n",
       "<!-- 7 -->\n",
       "<g id=\"node8\" class=\"node\">\n",
       "<title>7</title>\n",
       "<path fill=\"#c09cf2\" stroke=\"#000000\" d=\"M503.5,-306C503.5,-306 366.5,-306 366.5,-306 360.5,-306 354.5,-300 354.5,-294 354.5,-294 354.5,-235 354.5,-235 354.5,-229 360.5,-223 366.5,-223 366.5,-223 503.5,-223 503.5,-223 509.5,-223 515.5,-229 515.5,-235 515.5,-235 515.5,-294 515.5,-294 515.5,-300 509.5,-306 503.5,-306\"/>\n",
       "<text text-anchor=\"start\" x=\"362.5\" y=\"-290.8\" font-family=\"Helvetica,sans-Serif\" font-size=\"14.00\" fill=\"#000000\">petal width (cm) ≤ 1.55</text>\n",
       "<text text-anchor=\"start\" x=\"397\" y=\"-275.8\" font-family=\"Helvetica,sans-Serif\" font-size=\"14.00\" fill=\"#000000\">gini = 0.444</text>\n",
       "<text text-anchor=\"start\" x=\"395.5\" y=\"-260.8\" font-family=\"Helvetica,sans-Serif\" font-size=\"14.00\" fill=\"#000000\">samples = 6</text>\n",
       "<text text-anchor=\"start\" x=\"385.5\" y=\"-245.8\" font-family=\"Helvetica,sans-Serif\" font-size=\"14.00\" fill=\"#000000\">value = [0, 2, 4]</text>\n",
       "<text text-anchor=\"start\" x=\"383.5\" y=\"-230.8\" font-family=\"Helvetica,sans-Serif\" font-size=\"14.00\" fill=\"#000000\">class = virginica</text>\n",
       "</g>\n",
       "<!-- 3&#45;&gt;7 -->\n",
       "<g id=\"edge7\" class=\"edge\">\n",
       "<title>3&#45;&gt;7</title>\n",
       "<path fill=\"none\" stroke=\"#000000\" d=\"M435,-341.8796C435,-333.6838 435,-324.9891 435,-316.5013\"/>\n",
       "<polygon fill=\"#000000\" stroke=\"#000000\" points=\"438.5001,-316.298 435,-306.2981 431.5001,-316.2981 438.5001,-316.298\"/>\n",
       "</g>\n",
       "<!-- 5 -->\n",
       "<g id=\"node6\" class=\"node\">\n",
       "<title>5</title>\n",
       "<path fill=\"#39e581\" stroke=\"#000000\" d=\"M116,-179.5C116,-179.5 12,-179.5 12,-179.5 6,-179.5 0,-173.5 0,-167.5 0,-167.5 0,-123.5 0,-123.5 0,-117.5 6,-111.5 12,-111.5 12,-111.5 116,-111.5 116,-111.5 122,-111.5 128,-117.5 128,-123.5 128,-123.5 128,-167.5 128,-167.5 128,-173.5 122,-179.5 116,-179.5\"/>\n",
       "<text text-anchor=\"start\" x=\"34.5\" y=\"-164.3\" font-family=\"Helvetica,sans-Serif\" font-size=\"14.00\" fill=\"#000000\">gini = 0.0</text>\n",
       "<text text-anchor=\"start\" x=\"20\" y=\"-149.3\" font-family=\"Helvetica,sans-Serif\" font-size=\"14.00\" fill=\"#000000\">samples = 38</text>\n",
       "<text text-anchor=\"start\" x=\"10.5\" y=\"-134.3\" font-family=\"Helvetica,sans-Serif\" font-size=\"14.00\" fill=\"#000000\">value = [0, 38, 0]</text>\n",
       "<text text-anchor=\"start\" x=\"8\" y=\"-119.3\" font-family=\"Helvetica,sans-Serif\" font-size=\"14.00\" fill=\"#000000\">class = versicolor</text>\n",
       "</g>\n",
       "<!-- 4&#45;&gt;5 -->\n",
       "<g id=\"edge5\" class=\"edge\">\n",
       "<title>4&#45;&gt;5</title>\n",
       "<path fill=\"none\" stroke=\"#000000\" d=\"M156.3353,-222.8796C142.1642,-211.0038 126.743,-198.0804 112.6342,-186.2568\"/>\n",
       "<polygon fill=\"#000000\" stroke=\"#000000\" points=\"114.8598,-183.5554 104.9472,-179.8149 110.3637,-188.9206 114.8598,-183.5554\"/>\n",
       "</g>\n",
       "<!-- 6 -->\n",
       "<g id=\"node7\" class=\"node\">\n",
       "<title>6</title>\n",
       "<path fill=\"#8139e5\" stroke=\"#000000\" d=\"M253.5,-179.5C253.5,-179.5 158.5,-179.5 158.5,-179.5 152.5,-179.5 146.5,-173.5 146.5,-167.5 146.5,-167.5 146.5,-123.5 146.5,-123.5 146.5,-117.5 152.5,-111.5 158.5,-111.5 158.5,-111.5 253.5,-111.5 253.5,-111.5 259.5,-111.5 265.5,-117.5 265.5,-123.5 265.5,-123.5 265.5,-167.5 265.5,-167.5 265.5,-173.5 259.5,-179.5 253.5,-179.5\"/>\n",
       "<text text-anchor=\"start\" x=\"176.5\" y=\"-164.3\" font-family=\"Helvetica,sans-Serif\" font-size=\"14.00\" fill=\"#000000\">gini = 0.0</text>\n",
       "<text text-anchor=\"start\" x=\"166.5\" y=\"-149.3\" font-family=\"Helvetica,sans-Serif\" font-size=\"14.00\" fill=\"#000000\">samples = 1</text>\n",
       "<text text-anchor=\"start\" x=\"156.5\" y=\"-134.3\" font-family=\"Helvetica,sans-Serif\" font-size=\"14.00\" fill=\"#000000\">value = [0, 0, 1]</text>\n",
       "<text text-anchor=\"start\" x=\"154.5\" y=\"-119.3\" font-family=\"Helvetica,sans-Serif\" font-size=\"14.00\" fill=\"#000000\">class = virginica</text>\n",
       "</g>\n",
       "<!-- 4&#45;&gt;6 -->\n",
       "<g id=\"edge6\" class=\"edge\">\n",
       "<title>4&#45;&gt;6</title>\n",
       "<path fill=\"none\" stroke=\"#000000\" d=\"M206,-222.8796C206,-212.2134 206,-200.7021 206,-189.9015\"/>\n",
       "<polygon fill=\"#000000\" stroke=\"#000000\" points=\"209.5001,-189.8149 206,-179.8149 202.5001,-189.815 209.5001,-189.8149\"/>\n",
       "</g>\n",
       "<!-- 8 -->\n",
       "<g id=\"node9\" class=\"node\">\n",
       "<title>8</title>\n",
       "<path fill=\"#8139e5\" stroke=\"#000000\" d=\"M390.5,-179.5C390.5,-179.5 295.5,-179.5 295.5,-179.5 289.5,-179.5 283.5,-173.5 283.5,-167.5 283.5,-167.5 283.5,-123.5 283.5,-123.5 283.5,-117.5 289.5,-111.5 295.5,-111.5 295.5,-111.5 390.5,-111.5 390.5,-111.5 396.5,-111.5 402.5,-117.5 402.5,-123.5 402.5,-123.5 402.5,-167.5 402.5,-167.5 402.5,-173.5 396.5,-179.5 390.5,-179.5\"/>\n",
       "<text text-anchor=\"start\" x=\"313.5\" y=\"-164.3\" font-family=\"Helvetica,sans-Serif\" font-size=\"14.00\" fill=\"#000000\">gini = 0.0</text>\n",
       "<text text-anchor=\"start\" x=\"303.5\" y=\"-149.3\" font-family=\"Helvetica,sans-Serif\" font-size=\"14.00\" fill=\"#000000\">samples = 3</text>\n",
       "<text text-anchor=\"start\" x=\"293.5\" y=\"-134.3\" font-family=\"Helvetica,sans-Serif\" font-size=\"14.00\" fill=\"#000000\">value = [0, 0, 3]</text>\n",
       "<text text-anchor=\"start\" x=\"291.5\" y=\"-119.3\" font-family=\"Helvetica,sans-Serif\" font-size=\"14.00\" fill=\"#000000\">class = virginica</text>\n",
       "</g>\n",
       "<!-- 7&#45;&gt;8 -->\n",
       "<g id=\"edge8\" class=\"edge\">\n",
       "<title>7&#45;&gt;8</title>\n",
       "<path fill=\"none\" stroke=\"#000000\" d=\"M402.8229,-222.8796C394.0667,-211.5536 384.5738,-199.2748 375.7844,-187.9058\"/>\n",
       "<polygon fill=\"#000000\" stroke=\"#000000\" points=\"378.4146,-185.5856 369.5292,-179.8149 372.8766,-189.8671 378.4146,-185.5856\"/>\n",
       "</g>\n",
       "<!-- 9 -->\n",
       "<g id=\"node10\" class=\"node\">\n",
       "<title>9</title>\n",
       "<path fill=\"#9cf2c0\" stroke=\"#000000\" d=\"M575.5,-187C575.5,-187 432.5,-187 432.5,-187 426.5,-187 420.5,-181 420.5,-175 420.5,-175 420.5,-116 420.5,-116 420.5,-110 426.5,-104 432.5,-104 432.5,-104 575.5,-104 575.5,-104 581.5,-104 587.5,-110 587.5,-116 587.5,-116 587.5,-175 587.5,-175 587.5,-181 581.5,-187 575.5,-187\"/>\n",
       "<text text-anchor=\"start\" x=\"428.5\" y=\"-171.8\" font-family=\"Helvetica,sans-Serif\" font-size=\"14.00\" fill=\"#000000\">petal length (cm) ≤ 5.45</text>\n",
       "<text text-anchor=\"start\" x=\"466\" y=\"-156.8\" font-family=\"Helvetica,sans-Serif\" font-size=\"14.00\" fill=\"#000000\">gini = 0.444</text>\n",
       "<text text-anchor=\"start\" x=\"464.5\" y=\"-141.8\" font-family=\"Helvetica,sans-Serif\" font-size=\"14.00\" fill=\"#000000\">samples = 3</text>\n",
       "<text text-anchor=\"start\" x=\"454.5\" y=\"-126.8\" font-family=\"Helvetica,sans-Serif\" font-size=\"14.00\" fill=\"#000000\">value = [0, 2, 1]</text>\n",
       "<text text-anchor=\"start\" x=\"448\" y=\"-111.8\" font-family=\"Helvetica,sans-Serif\" font-size=\"14.00\" fill=\"#000000\">class = versicolor</text>\n",
       "</g>\n",
       "<!-- 7&#45;&gt;9 -->\n",
       "<g id=\"edge9\" class=\"edge\">\n",
       "<title>7&#45;&gt;9</title>\n",
       "<path fill=\"none\" stroke=\"#000000\" d=\"M459.1329,-222.8796C464.1461,-214.2335 469.4813,-205.0322 474.6581,-196.1042\"/>\n",
       "<polygon fill=\"#000000\" stroke=\"#000000\" points=\"477.7758,-197.7047 479.7641,-187.2981 471.7202,-194.1934 477.7758,-197.7047\"/>\n",
       "</g>\n",
       "<!-- 10 -->\n",
       "<g id=\"node11\" class=\"node\">\n",
       "<title>10</title>\n",
       "<path fill=\"#39e581\" stroke=\"#000000\" d=\"M485,-68C485,-68 381,-68 381,-68 375,-68 369,-62 369,-56 369,-56 369,-12 369,-12 369,-6 375,0 381,0 381,0 485,0 485,0 491,0 497,-6 497,-12 497,-12 497,-56 497,-56 497,-62 491,-68 485,-68\"/>\n",
       "<text text-anchor=\"start\" x=\"403.5\" y=\"-52.8\" font-family=\"Helvetica,sans-Serif\" font-size=\"14.00\" fill=\"#000000\">gini = 0.0</text>\n",
       "<text text-anchor=\"start\" x=\"393.5\" y=\"-37.8\" font-family=\"Helvetica,sans-Serif\" font-size=\"14.00\" fill=\"#000000\">samples = 2</text>\n",
       "<text text-anchor=\"start\" x=\"383.5\" y=\"-22.8\" font-family=\"Helvetica,sans-Serif\" font-size=\"14.00\" fill=\"#000000\">value = [0, 2, 0]</text>\n",
       "<text text-anchor=\"start\" x=\"377\" y=\"-7.8\" font-family=\"Helvetica,sans-Serif\" font-size=\"14.00\" fill=\"#000000\">class = versicolor</text>\n",
       "</g>\n",
       "<!-- 9&#45;&gt;10 -->\n",
       "<g id=\"edge10\" class=\"edge\">\n",
       "<title>9&#45;&gt;10</title>\n",
       "<path fill=\"none\" stroke=\"#000000\" d=\"M477.5622,-103.9815C471.944,-95.1585 466.0012,-85.8258 460.3497,-76.9506\"/>\n",
       "<polygon fill=\"#000000\" stroke=\"#000000\" points=\"463.1416,-74.8188 454.8181,-68.2637 457.2371,-78.5787 463.1416,-74.8188\"/>\n",
       "</g>\n",
       "<!-- 11 -->\n",
       "<g id=\"node12\" class=\"node\">\n",
       "<title>11</title>\n",
       "<path fill=\"#8139e5\" stroke=\"#000000\" d=\"M622.5,-68C622.5,-68 527.5,-68 527.5,-68 521.5,-68 515.5,-62 515.5,-56 515.5,-56 515.5,-12 515.5,-12 515.5,-6 521.5,0 527.5,0 527.5,0 622.5,0 622.5,0 628.5,0 634.5,-6 634.5,-12 634.5,-12 634.5,-56 634.5,-56 634.5,-62 628.5,-68 622.5,-68\"/>\n",
       "<text text-anchor=\"start\" x=\"545.5\" y=\"-52.8\" font-family=\"Helvetica,sans-Serif\" font-size=\"14.00\" fill=\"#000000\">gini = 0.0</text>\n",
       "<text text-anchor=\"start\" x=\"535.5\" y=\"-37.8\" font-family=\"Helvetica,sans-Serif\" font-size=\"14.00\" fill=\"#000000\">samples = 1</text>\n",
       "<text text-anchor=\"start\" x=\"525.5\" y=\"-22.8\" font-family=\"Helvetica,sans-Serif\" font-size=\"14.00\" fill=\"#000000\">value = [0, 0, 1]</text>\n",
       "<text text-anchor=\"start\" x=\"523.5\" y=\"-7.8\" font-family=\"Helvetica,sans-Serif\" font-size=\"14.00\" fill=\"#000000\">class = virginica</text>\n",
       "</g>\n",
       "<!-- 9&#45;&gt;11 -->\n",
       "<g id=\"edge11\" class=\"edge\">\n",
       "<title>9&#45;&gt;11</title>\n",
       "<path fill=\"none\" stroke=\"#000000\" d=\"M530.4378,-103.9815C536.056,-95.1585 541.9988,-85.8258 547.6503,-76.9506\"/>\n",
       "<polygon fill=\"#000000\" stroke=\"#000000\" points=\"550.7629,-78.5787 553.1819,-68.2637 544.8584,-74.8188 550.7629,-78.5787\"/>\n",
       "</g>\n",
       "<!-- 13 -->\n",
       "<g id=\"node14\" class=\"node\">\n",
       "<title>13</title>\n",
       "<path fill=\"#c09cf2\" stroke=\"#000000\" d=\"M743.5,-306C743.5,-306 596.5,-306 596.5,-306 590.5,-306 584.5,-300 584.5,-294 584.5,-294 584.5,-235 584.5,-235 584.5,-229 590.5,-223 596.5,-223 596.5,-223 743.5,-223 743.5,-223 749.5,-223 755.5,-229 755.5,-235 755.5,-235 755.5,-294 755.5,-294 755.5,-300 749.5,-306 743.5,-306\"/>\n",
       "<text text-anchor=\"start\" x=\"592.5\" y=\"-290.8\" font-family=\"Helvetica,sans-Serif\" font-size=\"14.00\" fill=\"#000000\">sepal length (cm) ≤ 5.95</text>\n",
       "<text text-anchor=\"start\" x=\"632\" y=\"-275.8\" font-family=\"Helvetica,sans-Serif\" font-size=\"14.00\" fill=\"#000000\">gini = 0.444</text>\n",
       "<text text-anchor=\"start\" x=\"630.5\" y=\"-260.8\" font-family=\"Helvetica,sans-Serif\" font-size=\"14.00\" fill=\"#000000\">samples = 3</text>\n",
       "<text text-anchor=\"start\" x=\"620.5\" y=\"-245.8\" font-family=\"Helvetica,sans-Serif\" font-size=\"14.00\" fill=\"#000000\">value = [0, 1, 2]</text>\n",
       "<text text-anchor=\"start\" x=\"618.5\" y=\"-230.8\" font-family=\"Helvetica,sans-Serif\" font-size=\"14.00\" fill=\"#000000\">class = virginica</text>\n",
       "</g>\n",
       "<!-- 12&#45;&gt;13 -->\n",
       "<g id=\"edge13\" class=\"edge\">\n",
       "<title>12&#45;&gt;13</title>\n",
       "<path fill=\"none\" stroke=\"#000000\" d=\"M670,-341.8796C670,-333.6838 670,-324.9891 670,-316.5013\"/>\n",
       "<polygon fill=\"#000000\" stroke=\"#000000\" points=\"673.5001,-316.298 670,-306.2981 666.5001,-316.2981 673.5001,-316.298\"/>\n",
       "</g>\n",
       "<!-- 16 -->\n",
       "<g id=\"node17\" class=\"node\">\n",
       "<title>16</title>\n",
       "<path fill=\"#8139e5\" stroke=\"#000000\" d=\"M884.5,-298.5C884.5,-298.5 785.5,-298.5 785.5,-298.5 779.5,-298.5 773.5,-292.5 773.5,-286.5 773.5,-286.5 773.5,-242.5 773.5,-242.5 773.5,-236.5 779.5,-230.5 785.5,-230.5 785.5,-230.5 884.5,-230.5 884.5,-230.5 890.5,-230.5 896.5,-236.5 896.5,-242.5 896.5,-242.5 896.5,-286.5 896.5,-286.5 896.5,-292.5 890.5,-298.5 884.5,-298.5\"/>\n",
       "<text text-anchor=\"start\" x=\"805.5\" y=\"-283.3\" font-family=\"Helvetica,sans-Serif\" font-size=\"14.00\" fill=\"#000000\">gini = 0.0</text>\n",
       "<text text-anchor=\"start\" x=\"791\" y=\"-268.3\" font-family=\"Helvetica,sans-Serif\" font-size=\"14.00\" fill=\"#000000\">samples = 40</text>\n",
       "<text text-anchor=\"start\" x=\"781.5\" y=\"-253.3\" font-family=\"Helvetica,sans-Serif\" font-size=\"14.00\" fill=\"#000000\">value = [0, 0, 40]</text>\n",
       "<text text-anchor=\"start\" x=\"783.5\" y=\"-238.3\" font-family=\"Helvetica,sans-Serif\" font-size=\"14.00\" fill=\"#000000\">class = virginica</text>\n",
       "</g>\n",
       "<!-- 12&#45;&gt;16 -->\n",
       "<g id=\"edge16\" class=\"edge\">\n",
       "<title>12&#45;&gt;16</title>\n",
       "<path fill=\"none\" stroke=\"#000000\" d=\"M727.709,-341.8796C744.407,-329.8368 762.5987,-316.7167 779.1793,-304.7586\"/>\n",
       "<polygon fill=\"#000000\" stroke=\"#000000\" points=\"781.6232,-307.3113 787.6865,-298.623 777.5285,-301.6339 781.6232,-307.3113\"/>\n",
       "</g>\n",
       "<!-- 14 -->\n",
       "<g id=\"node15\" class=\"node\">\n",
       "<title>14</title>\n",
       "<path fill=\"#39e581\" stroke=\"#000000\" d=\"M722,-179.5C722,-179.5 618,-179.5 618,-179.5 612,-179.5 606,-173.5 606,-167.5 606,-167.5 606,-123.5 606,-123.5 606,-117.5 612,-111.5 618,-111.5 618,-111.5 722,-111.5 722,-111.5 728,-111.5 734,-117.5 734,-123.5 734,-123.5 734,-167.5 734,-167.5 734,-173.5 728,-179.5 722,-179.5\"/>\n",
       "<text text-anchor=\"start\" x=\"640.5\" y=\"-164.3\" font-family=\"Helvetica,sans-Serif\" font-size=\"14.00\" fill=\"#000000\">gini = 0.0</text>\n",
       "<text text-anchor=\"start\" x=\"630.5\" y=\"-149.3\" font-family=\"Helvetica,sans-Serif\" font-size=\"14.00\" fill=\"#000000\">samples = 1</text>\n",
       "<text text-anchor=\"start\" x=\"620.5\" y=\"-134.3\" font-family=\"Helvetica,sans-Serif\" font-size=\"14.00\" fill=\"#000000\">value = [0, 1, 0]</text>\n",
       "<text text-anchor=\"start\" x=\"614\" y=\"-119.3\" font-family=\"Helvetica,sans-Serif\" font-size=\"14.00\" fill=\"#000000\">class = versicolor</text>\n",
       "</g>\n",
       "<!-- 13&#45;&gt;14 -->\n",
       "<g id=\"edge14\" class=\"edge\">\n",
       "<title>13&#45;&gt;14</title>\n",
       "<path fill=\"none\" stroke=\"#000000\" d=\"M670,-222.8796C670,-212.2134 670,-200.7021 670,-189.9015\"/>\n",
       "<polygon fill=\"#000000\" stroke=\"#000000\" points=\"673.5001,-189.8149 670,-179.8149 666.5001,-189.815 673.5001,-189.8149\"/>\n",
       "</g>\n",
       "<!-- 15 -->\n",
       "<g id=\"node16\" class=\"node\">\n",
       "<title>15</title>\n",
       "<path fill=\"#8139e5\" stroke=\"#000000\" d=\"M859.5,-179.5C859.5,-179.5 764.5,-179.5 764.5,-179.5 758.5,-179.5 752.5,-173.5 752.5,-167.5 752.5,-167.5 752.5,-123.5 752.5,-123.5 752.5,-117.5 758.5,-111.5 764.5,-111.5 764.5,-111.5 859.5,-111.5 859.5,-111.5 865.5,-111.5 871.5,-117.5 871.5,-123.5 871.5,-123.5 871.5,-167.5 871.5,-167.5 871.5,-173.5 865.5,-179.5 859.5,-179.5\"/>\n",
       "<text text-anchor=\"start\" x=\"782.5\" y=\"-164.3\" font-family=\"Helvetica,sans-Serif\" font-size=\"14.00\" fill=\"#000000\">gini = 0.0</text>\n",
       "<text text-anchor=\"start\" x=\"772.5\" y=\"-149.3\" font-family=\"Helvetica,sans-Serif\" font-size=\"14.00\" fill=\"#000000\">samples = 2</text>\n",
       "<text text-anchor=\"start\" x=\"762.5\" y=\"-134.3\" font-family=\"Helvetica,sans-Serif\" font-size=\"14.00\" fill=\"#000000\">value = [0, 0, 2]</text>\n",
       "<text text-anchor=\"start\" x=\"760.5\" y=\"-119.3\" font-family=\"Helvetica,sans-Serif\" font-size=\"14.00\" fill=\"#000000\">class = virginica</text>\n",
       "</g>\n",
       "<!-- 13&#45;&gt;15 -->\n",
       "<g id=\"edge15\" class=\"edge\">\n",
       "<title>13&#45;&gt;15</title>\n",
       "<path fill=\"none\" stroke=\"#000000\" d=\"M719.6647,-222.8796C733.8358,-211.0038 749.257,-198.0804 763.3658,-186.2568\"/>\n",
       "<polygon fill=\"#000000\" stroke=\"#000000\" points=\"765.6363,-188.9206 771.0528,-179.8149 761.1402,-183.5554 765.6363,-188.9206\"/>\n",
       "</g>\n",
       "</g>\n",
       "</svg>\n"
      ],
      "text/plain": [
       "<graphviz.files.Source at 0x7f203e419eb8>"
      ]
     },
     "execution_count": 6,
     "metadata": {
      "tags": []
     },
     "output_type": "execute_result"
    }
   ],
   "source": [
    "dot_data = tree.export_graphviz(clf, out_file=None, \n",
    "                      feature_names=iris.feature_names,  \n",
    "                      class_names=iris.target_names,  \n",
    "                      filled=True, rounded=True,  \n",
    "                      special_characters=True)\n",
    "graph = graphviz.Source(dot_data)\n",
    "graph  "
   ]
  },
  {
   "cell_type": "markdown",
   "metadata": {
    "id": "deIsDwSrphv0"
   },
   "source": [
    "## 6) Analysis"
   ]
  },
  {
   "cell_type": "markdown",
   "metadata": {
    "id": "bz4xkuyupjqW"
   },
   "source": [
    "- Total of 130 samples are in the root node. Petal length (cm) gave the highest gini impurity score following which a split was made\n",
    "- The decision tree depth is 5\n",
    "- The splitting stops when all the samples at a node belong to the same class"
   ]
  },
  {
   "cell_type": "markdown",
   "metadata": {
    "id": "bCtkK8NQqGXY"
   },
   "source": [
    "## 7) Accuracy "
   ]
  },
  {
   "cell_type": "code",
   "execution_count": 7,
   "metadata": {
    "colab": {
     "base_uri": "https://localhost:8080/"
    },
    "id": "QEmH5p_2d-Bn",
    "outputId": "5ff4a039-e1ab-44af-b71f-59ed9b418c78"
   },
   "outputs": [
    {
     "name": "stdout",
     "output_type": "stream",
     "text": [
      "Accuracy score of CART Model:  1.0\n"
     ]
    }
   ],
   "source": [
    "print(\"Accuracy score of CART Model: \",  clf.score(X_test, y_test))"
   ]
  },
  {
   "cell_type": "markdown",
   "metadata": {
    "id": "NwkzdTLvqlww"
   },
   "source": [
    "Using the 20 samples which we split above, passing them to the given trained model, we get a 100% accuracy!\n",
    "\n",
    "Note that the accuracy depends on a lot of hyper-parameters and this could be a case of overfitting, as there is less data available."
   ]
  },
  {
   "cell_type": "markdown",
   "metadata": {
    "id": "0g0c__yxqqLk"
   },
   "source": [
    "# C4.5\n"
   ]
  },
  {
   "cell_type": "markdown",
   "metadata": {
    "id": "9KErG2SCJYE6"
   },
   "source": [
    "## 1) Install required libraries"
   ]
  },
  {
   "cell_type": "code",
   "execution_count": 8,
   "metadata": {
    "colab": {
     "base_uri": "https://localhost:8080/"
    },
    "id": "hZvm-g83qrtE",
    "outputId": "067c775e-df60-4cec-e1dd-a4fd55ff5d00"
   },
   "outputs": [
    {
     "name": "stdout",
     "output_type": "stream",
     "text": [
      "Requirement already satisfied: chefboost in /usr/local/lib/python3.6/dist-packages (0.0.10)\n",
      "Requirement already satisfied: pandas>=0.22.0 in /usr/local/lib/python3.6/dist-packages (from chefboost) (1.1.5)\n",
      "Requirement already satisfied: numpy>=1.14.0 in /usr/local/lib/python3.6/dist-packages (from chefboost) (1.19.5)\n",
      "Requirement already satisfied: tqdm>=4.30.0 in /usr/local/lib/python3.6/dist-packages (from chefboost) (4.41.1)\n",
      "Requirement already satisfied: python-dateutil>=2.7.3 in /usr/local/lib/python3.6/dist-packages (from pandas>=0.22.0->chefboost) (2.8.1)\n",
      "Requirement already satisfied: pytz>=2017.2 in /usr/local/lib/python3.6/dist-packages (from pandas>=0.22.0->chefboost) (2018.9)\n",
      "Requirement already satisfied: six>=1.5 in /usr/local/lib/python3.6/dist-packages (from python-dateutil>=2.7.3->pandas>=0.22.0->chefboost) (1.15.0)\n"
     ]
    }
   ],
   "source": [
    "!pip install chefboost\n"
   ]
  },
  {
   "cell_type": "markdown",
   "metadata": {
    "id": "iz4BilHyJhPG"
   },
   "source": [
    "## 2) Load the data"
   ]
  },
  {
   "cell_type": "markdown",
   "metadata": {
    "id": "q28T0omOJj4p"
   },
   "source": [
    "Here, loading the data is slightly differenet as we use a custom implementation of C4.5. We first need to load the numpy values and then convert to pandas dataframe. "
   ]
  },
  {
   "cell_type": "code",
   "execution_count": 9,
   "metadata": {
    "id": "PpIrrUlpBbfU"
   },
   "outputs": [],
   "source": [
    "data = load_iris()\n",
    "df = pd.DataFrame(data.data, columns=data.feature_names)\n",
    "df['Decision'] = pd.Series(data.target)\n",
    "df['Decision'] = df['Decision'].replace({0:\"type0\" , 1: \"type1\",2:\"type2\"});\n",
    "train=df.sample(frac=0.8,random_state=10) #random state is a seed value\n",
    "test=df.drop(train.index)"
   ]
  },
  {
   "cell_type": "markdown",
   "metadata": {
    "id": "J10mutZvJ3X-"
   },
   "source": [
    "The top five elements of the curated dataset is shown below"
   ]
  },
  {
   "cell_type": "code",
   "execution_count": 10,
   "metadata": {
    "colab": {
     "base_uri": "https://localhost:8080/"
    },
    "id": "wyXxFKiqJxMp",
    "outputId": "3e431d41-6061-42ec-a85c-0d378308d849"
   },
   "outputs": [
    {
     "name": "stdout",
     "output_type": "stream",
     "text": [
      "Train Dataset:       sepal length (cm)  sepal width (cm)  ...  petal width (cm)  Decision\n",
      "87                 6.3               2.3  ...               1.3     type1\n",
      "111                6.4               2.7  ...               1.9     type2\n",
      "10                 5.4               3.7  ...               0.2     type0\n",
      "91                 6.1               3.0  ...               1.4     type1\n",
      "49                 5.0               3.3  ...               0.2     type0\n",
      "\n",
      "[5 rows x 5 columns]\n",
      "Test Dataset:      sepal length (cm)  sepal width (cm)  ...  petal width (cm)  Decision\n",
      "0                 5.1               3.5  ...               0.2     type0\n",
      "8                 4.4               2.9  ...               0.2     type0\n",
      "9                 4.9               3.1  ...               0.1     type0\n",
      "13                4.3               3.0  ...               0.1     type0\n",
      "15                5.7               4.4  ...               0.4     type0\n",
      "\n",
      "[5 rows x 5 columns]\n"
     ]
    }
   ],
   "source": [
    "print(\"Train Dataset: \", train.head())\n",
    "print(\"Test Dataset: \", test.head())"
   ]
  },
  {
   "cell_type": "markdown",
   "metadata": {
    "id": "KWtHqWE5KIXX"
   },
   "source": [
    "## 3) Fit the model"
   ]
  },
  {
   "cell_type": "code",
   "execution_count": 11,
   "metadata": {
    "id": "cPRC9ibOBmfZ"
   },
   "outputs": [],
   "source": [
    "from chefboost import Chefboost as chef\n",
    "config = {'algorithm': 'C4.5'}"
   ]
  },
  {
   "cell_type": "code",
   "execution_count": 12,
   "metadata": {
    "colab": {
     "base_uri": "https://localhost:8080/"
    },
    "id": "AFz8xZ3XBtfD",
    "outputId": "4fb518e6-3b1e-493f-ce01-d9f97f92b869"
   },
   "outputs": [
    {
     "name": "stdout",
     "output_type": "stream",
     "text": [
      "C4.5  tree is going to be built...\n",
      "-------------------------\n",
      "finished in  0.3107161521911621  seconds\n",
      "-------------------------\n",
      "Evaluate  train set\n",
      "-------------------------\n",
      "Accuracy:  78.33333333333333 % on  120  instances\n",
      "Labels:  ['type1' 'type2' 'type0']\n",
      "Confusion matrix:  [[20, 5, 0], [21, 33, 0], [0, 0, 41]]\n",
      "Decision  type1  => Accuray:  78.3333 %, Precision:  80.0 %, Recall:  48.7805 %, F1:  60.6061 %\n",
      "Decision  type2  => Accuray:  78.3333 %, Precision:  61.1111 %, Recall:  86.8421 %, F1:  71.7391 %\n",
      "Decision  type0  => Accuray:  100.0 %, Precision:  100.0 %, Recall:  100.0 %, F1:  100.0 %\n",
      "-------------------------\n",
      "Evaluate  validation set\n",
      "-------------------------\n",
      "Accuracy:  80.0 % on  30  instances\n",
      "Labels:  ['type0' 'type1' 'type2']\n",
      "Confusion matrix:  [[9, 0, 0], [0, 4, 1], [0, 5, 11]]\n",
      "Decision  type0  => Accuray:  100.0 %, Precision:  100.0 %, Recall:  100.0 %, F1:  100.0 %\n",
      "Decision  type1  => Accuray:  80.0 %, Precision:  80.0 %, Recall:  44.4444 %, F1:  57.1428 %\n",
      "Decision  type2  => Accuray:  80.0 %, Precision:  68.75 %, Recall:  91.6667 %, F1:  78.5714 %\n"
     ]
    }
   ],
   "source": [
    "model = chef.fit(train, config ,test)"
   ]
  },
  {
   "cell_type": "markdown",
   "metadata": {
    "id": "_W5lRwSBLdfU"
   },
   "source": [
    "## 4) Visualisation"
   ]
  },
  {
   "cell_type": "markdown",
   "metadata": {
    "id": "9S_YI3t3LllW"
   },
   "source": [
    "The decision tree from the above trained model is shown below as a collection of if-else statements"
   ]
  },
  {
   "cell_type": "markdown",
   "metadata": {
    "id": "NMAKmIu4LfSf"
   },
   "source": [
    "```\n",
    "def findDecision(obj): #obj[0]: sepal length (cm), obj[1]: sepal width (cm), obj[2]: petal length (cm), obj[3]: petal width (cm)\n",
    "   # {\"feature\": \"petal length (cm)\", \"instances\": 120, \"metric_value\": 1.5841, \"depth\": 1}\n",
    "   if obj[2] == '>1.9693399208980304':\n",
    "      # {\"feature\": \"sepal length (cm)\", \"instances\": 79, \"metric_value\": 0.999, \"depth\": 2}\n",
    "      if obj[0] == '>5.806666666666666':\n",
    "         # {\"feature\": \"sepal width (cm)\", \"instances\": 54, \"metric_value\": 0.9641, \"depth\": 3}\n",
    "         if obj[1] == '<=3.0483333333333325':\n",
    "            # {\"feature\": \"petal width (cm)\", \"instances\": 35, \"metric_value\": 0.971, \"depth\": 4}\n",
    "            if obj[3] == '>0.42651491301769284':\n",
    "               return 'type2'\n",
    "            else:\n",
    "               return 'type2'\n",
    "         elif obj[1] == '>3.0483333333333325':\n",
    "            # {\"feature\": \"petal width (cm)\", \"instances\": 19, \"metric_value\": 0.9495, \"depth\": 4}\n",
    "            if obj[3] == '>0.42651491301769284':\n",
    "               return 'type2'\n",
    "            else:\n",
    "               return 'type2'\n",
    "         else:\n",
    "            return 'type2'\n",
    "      elif obj[0] == '<=5.806666666666666':\n",
    "         # {\"feature\": \"sepal width (cm)\", \"instances\": 25, \"metric_value\": 0.7219, \"depth\": 3}\n",
    "         if obj[1] == '<=3.0483333333333325':\n",
    "            # {\"feature\": \"petal width (cm)\", \"instances\": 25, \"metric_value\": 0.7219, \"depth\": 4}\n",
    "            if obj[3] == '>0.42651491301769284':\n",
    "               return 'type1'\n",
    "            else:\n",
    "               return 'type1'\n",
    "         else:\n",
    "            return 'type1'\n",
    "      else:\n",
    "         return 'type1'\n",
    "   elif obj[2] == '<=1.9693399208980304':\n",
    "      return 'type0'\n",
    "   else:\n",
    "      return 'type0'\n",
    "```"
   ]
  },
  {
   "cell_type": "markdown",
   "metadata": {
    "id": "uOXusz_pKOgd"
   },
   "source": [
    "## 5) Analysis and Results"
   ]
  },
  {
   "cell_type": "markdown",
   "metadata": {
    "id": "oAlEAinFKRGM"
   },
   "source": [
    "As you can see, the accuracy of C4.5 is 78.3% on training dataset. On the validation, we achieve a low accuracy of 80% on testing. This shows C4.5 is performing slightly worser than CART."
   ]
  },
  {
   "cell_type": "markdown",
   "metadata": {
    "id": "JgNXFfdSL4dn"
   },
   "source": [
    "# ID3"
   ]
  },
  {
   "cell_type": "markdown",
   "metadata": {
    "id": "5WRWxXh1MHNA"
   },
   "source": [
    "## 1) Install required libraries"
   ]
  },
  {
   "cell_type": "code",
   "execution_count": 13,
   "metadata": {
    "id": "iwdmF63vB056"
   },
   "outputs": [],
   "source": [
    "from sklearn.datasets import load_iris\n",
    "from sklearn import tree\n",
    "from sklearn.model_selection import train_test_split\n",
    "from sklearn.metrics import accuracy_score\n",
    "import graphviz \n",
    "import pandas as pd"
   ]
  },
  {
   "cell_type": "markdown",
   "metadata": {
    "id": "ci2lIZcsMOVu"
   },
   "source": [
    "## 2) Load the data"
   ]
  },
  {
   "cell_type": "markdown",
   "metadata": {
    "id": "oZFTL-N2MPoD"
   },
   "source": [
    "Here, we are loading via scikit-learn's load_iris class. We can alternatively use ```pd.read_csv()``` if we have the csv file of the dataset\n"
   ]
  },
  {
   "cell_type": "code",
   "execution_count": 14,
   "metadata": {
    "id": "-MGXRT2uMMss"
   },
   "outputs": [],
   "source": [
    "iris = load_iris()\n",
    "X, y = load_iris(return_X_y=True)"
   ]
  },
  {
   "cell_type": "markdown",
   "metadata": {
    "id": "DU5U_RFFMVWt"
   },
   "source": [
    "Print first five values of numpy array to verify the dataset values"
   ]
  },
  {
   "cell_type": "code",
   "execution_count": 15,
   "metadata": {
    "colab": {
     "base_uri": "https://localhost:8080/"
    },
    "id": "agChR5o2MUPL",
    "outputId": "ffc78f7e-ba93-451f-c6e8-7a115f979487"
   },
   "outputs": [
    {
     "name": "stdout",
     "output_type": "stream",
     "text": [
      "Features of first five values are: \n",
      "[[5.1 3.5 1.4 0.2]\n",
      " [4.9 3.  1.4 0.2]\n",
      " [4.7 3.2 1.3 0.2]\n",
      " [4.6 3.1 1.5 0.2]\n",
      " [5.  3.6 1.4 0.2]]\n",
      "Classes of first five values are:  [0 0 0 0 0]\n"
     ]
    }
   ],
   "source": [
    "print(\"Features of first five values are: \")\n",
    "print(X[0:5])\n",
    "print(\"Classes of first five values are: \", y[0:5])"
   ]
  },
  {
   "cell_type": "markdown",
   "metadata": {
    "id": "MqOsLyPbMbrY"
   },
   "source": [
    "## 3) Split data"
   ]
  },
  {
   "cell_type": "markdown",
   "metadata": {
    "id": "ylFGvGrcMdyq"
   },
   "source": [
    "Use ```train_test_split()``` to split the X and y to training and testing dataset. Here, 20% of the dataset is reserved to test our algorithm"
   ]
  },
  {
   "cell_type": "code",
   "execution_count": 16,
   "metadata": {
    "id": "u1eKw-efMaB6"
   },
   "outputs": [],
   "source": [
    "X_train, X_test, y_train, y_test = train_test_split(X, y, test_size = 20, random_state = 10)"
   ]
  },
  {
   "cell_type": "markdown",
   "metadata": {
    "id": "uVNdymPrMlHB"
   },
   "source": [
    "## 4) Fit the model"
   ]
  },
  {
   "cell_type": "markdown",
   "metadata": {
    "id": "G2hd7Of4Mmy9"
   },
   "source": [
    "Here the ID3 model is fitted using the Information Gain criterion (entropy)"
   ]
  },
  {
   "cell_type": "code",
   "execution_count": 17,
   "metadata": {
    "id": "ceAnH0nbMjXI"
   },
   "outputs": [],
   "source": [
    "id3 = tree.DecisionTreeClassifier(criterion='entropy')\n",
    "id3 = id3.fit(X_train, y_train)"
   ]
  },
  {
   "cell_type": "markdown",
   "metadata": {
    "id": "O9I1F4fQMzUg"
   },
   "source": [
    "## 5) Visualise the tree"
   ]
  },
  {
   "cell_type": "markdown",
   "metadata": {
    "id": "0JjAyHqAM1eO"
   },
   "source": [
    "Using the graphviz library, visualise the constructed tree"
   ]
  },
  {
   "cell_type": "code",
   "execution_count": 18,
   "metadata": {
    "colab": {
     "base_uri": "https://localhost:8080/",
     "height": 916
    },
    "id": "NUF3MkFFMxQ7",
    "outputId": "3d0db899-a663-4391-b9f4-ebf9b8a9aacd"
   },
   "outputs": [
    {
     "data": {
      "image/svg+xml": [
       "<?xml version=\"1.0\" encoding=\"UTF-8\" standalone=\"no\"?>\n",
       "<!DOCTYPE svg PUBLIC \"-//W3C//DTD SVG 1.1//EN\"\n",
       " \"http://www.w3.org/Graphics/SVG/1.1/DTD/svg11.dtd\">\n",
       "<!-- Generated by graphviz version 2.40.1 (20161225.0304)\n",
       " -->\n",
       "<!-- Title: Tree Pages: 1 -->\n",
       "<svg width=\"909pt\" height=\"671pt\"\n",
       " viewBox=\"0.00 0.00 908.50 671.00\" xmlns=\"http://www.w3.org/2000/svg\" xmlns:xlink=\"http://www.w3.org/1999/xlink\">\n",
       "<g id=\"graph0\" class=\"graph\" transform=\"scale(1 1) rotate(0) translate(4 667)\">\n",
       "<title>Tree</title>\n",
       "<polygon fill=\"#ffffff\" stroke=\"transparent\" points=\"-4,4 -4,-667 904.5,-667 904.5,4 -4,4\"/>\n",
       "<!-- 0 -->\n",
       "<g id=\"node1\" class=\"node\">\n",
       "<title>0</title>\n",
       "<path fill=\"#f8f4fe\" stroke=\"#000000\" d=\"M539.5,-663C539.5,-663 410.5,-663 410.5,-663 404.5,-663 398.5,-657 398.5,-651 398.5,-651 398.5,-592 398.5,-592 398.5,-586 404.5,-580 410.5,-580 410.5,-580 539.5,-580 539.5,-580 545.5,-580 551.5,-586 551.5,-592 551.5,-592 551.5,-651 551.5,-651 551.5,-657 545.5,-663 539.5,-663\"/>\n",
       "<text text-anchor=\"start\" x=\"406.5\" y=\"-647.8\" font-family=\"Helvetica,sans-Serif\" font-size=\"14.00\" fill=\"#000000\">petal width (cm) ≤ 0.8</text>\n",
       "<text text-anchor=\"start\" x=\"424\" y=\"-632.8\" font-family=\"Helvetica,sans-Serif\" font-size=\"14.00\" fill=\"#000000\">entropy = 1.582</text>\n",
       "<text text-anchor=\"start\" x=\"427\" y=\"-617.8\" font-family=\"Helvetica,sans-Serif\" font-size=\"14.00\" fill=\"#000000\">samples = 130</text>\n",
       "<text text-anchor=\"start\" x=\"413\" y=\"-602.8\" font-family=\"Helvetica,sans-Serif\" font-size=\"14.00\" fill=\"#000000\">value = [42, 41, 47]</text>\n",
       "<text text-anchor=\"start\" x=\"423.5\" y=\"-587.8\" font-family=\"Helvetica,sans-Serif\" font-size=\"14.00\" fill=\"#000000\">class = virginica</text>\n",
       "</g>\n",
       "<!-- 1 -->\n",
       "<g id=\"node2\" class=\"node\">\n",
       "<title>1</title>\n",
       "<path fill=\"#e58139\" stroke=\"#000000\" d=\"M444.5,-536.5C444.5,-536.5 345.5,-536.5 345.5,-536.5 339.5,-536.5 333.5,-530.5 333.5,-524.5 333.5,-524.5 333.5,-480.5 333.5,-480.5 333.5,-474.5 339.5,-468.5 345.5,-468.5 345.5,-468.5 444.5,-468.5 444.5,-468.5 450.5,-468.5 456.5,-474.5 456.5,-480.5 456.5,-480.5 456.5,-524.5 456.5,-524.5 456.5,-530.5 450.5,-536.5 444.5,-536.5\"/>\n",
       "<text text-anchor=\"start\" x=\"352.5\" y=\"-521.3\" font-family=\"Helvetica,sans-Serif\" font-size=\"14.00\" fill=\"#000000\">entropy = 0.0</text>\n",
       "<text text-anchor=\"start\" x=\"351\" y=\"-506.3\" font-family=\"Helvetica,sans-Serif\" font-size=\"14.00\" fill=\"#000000\">samples = 42</text>\n",
       "<text text-anchor=\"start\" x=\"341.5\" y=\"-491.3\" font-family=\"Helvetica,sans-Serif\" font-size=\"14.00\" fill=\"#000000\">value = [42, 0, 0]</text>\n",
       "<text text-anchor=\"start\" x=\"348\" y=\"-476.3\" font-family=\"Helvetica,sans-Serif\" font-size=\"14.00\" fill=\"#000000\">class = setosa</text>\n",
       "</g>\n",
       "<!-- 0&#45;&gt;1 -->\n",
       "<g id=\"edge1\" class=\"edge\">\n",
       "<title>0&#45;&gt;1</title>\n",
       "<path fill=\"none\" stroke=\"#000000\" d=\"M447.0199,-579.8796C439.4797,-568.6636 431.3113,-556.5131 423.7309,-545.2372\"/>\n",
       "<polygon fill=\"#000000\" stroke=\"#000000\" points=\"426.5527,-543.1612 418.0689,-536.8149 420.7434,-547.0667 426.5527,-543.1612\"/>\n",
       "<text text-anchor=\"middle\" x=\"413.2608\" y=\"-557.6482\" font-family=\"Helvetica,sans-Serif\" font-size=\"14.00\" fill=\"#000000\">True</text>\n",
       "</g>\n",
       "<!-- 2 -->\n",
       "<g id=\"node3\" class=\"node\">\n",
       "<title>2</title>\n",
       "<path fill=\"#efe6fc\" stroke=\"#000000\" d=\"M623.5,-544C623.5,-544 486.5,-544 486.5,-544 480.5,-544 474.5,-538 474.5,-532 474.5,-532 474.5,-473 474.5,-473 474.5,-467 480.5,-461 486.5,-461 486.5,-461 623.5,-461 623.5,-461 629.5,-461 635.5,-467 635.5,-473 635.5,-473 635.5,-532 635.5,-532 635.5,-538 629.5,-544 623.5,-544\"/>\n",
       "<text text-anchor=\"start\" x=\"482.5\" y=\"-528.8\" font-family=\"Helvetica,sans-Serif\" font-size=\"14.00\" fill=\"#000000\">petal width (cm) ≤ 1.75</text>\n",
       "<text text-anchor=\"start\" x=\"504\" y=\"-513.8\" font-family=\"Helvetica,sans-Serif\" font-size=\"14.00\" fill=\"#000000\">entropy = 0.997</text>\n",
       "<text text-anchor=\"start\" x=\"511\" y=\"-498.8\" font-family=\"Helvetica,sans-Serif\" font-size=\"14.00\" fill=\"#000000\">samples = 88</text>\n",
       "<text text-anchor=\"start\" x=\"497.5\" y=\"-483.8\" font-family=\"Helvetica,sans-Serif\" font-size=\"14.00\" fill=\"#000000\">value = [0, 41, 47]</text>\n",
       "<text text-anchor=\"start\" x=\"503.5\" y=\"-468.8\" font-family=\"Helvetica,sans-Serif\" font-size=\"14.00\" fill=\"#000000\">class = virginica</text>\n",
       "</g>\n",
       "<!-- 0&#45;&gt;2 -->\n",
       "<g id=\"edge2\" class=\"edge\">\n",
       "<title>0&#45;&gt;2</title>\n",
       "<path fill=\"none\" stroke=\"#000000\" d=\"M502.9801,-579.8796C508.8531,-571.1434 515.1073,-561.8404 521.1679,-552.8253\"/>\n",
       "<polygon fill=\"#000000\" stroke=\"#000000\" points=\"524.2259,-554.5498 526.9005,-544.2981 518.4166,-550.6444 524.2259,-554.5498\"/>\n",
       "<text text-anchor=\"middle\" x=\"531.7085\" y=\"-565.1314\" font-family=\"Helvetica,sans-Serif\" font-size=\"14.00\" fill=\"#000000\">False</text>\n",
       "</g>\n",
       "<!-- 3 -->\n",
       "<g id=\"node4\" class=\"node\">\n",
       "<title>3</title>\n",
       "<path fill=\"#52e891\" stroke=\"#000000\" d=\"M508.5,-425C508.5,-425 365.5,-425 365.5,-425 359.5,-425 353.5,-419 353.5,-413 353.5,-413 353.5,-354 353.5,-354 353.5,-348 359.5,-342 365.5,-342 365.5,-342 508.5,-342 508.5,-342 514.5,-342 520.5,-348 520.5,-354 520.5,-354 520.5,-413 520.5,-413 520.5,-419 514.5,-425 508.5,-425\"/>\n",
       "<text text-anchor=\"start\" x=\"361.5\" y=\"-409.8\" font-family=\"Helvetica,sans-Serif\" font-size=\"14.00\" fill=\"#000000\">petal length (cm) ≤ 4.95</text>\n",
       "<text text-anchor=\"start\" x=\"386\" y=\"-394.8\" font-family=\"Helvetica,sans-Serif\" font-size=\"14.00\" fill=\"#000000\">entropy = 0.503</text>\n",
       "<text text-anchor=\"start\" x=\"393\" y=\"-379.8\" font-family=\"Helvetica,sans-Serif\" font-size=\"14.00\" fill=\"#000000\">samples = 45</text>\n",
       "<text text-anchor=\"start\" x=\"383.5\" y=\"-364.8\" font-family=\"Helvetica,sans-Serif\" font-size=\"14.00\" fill=\"#000000\">value = [0, 40, 5]</text>\n",
       "<text text-anchor=\"start\" x=\"381\" y=\"-349.8\" font-family=\"Helvetica,sans-Serif\" font-size=\"14.00\" fill=\"#000000\">class = versicolor</text>\n",
       "</g>\n",
       "<!-- 2&#45;&gt;3 -->\n",
       "<g id=\"edge3\" class=\"edge\">\n",
       "<title>2&#45;&gt;3</title>\n",
       "<path fill=\"none\" stroke=\"#000000\" d=\"M513.7293,-460.8796C504.6201,-451.6931 494.8892,-441.8798 485.5224,-432.4336\"/>\n",
       "<polygon fill=\"#000000\" stroke=\"#000000\" points=\"487.9733,-429.9345 478.4468,-425.2981 483.0027,-434.8634 487.9733,-429.9345\"/>\n",
       "</g>\n",
       "<!-- 12 -->\n",
       "<g id=\"node13\" class=\"node\">\n",
       "<title>12</title>\n",
       "<path fill=\"#843ee6\" stroke=\"#000000\" d=\"M745.5,-425C745.5,-425 602.5,-425 602.5,-425 596.5,-425 590.5,-419 590.5,-413 590.5,-413 590.5,-354 590.5,-354 590.5,-348 596.5,-342 602.5,-342 602.5,-342 745.5,-342 745.5,-342 751.5,-342 757.5,-348 757.5,-354 757.5,-354 757.5,-413 757.5,-413 757.5,-419 751.5,-425 745.5,-425\"/>\n",
       "<text text-anchor=\"start\" x=\"598.5\" y=\"-409.8\" font-family=\"Helvetica,sans-Serif\" font-size=\"14.00\" fill=\"#000000\">petal length (cm) ≤ 4.85</text>\n",
       "<text text-anchor=\"start\" x=\"623\" y=\"-394.8\" font-family=\"Helvetica,sans-Serif\" font-size=\"14.00\" fill=\"#000000\">entropy = 0.159</text>\n",
       "<text text-anchor=\"start\" x=\"630\" y=\"-379.8\" font-family=\"Helvetica,sans-Serif\" font-size=\"14.00\" fill=\"#000000\">samples = 43</text>\n",
       "<text text-anchor=\"start\" x=\"620.5\" y=\"-364.8\" font-family=\"Helvetica,sans-Serif\" font-size=\"14.00\" fill=\"#000000\">value = [0, 1, 42]</text>\n",
       "<text text-anchor=\"start\" x=\"622.5\" y=\"-349.8\" font-family=\"Helvetica,sans-Serif\" font-size=\"14.00\" fill=\"#000000\">class = virginica</text>\n",
       "</g>\n",
       "<!-- 2&#45;&gt;12 -->\n",
       "<g id=\"edge12\" class=\"edge\">\n",
       "<title>2&#45;&gt;12</title>\n",
       "<path fill=\"none\" stroke=\"#000000\" d=\"M596.6204,-460.8796C605.8069,-451.6931 615.6202,-441.8798 625.0664,-432.4336\"/>\n",
       "<polygon fill=\"#000000\" stroke=\"#000000\" points=\"627.6057,-434.8441 632.2019,-425.2981 622.6559,-429.8943 627.6057,-434.8441\"/>\n",
       "</g>\n",
       "<!-- 4 -->\n",
       "<g id=\"node5\" class=\"node\">\n",
       "<title>4</title>\n",
       "<path fill=\"#3ee684\" stroke=\"#000000\" d=\"M274.5,-306C274.5,-306 137.5,-306 137.5,-306 131.5,-306 125.5,-300 125.5,-294 125.5,-294 125.5,-235 125.5,-235 125.5,-229 131.5,-223 137.5,-223 137.5,-223 274.5,-223 274.5,-223 280.5,-223 286.5,-229 286.5,-235 286.5,-235 286.5,-294 286.5,-294 286.5,-300 280.5,-306 274.5,-306\"/>\n",
       "<text text-anchor=\"start\" x=\"133.5\" y=\"-290.8\" font-family=\"Helvetica,sans-Serif\" font-size=\"14.00\" fill=\"#000000\">petal width (cm) ≤ 1.65</text>\n",
       "<text text-anchor=\"start\" x=\"155\" y=\"-275.8\" font-family=\"Helvetica,sans-Serif\" font-size=\"14.00\" fill=\"#000000\">entropy = 0.172</text>\n",
       "<text text-anchor=\"start\" x=\"162\" y=\"-260.8\" font-family=\"Helvetica,sans-Serif\" font-size=\"14.00\" fill=\"#000000\">samples = 39</text>\n",
       "<text text-anchor=\"start\" x=\"152.5\" y=\"-245.8\" font-family=\"Helvetica,sans-Serif\" font-size=\"14.00\" fill=\"#000000\">value = [0, 38, 1]</text>\n",
       "<text text-anchor=\"start\" x=\"150\" y=\"-230.8\" font-family=\"Helvetica,sans-Serif\" font-size=\"14.00\" fill=\"#000000\">class = versicolor</text>\n",
       "</g>\n",
       "<!-- 3&#45;&gt;4 -->\n",
       "<g id=\"edge4\" class=\"edge\">\n",
       "<title>3&#45;&gt;4</title>\n",
       "<path fill=\"none\" stroke=\"#000000\" d=\"M356.2074,-341.8796C336.6886,-331.8244 315.712,-321.0183 295.8077,-310.7645\"/>\n",
       "<polygon fill=\"#000000\" stroke=\"#000000\" points=\"297.2396,-307.5651 286.747,-306.0969 294.0339,-313.788 297.2396,-307.5651\"/>\n",
       "</g>\n",
       "<!-- 7 -->\n",
       "<g id=\"node8\" class=\"node\">\n",
       "<title>7</title>\n",
       "<path fill=\"#c09cf2\" stroke=\"#000000\" d=\"M505.5,-306C505.5,-306 368.5,-306 368.5,-306 362.5,-306 356.5,-300 356.5,-294 356.5,-294 356.5,-235 356.5,-235 356.5,-229 362.5,-223 368.5,-223 368.5,-223 505.5,-223 505.5,-223 511.5,-223 517.5,-229 517.5,-235 517.5,-235 517.5,-294 517.5,-294 517.5,-300 511.5,-306 505.5,-306\"/>\n",
       "<text text-anchor=\"start\" x=\"364.5\" y=\"-290.8\" font-family=\"Helvetica,sans-Serif\" font-size=\"14.00\" fill=\"#000000\">petal width (cm) ≤ 1.55</text>\n",
       "<text text-anchor=\"start\" x=\"386\" y=\"-275.8\" font-family=\"Helvetica,sans-Serif\" font-size=\"14.00\" fill=\"#000000\">entropy = 0.918</text>\n",
       "<text text-anchor=\"start\" x=\"397.5\" y=\"-260.8\" font-family=\"Helvetica,sans-Serif\" font-size=\"14.00\" fill=\"#000000\">samples = 6</text>\n",
       "<text text-anchor=\"start\" x=\"387.5\" y=\"-245.8\" font-family=\"Helvetica,sans-Serif\" font-size=\"14.00\" fill=\"#000000\">value = [0, 2, 4]</text>\n",
       "<text text-anchor=\"start\" x=\"385.5\" y=\"-230.8\" font-family=\"Helvetica,sans-Serif\" font-size=\"14.00\" fill=\"#000000\">class = virginica</text>\n",
       "</g>\n",
       "<!-- 3&#45;&gt;7 -->\n",
       "<g id=\"edge7\" class=\"edge\">\n",
       "<title>3&#45;&gt;7</title>\n",
       "<path fill=\"none\" stroke=\"#000000\" d=\"M437,-341.8796C437,-333.6838 437,-324.9891 437,-316.5013\"/>\n",
       "<polygon fill=\"#000000\" stroke=\"#000000\" points=\"440.5001,-316.298 437,-306.2981 433.5001,-316.2981 440.5001,-316.298\"/>\n",
       "</g>\n",
       "<!-- 5 -->\n",
       "<g id=\"node6\" class=\"node\">\n",
       "<title>5</title>\n",
       "<path fill=\"#39e581\" stroke=\"#000000\" d=\"M116,-179.5C116,-179.5 12,-179.5 12,-179.5 6,-179.5 0,-173.5 0,-167.5 0,-167.5 0,-123.5 0,-123.5 0,-117.5 6,-111.5 12,-111.5 12,-111.5 116,-111.5 116,-111.5 122,-111.5 128,-117.5 128,-123.5 128,-123.5 128,-167.5 128,-167.5 128,-173.5 122,-179.5 116,-179.5\"/>\n",
       "<text text-anchor=\"start\" x=\"21.5\" y=\"-164.3\" font-family=\"Helvetica,sans-Serif\" font-size=\"14.00\" fill=\"#000000\">entropy = 0.0</text>\n",
       "<text text-anchor=\"start\" x=\"20\" y=\"-149.3\" font-family=\"Helvetica,sans-Serif\" font-size=\"14.00\" fill=\"#000000\">samples = 38</text>\n",
       "<text text-anchor=\"start\" x=\"10.5\" y=\"-134.3\" font-family=\"Helvetica,sans-Serif\" font-size=\"14.00\" fill=\"#000000\">value = [0, 38, 0]</text>\n",
       "<text text-anchor=\"start\" x=\"8\" y=\"-119.3\" font-family=\"Helvetica,sans-Serif\" font-size=\"14.00\" fill=\"#000000\">class = versicolor</text>\n",
       "</g>\n",
       "<!-- 4&#45;&gt;5 -->\n",
       "<g id=\"edge5\" class=\"edge\">\n",
       "<title>4&#45;&gt;5</title>\n",
       "<path fill=\"none\" stroke=\"#000000\" d=\"M156.3353,-222.8796C142.1642,-211.0038 126.743,-198.0804 112.6342,-186.2568\"/>\n",
       "<polygon fill=\"#000000\" stroke=\"#000000\" points=\"114.8598,-183.5554 104.9472,-179.8149 110.3637,-188.9206 114.8598,-183.5554\"/>\n",
       "</g>\n",
       "<!-- 6 -->\n",
       "<g id=\"node7\" class=\"node\">\n",
       "<title>6</title>\n",
       "<path fill=\"#8139e5\" stroke=\"#000000\" d=\"M253.5,-179.5C253.5,-179.5 158.5,-179.5 158.5,-179.5 152.5,-179.5 146.5,-173.5 146.5,-167.5 146.5,-167.5 146.5,-123.5 146.5,-123.5 146.5,-117.5 152.5,-111.5 158.5,-111.5 158.5,-111.5 253.5,-111.5 253.5,-111.5 259.5,-111.5 265.5,-117.5 265.5,-123.5 265.5,-123.5 265.5,-167.5 265.5,-167.5 265.5,-173.5 259.5,-179.5 253.5,-179.5\"/>\n",
       "<text text-anchor=\"start\" x=\"163.5\" y=\"-164.3\" font-family=\"Helvetica,sans-Serif\" font-size=\"14.00\" fill=\"#000000\">entropy = 0.0</text>\n",
       "<text text-anchor=\"start\" x=\"166.5\" y=\"-149.3\" font-family=\"Helvetica,sans-Serif\" font-size=\"14.00\" fill=\"#000000\">samples = 1</text>\n",
       "<text text-anchor=\"start\" x=\"156.5\" y=\"-134.3\" font-family=\"Helvetica,sans-Serif\" font-size=\"14.00\" fill=\"#000000\">value = [0, 0, 1]</text>\n",
       "<text text-anchor=\"start\" x=\"154.5\" y=\"-119.3\" font-family=\"Helvetica,sans-Serif\" font-size=\"14.00\" fill=\"#000000\">class = virginica</text>\n",
       "</g>\n",
       "<!-- 4&#45;&gt;6 -->\n",
       "<g id=\"edge6\" class=\"edge\">\n",
       "<title>4&#45;&gt;6</title>\n",
       "<path fill=\"none\" stroke=\"#000000\" d=\"M206,-222.8796C206,-212.2134 206,-200.7021 206,-189.9015\"/>\n",
       "<polygon fill=\"#000000\" stroke=\"#000000\" points=\"209.5001,-189.8149 206,-179.8149 202.5001,-189.815 209.5001,-189.8149\"/>\n",
       "</g>\n",
       "<!-- 8 -->\n",
       "<g id=\"node9\" class=\"node\">\n",
       "<title>8</title>\n",
       "<path fill=\"#8139e5\" stroke=\"#000000\" d=\"M390.5,-179.5C390.5,-179.5 295.5,-179.5 295.5,-179.5 289.5,-179.5 283.5,-173.5 283.5,-167.5 283.5,-167.5 283.5,-123.5 283.5,-123.5 283.5,-117.5 289.5,-111.5 295.5,-111.5 295.5,-111.5 390.5,-111.5 390.5,-111.5 396.5,-111.5 402.5,-117.5 402.5,-123.5 402.5,-123.5 402.5,-167.5 402.5,-167.5 402.5,-173.5 396.5,-179.5 390.5,-179.5\"/>\n",
       "<text text-anchor=\"start\" x=\"300.5\" y=\"-164.3\" font-family=\"Helvetica,sans-Serif\" font-size=\"14.00\" fill=\"#000000\">entropy = 0.0</text>\n",
       "<text text-anchor=\"start\" x=\"303.5\" y=\"-149.3\" font-family=\"Helvetica,sans-Serif\" font-size=\"14.00\" fill=\"#000000\">samples = 3</text>\n",
       "<text text-anchor=\"start\" x=\"293.5\" y=\"-134.3\" font-family=\"Helvetica,sans-Serif\" font-size=\"14.00\" fill=\"#000000\">value = [0, 0, 3]</text>\n",
       "<text text-anchor=\"start\" x=\"291.5\" y=\"-119.3\" font-family=\"Helvetica,sans-Serif\" font-size=\"14.00\" fill=\"#000000\">class = virginica</text>\n",
       "</g>\n",
       "<!-- 7&#45;&gt;8 -->\n",
       "<g id=\"edge8\" class=\"edge\">\n",
       "<title>7&#45;&gt;8</title>\n",
       "<path fill=\"none\" stroke=\"#000000\" d=\"M404.1234,-222.8796C395.1768,-211.5536 385.4776,-199.2748 376.4971,-187.9058\"/>\n",
       "<polygon fill=\"#000000\" stroke=\"#000000\" points=\"379.051,-185.4926 370.1059,-179.8149 373.558,-189.8316 379.051,-185.4926\"/>\n",
       "</g>\n",
       "<!-- 9 -->\n",
       "<g id=\"node10\" class=\"node\">\n",
       "<title>9</title>\n",
       "<path fill=\"#9cf2c0\" stroke=\"#000000\" d=\"M579.5,-187C579.5,-187 432.5,-187 432.5,-187 426.5,-187 420.5,-181 420.5,-175 420.5,-175 420.5,-116 420.5,-116 420.5,-110 426.5,-104 432.5,-104 432.5,-104 579.5,-104 579.5,-104 585.5,-104 591.5,-110 591.5,-116 591.5,-116 591.5,-175 591.5,-175 591.5,-181 585.5,-187 579.5,-187\"/>\n",
       "<text text-anchor=\"start\" x=\"428.5\" y=\"-171.8\" font-family=\"Helvetica,sans-Serif\" font-size=\"14.00\" fill=\"#000000\">sepal length (cm) ≤ 6.95</text>\n",
       "<text text-anchor=\"start\" x=\"455\" y=\"-156.8\" font-family=\"Helvetica,sans-Serif\" font-size=\"14.00\" fill=\"#000000\">entropy = 0.918</text>\n",
       "<text text-anchor=\"start\" x=\"466.5\" y=\"-141.8\" font-family=\"Helvetica,sans-Serif\" font-size=\"14.00\" fill=\"#000000\">samples = 3</text>\n",
       "<text text-anchor=\"start\" x=\"456.5\" y=\"-126.8\" font-family=\"Helvetica,sans-Serif\" font-size=\"14.00\" fill=\"#000000\">value = [0, 2, 1]</text>\n",
       "<text text-anchor=\"start\" x=\"450\" y=\"-111.8\" font-family=\"Helvetica,sans-Serif\" font-size=\"14.00\" fill=\"#000000\">class = versicolor</text>\n",
       "</g>\n",
       "<!-- 7&#45;&gt;9 -->\n",
       "<g id=\"edge9\" class=\"edge\">\n",
       "<title>7&#45;&gt;9</title>\n",
       "<path fill=\"none\" stroke=\"#000000\" d=\"M461.1329,-222.8796C466.1461,-214.2335 471.4813,-205.0322 476.6581,-196.1042\"/>\n",
       "<polygon fill=\"#000000\" stroke=\"#000000\" points=\"479.7758,-197.7047 481.7641,-187.2981 473.7202,-194.1934 479.7758,-197.7047\"/>\n",
       "</g>\n",
       "<!-- 10 -->\n",
       "<g id=\"node11\" class=\"node\">\n",
       "<title>10</title>\n",
       "<path fill=\"#39e581\" stroke=\"#000000\" d=\"M487,-68C487,-68 383,-68 383,-68 377,-68 371,-62 371,-56 371,-56 371,-12 371,-12 371,-6 377,0 383,0 383,0 487,0 487,0 493,0 499,-6 499,-12 499,-12 499,-56 499,-56 499,-62 493,-68 487,-68\"/>\n",
       "<text text-anchor=\"start\" x=\"392.5\" y=\"-52.8\" font-family=\"Helvetica,sans-Serif\" font-size=\"14.00\" fill=\"#000000\">entropy = 0.0</text>\n",
       "<text text-anchor=\"start\" x=\"395.5\" y=\"-37.8\" font-family=\"Helvetica,sans-Serif\" font-size=\"14.00\" fill=\"#000000\">samples = 2</text>\n",
       "<text text-anchor=\"start\" x=\"385.5\" y=\"-22.8\" font-family=\"Helvetica,sans-Serif\" font-size=\"14.00\" fill=\"#000000\">value = [0, 2, 0]</text>\n",
       "<text text-anchor=\"start\" x=\"379\" y=\"-7.8\" font-family=\"Helvetica,sans-Serif\" font-size=\"14.00\" fill=\"#000000\">class = versicolor</text>\n",
       "</g>\n",
       "<!-- 9&#45;&gt;10 -->\n",
       "<g id=\"edge10\" class=\"edge\">\n",
       "<title>9&#45;&gt;10</title>\n",
       "<path fill=\"none\" stroke=\"#000000\" d=\"M479.5622,-103.9815C473.944,-95.1585 468.0012,-85.8258 462.3497,-76.9506\"/>\n",
       "<polygon fill=\"#000000\" stroke=\"#000000\" points=\"465.1416,-74.8188 456.8181,-68.2637 459.2371,-78.5787 465.1416,-74.8188\"/>\n",
       "</g>\n",
       "<!-- 11 -->\n",
       "<g id=\"node12\" class=\"node\">\n",
       "<title>11</title>\n",
       "<path fill=\"#8139e5\" stroke=\"#000000\" d=\"M624.5,-68C624.5,-68 529.5,-68 529.5,-68 523.5,-68 517.5,-62 517.5,-56 517.5,-56 517.5,-12 517.5,-12 517.5,-6 523.5,0 529.5,0 529.5,0 624.5,0 624.5,0 630.5,0 636.5,-6 636.5,-12 636.5,-12 636.5,-56 636.5,-56 636.5,-62 630.5,-68 624.5,-68\"/>\n",
       "<text text-anchor=\"start\" x=\"534.5\" y=\"-52.8\" font-family=\"Helvetica,sans-Serif\" font-size=\"14.00\" fill=\"#000000\">entropy = 0.0</text>\n",
       "<text text-anchor=\"start\" x=\"537.5\" y=\"-37.8\" font-family=\"Helvetica,sans-Serif\" font-size=\"14.00\" fill=\"#000000\">samples = 1</text>\n",
       "<text text-anchor=\"start\" x=\"527.5\" y=\"-22.8\" font-family=\"Helvetica,sans-Serif\" font-size=\"14.00\" fill=\"#000000\">value = [0, 0, 1]</text>\n",
       "<text text-anchor=\"start\" x=\"525.5\" y=\"-7.8\" font-family=\"Helvetica,sans-Serif\" font-size=\"14.00\" fill=\"#000000\">class = virginica</text>\n",
       "</g>\n",
       "<!-- 9&#45;&gt;11 -->\n",
       "<g id=\"edge11\" class=\"edge\">\n",
       "<title>9&#45;&gt;11</title>\n",
       "<path fill=\"none\" stroke=\"#000000\" d=\"M532.4378,-103.9815C538.056,-95.1585 543.9988,-85.8258 549.6503,-76.9506\"/>\n",
       "<polygon fill=\"#000000\" stroke=\"#000000\" points=\"552.7629,-78.5787 555.1819,-68.2637 546.8584,-74.8188 552.7629,-78.5787\"/>\n",
       "</g>\n",
       "<!-- 13 -->\n",
       "<g id=\"node14\" class=\"node\">\n",
       "<title>13</title>\n",
       "<path fill=\"#c09cf2\" stroke=\"#000000\" d=\"M747.5,-306C747.5,-306 600.5,-306 600.5,-306 594.5,-306 588.5,-300 588.5,-294 588.5,-294 588.5,-235 588.5,-235 588.5,-229 594.5,-223 600.5,-223 600.5,-223 747.5,-223 747.5,-223 753.5,-223 759.5,-229 759.5,-235 759.5,-235 759.5,-294 759.5,-294 759.5,-300 753.5,-306 747.5,-306\"/>\n",
       "<text text-anchor=\"start\" x=\"596.5\" y=\"-290.8\" font-family=\"Helvetica,sans-Serif\" font-size=\"14.00\" fill=\"#000000\">sepal length (cm) ≤ 5.95</text>\n",
       "<text text-anchor=\"start\" x=\"623\" y=\"-275.8\" font-family=\"Helvetica,sans-Serif\" font-size=\"14.00\" fill=\"#000000\">entropy = 0.918</text>\n",
       "<text text-anchor=\"start\" x=\"634.5\" y=\"-260.8\" font-family=\"Helvetica,sans-Serif\" font-size=\"14.00\" fill=\"#000000\">samples = 3</text>\n",
       "<text text-anchor=\"start\" x=\"624.5\" y=\"-245.8\" font-family=\"Helvetica,sans-Serif\" font-size=\"14.00\" fill=\"#000000\">value = [0, 1, 2]</text>\n",
       "<text text-anchor=\"start\" x=\"622.5\" y=\"-230.8\" font-family=\"Helvetica,sans-Serif\" font-size=\"14.00\" fill=\"#000000\">class = virginica</text>\n",
       "</g>\n",
       "<!-- 12&#45;&gt;13 -->\n",
       "<g id=\"edge13\" class=\"edge\">\n",
       "<title>12&#45;&gt;13</title>\n",
       "<path fill=\"none\" stroke=\"#000000\" d=\"M674,-341.8796C674,-333.6838 674,-324.9891 674,-316.5013\"/>\n",
       "<polygon fill=\"#000000\" stroke=\"#000000\" points=\"677.5001,-316.298 674,-306.2981 670.5001,-316.2981 677.5001,-316.298\"/>\n",
       "</g>\n",
       "<!-- 16 -->\n",
       "<g id=\"node17\" class=\"node\">\n",
       "<title>16</title>\n",
       "<path fill=\"#8139e5\" stroke=\"#000000\" d=\"M888.5,-298.5C888.5,-298.5 789.5,-298.5 789.5,-298.5 783.5,-298.5 777.5,-292.5 777.5,-286.5 777.5,-286.5 777.5,-242.5 777.5,-242.5 777.5,-236.5 783.5,-230.5 789.5,-230.5 789.5,-230.5 888.5,-230.5 888.5,-230.5 894.5,-230.5 900.5,-236.5 900.5,-242.5 900.5,-242.5 900.5,-286.5 900.5,-286.5 900.5,-292.5 894.5,-298.5 888.5,-298.5\"/>\n",
       "<text text-anchor=\"start\" x=\"796.5\" y=\"-283.3\" font-family=\"Helvetica,sans-Serif\" font-size=\"14.00\" fill=\"#000000\">entropy = 0.0</text>\n",
       "<text text-anchor=\"start\" x=\"795\" y=\"-268.3\" font-family=\"Helvetica,sans-Serif\" font-size=\"14.00\" fill=\"#000000\">samples = 40</text>\n",
       "<text text-anchor=\"start\" x=\"785.5\" y=\"-253.3\" font-family=\"Helvetica,sans-Serif\" font-size=\"14.00\" fill=\"#000000\">value = [0, 0, 40]</text>\n",
       "<text text-anchor=\"start\" x=\"787.5\" y=\"-238.3\" font-family=\"Helvetica,sans-Serif\" font-size=\"14.00\" fill=\"#000000\">class = virginica</text>\n",
       "</g>\n",
       "<!-- 12&#45;&gt;16 -->\n",
       "<g id=\"edge16\" class=\"edge\">\n",
       "<title>12&#45;&gt;16</title>\n",
       "<path fill=\"none\" stroke=\"#000000\" d=\"M731.709,-341.8796C748.407,-329.8368 766.5987,-316.7167 783.1793,-304.7586\"/>\n",
       "<polygon fill=\"#000000\" stroke=\"#000000\" points=\"785.6232,-307.3113 791.6865,-298.623 781.5285,-301.6339 785.6232,-307.3113\"/>\n",
       "</g>\n",
       "<!-- 14 -->\n",
       "<g id=\"node15\" class=\"node\">\n",
       "<title>14</title>\n",
       "<path fill=\"#39e581\" stroke=\"#000000\" d=\"M726,-179.5C726,-179.5 622,-179.5 622,-179.5 616,-179.5 610,-173.5 610,-167.5 610,-167.5 610,-123.5 610,-123.5 610,-117.5 616,-111.5 622,-111.5 622,-111.5 726,-111.5 726,-111.5 732,-111.5 738,-117.5 738,-123.5 738,-123.5 738,-167.5 738,-167.5 738,-173.5 732,-179.5 726,-179.5\"/>\n",
       "<text text-anchor=\"start\" x=\"631.5\" y=\"-164.3\" font-family=\"Helvetica,sans-Serif\" font-size=\"14.00\" fill=\"#000000\">entropy = 0.0</text>\n",
       "<text text-anchor=\"start\" x=\"634.5\" y=\"-149.3\" font-family=\"Helvetica,sans-Serif\" font-size=\"14.00\" fill=\"#000000\">samples = 1</text>\n",
       "<text text-anchor=\"start\" x=\"624.5\" y=\"-134.3\" font-family=\"Helvetica,sans-Serif\" font-size=\"14.00\" fill=\"#000000\">value = [0, 1, 0]</text>\n",
       "<text text-anchor=\"start\" x=\"618\" y=\"-119.3\" font-family=\"Helvetica,sans-Serif\" font-size=\"14.00\" fill=\"#000000\">class = versicolor</text>\n",
       "</g>\n",
       "<!-- 13&#45;&gt;14 -->\n",
       "<g id=\"edge14\" class=\"edge\">\n",
       "<title>13&#45;&gt;14</title>\n",
       "<path fill=\"none\" stroke=\"#000000\" d=\"M674,-222.8796C674,-212.2134 674,-200.7021 674,-189.9015\"/>\n",
       "<polygon fill=\"#000000\" stroke=\"#000000\" points=\"677.5001,-189.8149 674,-179.8149 670.5001,-189.815 677.5001,-189.8149\"/>\n",
       "</g>\n",
       "<!-- 15 -->\n",
       "<g id=\"node16\" class=\"node\">\n",
       "<title>15</title>\n",
       "<path fill=\"#8139e5\" stroke=\"#000000\" d=\"M863.5,-179.5C863.5,-179.5 768.5,-179.5 768.5,-179.5 762.5,-179.5 756.5,-173.5 756.5,-167.5 756.5,-167.5 756.5,-123.5 756.5,-123.5 756.5,-117.5 762.5,-111.5 768.5,-111.5 768.5,-111.5 863.5,-111.5 863.5,-111.5 869.5,-111.5 875.5,-117.5 875.5,-123.5 875.5,-123.5 875.5,-167.5 875.5,-167.5 875.5,-173.5 869.5,-179.5 863.5,-179.5\"/>\n",
       "<text text-anchor=\"start\" x=\"773.5\" y=\"-164.3\" font-family=\"Helvetica,sans-Serif\" font-size=\"14.00\" fill=\"#000000\">entropy = 0.0</text>\n",
       "<text text-anchor=\"start\" x=\"776.5\" y=\"-149.3\" font-family=\"Helvetica,sans-Serif\" font-size=\"14.00\" fill=\"#000000\">samples = 2</text>\n",
       "<text text-anchor=\"start\" x=\"766.5\" y=\"-134.3\" font-family=\"Helvetica,sans-Serif\" font-size=\"14.00\" fill=\"#000000\">value = [0, 0, 2]</text>\n",
       "<text text-anchor=\"start\" x=\"764.5\" y=\"-119.3\" font-family=\"Helvetica,sans-Serif\" font-size=\"14.00\" fill=\"#000000\">class = virginica</text>\n",
       "</g>\n",
       "<!-- 13&#45;&gt;15 -->\n",
       "<g id=\"edge15\" class=\"edge\">\n",
       "<title>13&#45;&gt;15</title>\n",
       "<path fill=\"none\" stroke=\"#000000\" d=\"M723.6647,-222.8796C737.8358,-211.0038 753.257,-198.0804 767.3658,-186.2568\"/>\n",
       "<polygon fill=\"#000000\" stroke=\"#000000\" points=\"769.6363,-188.9206 775.0528,-179.8149 765.1402,-183.5554 769.6363,-188.9206\"/>\n",
       "</g>\n",
       "</g>\n",
       "</svg>\n"
      ],
      "text/plain": [
       "<graphviz.files.Source at 0x7f203e360eb8>"
      ]
     },
     "execution_count": 18,
     "metadata": {
      "tags": []
     },
     "output_type": "execute_result"
    }
   ],
   "source": [
    "dot_data = tree.export_graphviz(id3, out_file=None, \n",
    "                      feature_names=iris.feature_names,  \n",
    "                      class_names=iris.target_names,  \n",
    "                      filled=True, rounded=True,  \n",
    "                      special_characters=True)\n",
    "graph = graphviz.Source(dot_data)\n",
    "graph  "
   ]
  },
  {
   "cell_type": "markdown",
   "metadata": {
    "id": "2AadMzXTM8nF"
   },
   "source": [
    "## 6) Analysis"
   ]
  },
  {
   "cell_type": "markdown",
   "metadata": {
    "id": "8tL4kWZMM-pS"
   },
   "source": [
    "- Total of 130 samples are in the root node. Petal length (cm) gave the highest gini impurity score following which a split was made\n",
    "- The decision tree depth is 6\n",
    "- The splitting stops when all the samples at a node belong to the same class"
   ]
  },
  {
   "cell_type": "markdown",
   "metadata": {
    "id": "pE_1DhGDNIPi"
   },
   "source": [
    "## 7) Accuracy"
   ]
  },
  {
   "cell_type": "code",
   "execution_count": 19,
   "metadata": {
    "colab": {
     "base_uri": "https://localhost:8080/"
    },
    "id": "UbJhHpQCM6EV",
    "outputId": "47568502-ff0d-4b46-ed7a-7122466b2608"
   },
   "outputs": [
    {
     "name": "stdout",
     "output_type": "stream",
     "text": [
      "Accuracy score of ID3 Model:  1.0\n"
     ]
    }
   ],
   "source": [
    "print(\"Accuracy score of ID3 Model: \",  clf.score(X_test, y_test))"
   ]
  },
  {
   "cell_type": "markdown",
   "metadata": {
    "id": "TV7NB1HJNOyq"
   },
   "source": [
    "Using the 20 samples which we split above, passing them to the given trained model, we get a 100% accuracy!\n",
    "\n",
    "Note that the accuracy depends on a lot of hyper-parameters and this could be a case of overfitting, as there is less data available."
   ]
  },
  {
   "cell_type": "markdown",
   "metadata": {
    "id": "wn2_2fNPNSBD"
   },
   "source": [
    "# CART vs C4.5 vs ID3\n",
    "\n",
    "\n"
   ]
  },
  {
   "cell_type": "markdown",
   "metadata": {
    "id": "3i8wC4pwNwVq"
   },
   "source": [
    "All the three algorithms are various decision tree learning algorithms, but with various splitting criterion. In CART, we use the gini impurity score, in C4.5, we use the Information ratio and in ID3 we use the information gain."
   ]
  },
  {
   "cell_type": "markdown",
   "metadata": {
    "id": "QgvJ56_UN6sJ"
   },
   "source": [
    "In this experiment, we have applied all the three decision tree algorithms on the Iris dataset. The results are summarised as follows"
   ]
  },
  {
   "cell_type": "markdown",
   "metadata": {
    "id": "SwJ6Ja7lOBbE"
   },
   "source": [
    ">Algorithms | Accuracy\n",
    ">--- | ---\n",
    ">CART | 100%\n",
    ">C4.5 | 80%\n",
    ">ID3 | 100%\n"
   ]
  },
  {
   "cell_type": "markdown",
   "metadata": {
    "id": "r12h8zj2OUOC"
   },
   "source": [
    "As you can see, the CART and ID3 give the higest possible accuracy on the test set of 100%. This can be because Gini and Information gain explain the dataset split in the best possible manner whereas Information ratio doesn't"
   ]
  },
  {
   "cell_type": "markdown",
   "metadata": {
    "id": "e2tx93AFO5bF"
   },
   "source": [
    "**Therefore, CART and ID3 are the best performing Decision Tree Algorithms on the Iris dataset**"
   ]
  }
 ],
 "metadata": {
  "colab": {
   "collapsed_sections": [],
   "name": "DecisionTree-181CO125.ipynb",
   "provenance": []
  },
  "kernelspec": {
   "display_name": "Python 3",
   "language": "python",
   "name": "python3"
  },
  "language_info": {
   "codemirror_mode": {
    "name": "ipython",
    "version": 3
   },
   "file_extension": ".py",
   "mimetype": "text/x-python",
   "name": "python",
   "nbconvert_exporter": "python",
   "pygments_lexer": "ipython3",
   "version": "3.7.6"
  }
 },
 "nbformat": 4,
 "nbformat_minor": 1
}
