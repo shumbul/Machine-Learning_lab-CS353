{
 "cells": [
  {
   "cell_type": "markdown",
   "metadata": {},
   "source": [
    "<h1 align='center'> CS353 Machine Learning Lab</h1>\n",
    "<h1 align='center'>Lab-2 (19/03/21)</h1>\n",
    "<h2 align='center'>Shumbul Arifa (181CO152)</h2>"
   ]
  },
  {
   "cell_type": "markdown",
   "metadata": {},
   "source": [
    "## Task:\n",
    "Implementing AND Gate using Artificial Neural Network."
   ]
  },
  {
   "cell_type": "markdown",
   "metadata": {},
   "source": [
    "## McCulloch-Pitts Model"
   ]
  },
  {
   "cell_type": "code",
   "execution_count": 2,
   "metadata": {},
   "outputs": [],
   "source": [
    "import numpy as np"
   ]
  },
  {
   "cell_type": "code",
   "execution_count": 1,
   "metadata": {},
   "outputs": [],
   "source": [
    "class Perceptron:\n",
    "    def __init__(self, lr, b):\n",
    "        self.W = np.zeros((1, 2))\n",
    "        self.b = b\n",
    "        self.learning_rate = lr\n",
    "    \n",
    "    def activationFunction(self, y_in):\n",
    "        if(y_in > 0):\n",
    "            return(1)\n",
    "        else:\n",
    "            return(0)\n",
    "        \n",
    "    def forward_prop(self, x):\n",
    "        y_in = np.dot(self.W, x) + self.b\n",
    "        y_out = self.activationFunction(y_in)\n",
    "        return(y_out)\n",
    "    \n",
    "    def backward_prop(self, y_actual, y_out, x):\n",
    "        self.W[0][0] = self.W[0][0] + self.learning_rate * ( y_actual - y_out) * (x[0])\n",
    "        self.W[0][1] = self.W[0][1] + self.learning_rate * (y_actual - y_out) * (x[1])\n",
    "        self.b = self.b + (y_actual - y_out)\n",
    "    \n",
    "    def fit(self, X, Y, epochs):\n",
    "        for epoch in range(0, epochs):\n",
    "            for i in range(0, 4):\n",
    "                y_out = self.forward_propagation(X[i])\n",
    "                self.backward_propagation(Y[i], y_out, X[i])\n",
    "    \n",
    "    def predict(self, X):\n",
    "        y_pred = []\n",
    "        for i in range(X.shape[0]):\n",
    "            y_pred.append(self.forward_propagation(X[i]))\n",
    "        return(y_pred)\n",
    "    \n",
    "    def final_weights_and_bias(self):\n",
    "        print(\"W1: \", self.W[0,0])\n",
    "        print(\"W2: \", self.W[0,1])\n",
    "        print(\"b: \", self.b)"
   ]
  },
  {
   "cell_type": "markdown",
   "metadata": {},
   "source": [
    "## Two-input AND Gate"
   ]
  },
  {
   "cell_type": "code",
   "execution_count": 3,
   "metadata": {},
   "outputs": [
    {
     "ename": "TypeError",
     "evalue": "__init__() got an unexpected keyword argument 'epoch'",
     "output_type": "error",
     "traceback": [
      "\u001b[0;31m---------------------------------------------------------------------------\u001b[0m",
      "\u001b[0;31mTypeError\u001b[0m                                 Traceback (most recent call last)",
      "\u001b[0;32m<ipython-input-3-d2f577e0e232>\u001b[0m in \u001b[0;36m<module>\u001b[0;34m\u001b[0m\n\u001b[1;32m      5\u001b[0m \u001b[0;34m\u001b[0m\u001b[0m\n\u001b[1;32m      6\u001b[0m \u001b[0;31m# Create the model and train\u001b[0m\u001b[0;34m\u001b[0m\u001b[0;34m\u001b[0m\u001b[0;34m\u001b[0m\u001b[0m\n\u001b[0;32m----> 7\u001b[0;31m \u001b[0mmodel2\u001b[0m \u001b[0;34m=\u001b[0m \u001b[0mNeuralNetwork\u001b[0m\u001b[0;34m(\u001b[0m\u001b[0;36m2\u001b[0m\u001b[0;34m,\u001b[0m \u001b[0mepoch\u001b[0m \u001b[0;34m=\u001b[0m \u001b[0;36m500\u001b[0m\u001b[0;34m)\u001b[0m\u001b[0;34m\u001b[0m\u001b[0;34m\u001b[0m\u001b[0m\n\u001b[0m\u001b[1;32m      8\u001b[0m \u001b[0mmodel2\u001b[0m\u001b[0;34m.\u001b[0m\u001b[0mtrain\u001b[0m\u001b[0;34m(\u001b[0m\u001b[0mX_2\u001b[0m\u001b[0;34m,\u001b[0m\u001b[0mY_2\u001b[0m\u001b[0;34m)\u001b[0m\u001b[0;34m\u001b[0m\u001b[0;34m\u001b[0m\u001b[0m\n\u001b[1;32m      9\u001b[0m \u001b[0my_pred2\u001b[0m \u001b[0;34m=\u001b[0m \u001b[0mmodel2\u001b[0m\u001b[0;34m.\u001b[0m\u001b[0mpredict\u001b[0m\u001b[0;34m(\u001b[0m\u001b[0mX_2\u001b[0m\u001b[0;34m)\u001b[0m\u001b[0;34m\u001b[0m\u001b[0;34m\u001b[0m\u001b[0m\n",
      "\u001b[0;31mTypeError\u001b[0m: __init__() got an unexpected keyword argument 'epoch'"
     ]
    }
   ],
   "source": [
    "# Input features for two-input AND gate\n",
    "X_2 = np.array([[0,0], [0,1], [1,0], [1,1]]).astype('uint8')\n",
    "Y_2 = np.array([[0], [0], [0], [1]]).astype('uint8')\n",
    "\n",
    "\n",
    "# Create the model and train\n",
    "model2 = NeuralNetwork(2, epoch = 500)\n",
    "model2.train(X_2,Y_2)\n",
    "y_pred2 = model2.predict(X_2)\n",
    "W_2 , T_2 = model2.features()\n",
    "\n",
    "print(\"2-input AND gate\\nTheta = \", T_2, \"\\nWeights = \", W_2, \"\\nPrediction\")\n",
    "\n",
    "for i in range(X_2.shape[0]):\n",
    "    for j in range(X_2.shape[1]):\n",
    "        if j == 0:\n",
    "            print(X_2[i][j], end=\"\")\n",
    "        else:\n",
    "            print(\" &\", X_2[i][j], end=\"\")\n",
    "    print(\" = \",y_pred2[i])"
   ]
  },
  {
   "cell_type": "markdown",
   "metadata": {},
   "source": [
    "## Three-input AND Gate"
   ]
  },
  {
   "cell_type": "code",
   "execution_count": 14,
   "metadata": {},
   "outputs": [
    {
     "name": "stdout",
     "output_type": "stream",
     "text": [
      "3-input AND gate\n",
      "Theta =  -12 \n",
      "Weights =  [[1]\n",
      " [8]\n",
      " [5]] \n",
      "Prediction\n",
      "0 & 0 & 0 =  [0]\n",
      "0 & 0 & 1 =  [0]\n",
      "0 & 1 & 0 =  [0]\n",
      "0 & 1 & 1 =  [1]\n",
      "1 & 0 & 0 =  [0]\n",
      "1 & 0 & 1 =  [0]\n",
      "1 & 1 & 0 =  [0]\n",
      "1 & 1 & 1 =  [1]\n"
     ]
    }
   ],
   "source": [
    "# Input features for three-input AND gate\n",
    "X_3 = np.array([[0,0,0], [0,0,1], [0,1,0], [0,1,1],[1,0,0], [1,0,1], [1,1,0], [1,1,1]]).astype('uint8')\n",
    "Y_3 = np.array([[0], [0], [0], [0], [0], [0], [0], [1]]).astype('uint8')\n",
    "\n",
    "\n",
    "# Create the model and train\n",
    "model3 = NeuralNetwork(3, alpha = 3)\n",
    "model3.train(X_3,Y_3)\n",
    "y_pred3 = model3.predict(X_3)\n",
    "W_3 , T_3 = model3.features()\n",
    "\n",
    "print(\"3-input AND gate\\nTheta = \", T_3, \"\\nWeights = \", W_3, \"\\nPrediction\")\n",
    "\n",
    "for i in range(X_3.shape[0]):\n",
    "    for j in range(X_3.shape[1]):\n",
    "        if j == 0:\n",
    "            print(X_3[i][j], end=\"\")\n",
    "        else:\n",
    "            print(\" &\", X_3[i][j], end=\"\")\n",
    "    print(\" = \",y_pred3[i])"
   ]
  },
  {
   "cell_type": "markdown",
   "metadata": {},
   "source": [
    "## Four-input AND Gate"
   ]
  },
  {
   "cell_type": "code",
   "execution_count": 15,
   "metadata": {},
   "outputs": [
    {
     "name": "stdout",
     "output_type": "stream",
     "text": [
      "4-input AND gate\n",
      "Theta =  -30 \n",
      "Weights =  [[10]\n",
      " [10]\n",
      " [10]\n",
      " [ 4]] \n",
      "Prediction\n",
      "0 & 0 & 0 & 0 =  [0]\n",
      "0 & 0 & 0 & 1 =  [0]\n",
      "0 & 0 & 1 & 0 =  [0]\n",
      "0 & 0 & 1 & 1 =  [0]\n",
      "0 & 1 & 0 & 0 =  [0]\n",
      "0 & 1 & 0 & 1 =  [0]\n",
      "0 & 1 & 1 & 0 =  [0]\n",
      "0 & 1 & 1 & 1 =  [0]\n",
      "1 & 0 & 0 & 0 =  [0]\n",
      "1 & 0 & 0 & 1 =  [0]\n",
      "1 & 0 & 1 & 0 =  [0]\n",
      "1 & 0 & 1 & 1 =  [0]\n",
      "1 & 1 & 0 & 0 =  [0]\n",
      "1 & 1 & 0 & 1 =  [0]\n",
      "1 & 1 & 1 & 0 =  [1]\n",
      "1 & 1 & 1 & 1 =  [1]\n"
     ]
    }
   ],
   "source": [
    "# Input features for three-input AND gate\n",
    "X_4 = np.array([[0,0,0,0], [0,0,0,1], [0,0,1,0], [0,0,1,1], [0,1,0,0], [0,1,0,1], [0,1,1,0], [0,1,1,1],\n",
    "                [1,0,0,0], [1,0,0,1], [1,0,1,0], [1,0,1,1],[1,1,0,0], [1,1,0,1], [1,1,1,0], [1,1,1,1]]).astype('uint8')\n",
    "Y_4 = np.array([[0], [0], [0], [0], [0], [0], [0], [0], [0], [0], [0], [0], [0], [0], [0], [1]]).astype('uint8')\n",
    "\n",
    "\n",
    "# Create the model and train\n",
    "model4 = NeuralNetwork(4, epoch = 1500, alpha = 5)\n",
    "model4.train(X_4,Y_4)\n",
    "y_pred4 = model4.predict(X_4)\n",
    "W_4 , T_4 = model4.features()\n",
    "\n",
    "print(\"4-input AND gate\\nTheta = \", T_4, \"\\nWeights = \", W_4, \"\\nPrediction\")\n",
    "\n",
    "for i in range(X_4.shape[0]):\n",
    "    for j in range(X_4.shape[1]):\n",
    "        if j == 0:\n",
    "            print(X_4[i][j], end=\"\")\n",
    "        else:\n",
    "            print(\" &\", X_4[i][j], end=\"\")\n",
    "    print(\" = \",y_pred4[i])"
   ]
  }
 ],
 "metadata": {
  "kernelspec": {
   "display_name": "Python 3",
   "language": "python",
   "name": "python3"
  },
  "language_info": {
   "codemirror_mode": {
    "name": "ipython",
    "version": 3
   },
   "file_extension": ".py",
   "mimetype": "text/x-python",
   "name": "python",
   "nbconvert_exporter": "python",
   "pygments_lexer": "ipython3",
   "version": "3.7.6"
  }
 },
 "nbformat": 4,
 "nbformat_minor": 4
}
