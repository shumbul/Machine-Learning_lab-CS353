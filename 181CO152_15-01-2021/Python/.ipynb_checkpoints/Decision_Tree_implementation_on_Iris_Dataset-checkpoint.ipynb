{
 "cells": [
  {
   "cell_type": "markdown",
   "metadata": {
    "id": "_er02EC5lF0P"
   },
   "source": [
    "# Decision Tree : Iris Dataset"
   ]
  },
  {
   "cell_type": "markdown",
   "metadata": {
    "id": "svaQpJ8-lOu_"
   },
   "source": [
    "### Importing Python libraries"
   ]
  },
  {
   "cell_type": "code",
   "execution_count": 1,
   "metadata": {
    "id": "tYttHlzHlOdt"
   },
   "outputs": [],
   "source": [
    "%matplotlib inline\n",
    "\n",
    "import numpy as np\n",
    "import pandas as pd\n",
    "import matplotlib.pyplot as plt"
   ]
  },
  {
   "cell_type": "markdown",
   "metadata": {
    "id": "5wvE9ofnl4wW"
   },
   "source": [
    "### Importing scikit learn"
   ]
  },
  {
   "cell_type": "code",
   "execution_count": 2,
   "metadata": {
    "id": "oInXA9lSkEd0"
   },
   "outputs": [],
   "source": [
    "from sklearn import tree\n",
    "from sklearn.model_selection import train_test_split"
   ]
  },
  {
   "cell_type": "markdown",
   "metadata": {
    "id": "fQxJMuUpmqym"
   },
   "source": [
    "### Load IRIS dataset"
   ]
  },
  {
   "cell_type": "code",
   "execution_count": 3,
   "metadata": {
    "id": "a8T9VYCT2Z-3"
   },
   "outputs": [],
   "source": [
    "from sklearn.datasets import load_iris\n",
    "iris_data = load_iris()\n",
    "input_features = pd.DataFrame(iris_data.data, columns = iris_data.feature_names)\n",
    "target_features = pd.DataFrame(iris_data.target, columns = ['Iris Species'])"
   ]
  },
  {
   "cell_type": "markdown",
   "metadata": {
    "id": "_l3ZOzxF7sG1"
   },
   "source": [
    "### Data preprocessing"
   ]
  },
  {
   "cell_type": "code",
   "execution_count": 4,
   "metadata": {
    "colab": {
     "base_uri": "https://localhost:8080/"
    },
    "id": "sMV6I2JgJ3_m",
    "outputId": "f91a1c15-45f7-4717-e4b6-e776b2010102"
   },
   "outputs": [
    {
     "name": "stdout",
     "output_type": "stream",
     "text": [
      "sepal length (cm)    float64\n",
      "sepal width (cm)     float64\n",
      "petal length (cm)    float64\n",
      "petal width (cm)     float64\n",
      "dtype: object\n"
     ]
    }
   ],
   "source": [
    "print(input_features.dtypes)"
   ]
  },
  {
   "cell_type": "code",
   "execution_count": 5,
   "metadata": {
    "colab": {
     "base_uri": "https://localhost:8080/"
    },
    "id": "DbHlASawJf_A",
    "outputId": "9c77cd3d-af39-4458-bde2-20b1af5106ba"
   },
   "outputs": [
    {
     "name": "stdout",
     "output_type": "stream",
     "text": [
      "sepal length (cm)    False\n",
      "sepal width (cm)     False\n",
      "petal length (cm)    False\n",
      "petal width (cm)     False\n",
      "dtype: bool\n"
     ]
    }
   ],
   "source": [
    "print(input_features.isnull().any())"
   ]
  },
  {
   "cell_type": "code",
   "execution_count": 6,
   "metadata": {
    "colab": {
     "base_uri": "https://localhost:8080/"
    },
    "id": "4sJerctY3FkC",
    "outputId": "d3be52bd-3992-45c9-f90a-b4f6580d059a"
   },
   "outputs": [
    {
     "name": "stdout",
     "output_type": "stream",
     "text": [
      "   sepal length (cm)  sepal width (cm)  petal length (cm)  petal width (cm)\n",
      "0                5.1               3.5                1.4               0.2\n",
      "1                4.9               3.0                1.4               0.2\n",
      "2                4.7               3.2                1.3               0.2\n",
      "3                4.6               3.1                1.5               0.2\n",
      "4                5.0               3.6                1.4               0.2\n"
     ]
    }
   ],
   "source": [
    "print(input_features.head())"
   ]
  },
  {
   "cell_type": "code",
   "execution_count": 7,
   "metadata": {
    "colab": {
     "base_uri": "https://localhost:8080/"
    },
    "id": "5V14bOTj5KuM",
    "outputId": "5c0d8921-4331-4f74-8cd0-7bd7ce408e04"
   },
   "outputs": [
    {
     "name": "stdout",
     "output_type": "stream",
     "text": [
      "       sepal length (cm)  sepal width (cm)  petal length (cm)  \\\n",
      "count         150.000000        150.000000         150.000000   \n",
      "mean            5.843333          3.057333           3.758000   \n",
      "std             0.828066          0.435866           1.765298   \n",
      "min             4.300000          2.000000           1.000000   \n",
      "25%             5.100000          2.800000           1.600000   \n",
      "50%             5.800000          3.000000           4.350000   \n",
      "75%             6.400000          3.300000           5.100000   \n",
      "max             7.900000          4.400000           6.900000   \n",
      "\n",
      "       petal width (cm)  \n",
      "count        150.000000  \n",
      "mean           1.199333  \n",
      "std            0.762238  \n",
      "min            0.100000  \n",
      "25%            0.300000  \n",
      "50%            1.300000  \n",
      "75%            1.800000  \n",
      "max            2.500000  \n"
     ]
    }
   ],
   "source": [
    "print(input_features.describe())"
   ]
  },
  {
   "cell_type": "code",
   "execution_count": 8,
   "metadata": {
    "colab": {
     "base_uri": "https://localhost:8080/"
    },
    "id": "f9moYTkH3p--",
    "outputId": "863e1ae7-9e06-4992-a760-ab66adeac04e"
   },
   "outputs": [
    {
     "name": "stdout",
     "output_type": "stream",
     "text": [
      "   Iris Species\n",
      "0             0\n",
      "1             0\n",
      "2             0\n",
      "3             0\n",
      "4             0\n"
     ]
    }
   ],
   "source": [
    "print(target_features.head())"
   ]
  },
  {
   "cell_type": "code",
   "execution_count": 9,
   "metadata": {
    "id": "dokaAGtHKCCb"
   },
   "outputs": [],
   "source": [
    "# Change the entries in the target for better readability\n",
    "target_features = target_features['Iris Species'].replace([0,1,2],iris_data.target_names)"
   ]
  },
  {
   "cell_type": "code",
   "execution_count": 10,
   "metadata": {
    "colab": {
     "base_uri": "https://localhost:8080/"
    },
    "id": "da00EAGPKf_1",
    "outputId": "cb7adbc1-e7c7-4a49-8783-e64573b61849"
   },
   "outputs": [
    {
     "name": "stdout",
     "output_type": "stream",
     "text": [
      "0    setosa\n",
      "1    setosa\n",
      "2    setosa\n",
      "3    setosa\n",
      "4    setosa\n",
      "Name: Iris Species, dtype: object\n"
     ]
    }
   ],
   "source": [
    "print(target_features.head())"
   ]
  },
  {
   "cell_type": "markdown",
   "metadata": {
    "id": "hngRF1by-Fka"
   },
   "source": [
    "### Plotting graph between features and target"
   ]
  },
  {
   "cell_type": "code",
   "execution_count": 11,
   "metadata": {
    "colab": {
     "base_uri": "https://localhost:8080/",
     "height": 682
    },
    "id": "hJkij6bA97pq",
    "outputId": "620b7eeb-1ca0-4441-fa06-9e8fb1196aa4"
   },
   "outputs": [
    {
     "data": {
      "image/png": "[encoded data removed]",
      "text/plain": [
       "<Figure size 1296x720 with 4 Axes>"
      ]
     },
     "metadata": {
      "needs_background": "light"
     },
     "output_type": "display_data"
    }
   ],
   "source": [
    "# Plotting target column with various input feature\n",
    "\n",
    "plt.figure(figsize = (18,10))\n",
    "\n",
    "# Sepal Length vs Species\n",
    "plt.subplot(2,2,1)\n",
    "plt.plot(input_features['sepal length (cm)'], target_features, 'r.')\n",
    "plt.xlabel('Sepal Length', fontsize=15)\n",
    "plt.ylabel('Species', fontsize=15)\n",
    "\n",
    "# Sepal Width vs Species\n",
    "plt.subplot(2,2,2)\n",
    "plt.plot(input_features['sepal width (cm)'], target_features, 'g.')\n",
    "plt.xlabel('Sepal Width', fontsize=15)\n",
    "plt.ylabel('Species', fontsize=15)\n",
    "\n",
    "# Petal Length vs Species\n",
    "plt.subplot(2,2,3)\n",
    "plt.plot(input_features['petal length (cm)'], target_features, 'b.')\n",
    "plt.xlabel('Petal Length', fontsize=15)\n",
    "plt.ylabel('Species', fontsize=15)\n",
    "\n",
    "# Petal Width vs Species\n",
    "plt.subplot(2,2,4)\n",
    "plt.plot(input_features['petal width (cm)'], target_features, 'y.')\n",
    "plt.xlabel('Petal Width', fontsize=15)\n",
    "plt.ylabel('Species', fontsize=15)\n",
    "\n",
    "plt.suptitle('Input features vs Species', fontsize=28)\n",
    "\n",
    "# Saving the obatined plot\n",
    "plt.savefig('InputFeature VS Target.jpg')\n",
    "\n",
    "plt.show()"
   ]
  },
  {
   "cell_type": "markdown",
   "metadata": {
    "id": "1XhdTmkcMFPM"
   },
   "source": [
    "### Splitting the dataset"
   ]
  },
  {
   "cell_type": "code",
   "execution_count": 12,
   "metadata": {
    "id": "DFjAKDvtJMPr"
   },
   "outputs": [],
   "source": [
    "# The dataset is split in the ratio of 6:4 for training : test data respectfully\n",
    "(train_inputs, test_inputs, train_classes, test_classes) = train_test_split(input_features, target_features, train_size=0.6, random_state=2)"
   ]
  },
  {
   "cell_type": "markdown",
   "metadata": {
    "id": "53y9pAysMi9H"
   },
   "source": [
    "### Applying Classification Algorithm"
   ]
  },
  {
   "cell_type": "markdown",
   "metadata": {
    "id": "tuRBTt4yNAiS"
   },
   "source": [
    "### 1. ID3 algorithm"
   ]
  },
  {
   "cell_type": "code",
   "execution_count": 13,
   "metadata": {
    "id": "8P6LEtUuNEql"
   },
   "outputs": [],
   "source": [
    "id3_classifier = tree.DecisionTreeClassifier(criterion = 'entropy')\n",
    "id3_classifier = id3_classifier.fit(train_inputs, train_classes)"
   ]
  },
  {
   "cell_type": "code",
   "execution_count": 14,
   "metadata": {
    "colab": {
     "base_uri": "https://localhost:8080/",
     "height": 466
    },
    "id": "tzDeHAXtNqz1",
    "outputId": "84445abe-8b7e-444f-beba-67dea253d9b5"
   },
   "outputs": [
    {
     "data": {
      "text/plain": [
       "[Text(133.92000000000002, 195.696, 'X[2] <= 2.35\\nentropy = 1.578\\nsamples = 90\\nvalue = [27, 34, 29]'),\n",
       " Text(100.44000000000001, 152.208, 'entropy = 0.0\\nsamples = 27\\nvalue = [27, 0, 0]'),\n",
       " Text(167.40000000000003, 152.208, 'X[3] <= 1.7\\nentropy = 0.995\\nsamples = 63\\nvalue = [0, 34, 29]'),\n",
       " Text(66.96000000000001, 108.72, 'X[2] <= 5.0\\nentropy = 0.191\\nsamples = 34\\nvalue = [0, 33, 1]'),\n",
       " Text(33.480000000000004, 65.232, 'entropy = 0.0\\nsamples = 32\\nvalue = [0, 32, 0]'),\n",
       " Text(100.44000000000001, 65.232, 'X[3] <= 1.55\\nentropy = 1.0\\nsamples = 2\\nvalue = [0, 1, 1]'),\n",
       " Text(66.96000000000001, 21.744, 'entropy = 0.0\\nsamples = 1\\nvalue = [0, 0, 1]'),\n",
       " Text(133.92000000000002, 21.744, 'entropy = 0.0\\nsamples = 1\\nvalue = [0, 1, 0]'),\n",
       " Text(267.84000000000003, 108.72, 'X[2] <= 4.85\\nentropy = 0.216\\nsamples = 29\\nvalue = [0, 1, 28]'),\n",
       " Text(234.36, 65.232, 'X[0] <= 5.95\\nentropy = 1.0\\nsamples = 2\\nvalue = [0, 1, 1]'),\n",
       " Text(200.88000000000002, 21.744, 'entropy = 0.0\\nsamples = 1\\nvalue = [0, 1, 0]'),\n",
       " Text(267.84000000000003, 21.744, 'entropy = 0.0\\nsamples = 1\\nvalue = [0, 0, 1]'),\n",
       " Text(301.32000000000005, 65.232, 'entropy = 0.0\\nsamples = 27\\nvalue = [0, 0, 27]')]"
      ]
     },
     "execution_count": 14,
     "metadata": {},
     "output_type": "execute_result"
    },
    {
     "data": {
      "image/png": "[encoded data removed]",
      "text/plain": [
       "<Figure size 432x288 with 1 Axes>"
      ]
     },
     "metadata": {
      "needs_background": "light"
     },
     "output_type": "display_data"
    }
   ],
   "source": [
    "# Print the obtained decision tree after training\n",
    "tree.plot_tree(id3_classifier)"
   ]
  },
  {
   "cell_type": "code",
   "execution_count": 15,
   "metadata": {
    "id": "Kpu6mdWHNvpz"
   },
   "outputs": [],
   "source": [
    "id3_DecisionTree = tree.export_text(id3_classifier, feature_names=iris_data['feature_names'])"
   ]
  },
  {
   "cell_type": "code",
   "execution_count": 16,
   "metadata": {
    "colab": {
     "base_uri": "https://localhost:8080/"
    },
    "id": "oWaQ-rJGPE5O",
    "outputId": "ab288c56-95d2-4c2a-bc00-254662eed67d"
   },
   "outputs": [
    {
     "name": "stdout",
     "output_type": "stream",
     "text": [
      "|--- petal length (cm) <= 2.35\n",
      "|   |--- class: setosa\n",
      "|--- petal length (cm) >  2.35\n",
      "|   |--- petal width (cm) <= 1.70\n",
      "|   |   |--- petal length (cm) <= 5.00\n",
      "|   |   |   |--- class: versicolor\n",
      "|   |   |--- petal length (cm) >  5.00\n",
      "|   |   |   |--- petal width (cm) <= 1.55\n",
      "|   |   |   |   |--- class: virginica\n",
      "|   |   |   |--- petal width (cm) >  1.55\n",
      "|   |   |   |   |--- class: versicolor\n",
      "|   |--- petal width (cm) >  1.70\n",
      "|   |   |--- petal length (cm) <= 4.85\n",
      "|   |   |   |--- sepal length (cm) <= 5.95\n",
      "|   |   |   |   |--- class: versicolor\n",
      "|   |   |   |--- sepal length (cm) >  5.95\n",
      "|   |   |   |   |--- class: virginica\n",
      "|   |   |--- petal length (cm) >  4.85\n",
      "|   |   |   |--- class: virginica\n",
      "\n"
     ]
    }
   ],
   "source": [
    "print(id3_DecisionTree)"
   ]
  },
  {
   "cell_type": "code",
   "execution_count": 17,
   "metadata": {
    "colab": {
     "base_uri": "https://localhost:8080/"
    },
    "id": "3pDaH3AHRMsN",
    "outputId": "fc315d1a-84b1-4c31-812f-dfc4f1ee391f"
   },
   "outputs": [
    {
     "name": "stdout",
     "output_type": "stream",
     "text": [
      "Accuracy of ID3 Decision Tree  93.33333333333333 %\n"
     ]
    }
   ],
   "source": [
    "id3_prediction = id3_classifier.predict(test_inputs)\n",
    "id3_score = id3_classifier.score(test_inputs, test_classes)\n",
    "print(\"Accuracy of ID3 Decision Tree \", id3_score*100 , \"%\")"
   ]
  },
  {
   "cell_type": "code",
   "execution_count": 18,
   "metadata": {
    "colab": {
     "base_uri": "https://localhost:8080/",
     "height": 590
    },
    "id": "VNIzzFYkReFt",
    "outputId": "ace09f05-289c-4a59-8231-e5db75bcaf89"
   },
   "outputs": [
    {
     "data": {
      "text/plain": [
       "[]"
      ]
     },
     "execution_count": 18,
     "metadata": {},
     "output_type": "execute_result"
    },
    {
     "data": {
      "text/plain": [
       "<Figure size 432x288 with 0 Axes>"
      ]
     },
     "metadata": {},
     "output_type": "display_data"
    },
    {
     "data": {
      "image/png": "[encoded data removed]",
      "text/plain": [
       "<Figure size 936x576 with 1 Axes>"
      ]
     },
     "metadata": {
      "needs_background": "light"
     },
     "output_type": "display_data"
    }
   ],
   "source": [
    "plt.clf()\n",
    "plt.figure(figsize=(13,8))\n",
    "\n",
    "# Red coloured plots are the actual values that don't match with prediction (green plots). Note that green plots are plotted over red ones, hence correct predictions are hidden\n",
    "\n",
    "plt.plot(np.arange(0,len(test_classes),1), test_classes, 'r^', np.arange(0,len(test_classes),1), id3_prediction, 'g^')\n",
    "plt.xlabel('Input ID', fontsize=12)\n",
    "plt.ylabel('Prediction vs Actual value', fontsize=12)\n",
    "plt.suptitle('Prediction result of ID3 Decision Tree classifier', fontsize = 18)\n",
    "\n",
    "# Saving the obatined plot\n",
    "plt.savefig('ID3 Decision Tree Prediction.png')\n",
    "\n",
    "plt.plot()"
   ]
  },
  {
   "cell_type": "markdown",
   "metadata": {
    "id": "3tmjtnJiPW0f"
   },
   "source": [
    "### 2. CART algorithm"
   ]
  },
  {
   "cell_type": "code",
   "execution_count": 19,
   "metadata": {
    "id": "Z_fMHGH-PHMF"
   },
   "outputs": [],
   "source": [
    "CART_classifier = tree.DecisionTreeClassifier(criterion = 'gini')\n",
    "CART_classifier = CART_classifier.fit(train_inputs, train_classes)"
   ]
  },
  {
   "cell_type": "code",
   "execution_count": 20,
   "metadata": {
    "colab": {
     "base_uri": "https://localhost:8080/",
     "height": 466
    },
    "id": "reMrjkdoQuS-",
    "outputId": "6eec7c83-fa47-4512-9797-d880681be9b4"
   },
   "outputs": [
    {
     "data": {
      "text/plain": [
       "[Text(133.92000000000002, 195.696, 'X[2] <= 2.35\\ngini = 0.663\\nsamples = 90\\nvalue = [27, 34, 29]'),\n",
       " Text(100.44000000000001, 152.208, 'gini = 0.0\\nsamples = 27\\nvalue = [27, 0, 0]'),\n",
       " Text(167.40000000000003, 152.208, 'X[3] <= 1.7\\ngini = 0.497\\nsamples = 63\\nvalue = [0, 34, 29]'),\n",
       " Text(66.96000000000001, 108.72, 'X[2] <= 5.0\\ngini = 0.057\\nsamples = 34\\nvalue = [0, 33, 1]'),\n",
       " Text(33.480000000000004, 65.232, 'gini = 0.0\\nsamples = 32\\nvalue = [0, 32, 0]'),\n",
       " Text(100.44000000000001, 65.232, 'X[3] <= 1.55\\ngini = 0.5\\nsamples = 2\\nvalue = [0, 1, 1]'),\n",
       " Text(66.96000000000001, 21.744, 'gini = 0.0\\nsamples = 1\\nvalue = [0, 0, 1]'),\n",
       " Text(133.92000000000002, 21.744, 'gini = 0.0\\nsamples = 1\\nvalue = [0, 1, 0]'),\n",
       " Text(267.84000000000003, 108.72, 'X[2] <= 4.85\\ngini = 0.067\\nsamples = 29\\nvalue = [0, 1, 28]'),\n",
       " Text(234.36, 65.232, 'X[1] <= 3.1\\ngini = 0.5\\nsamples = 2\\nvalue = [0, 1, 1]'),\n",
       " Text(200.88000000000002, 21.744, 'gini = 0.0\\nsamples = 1\\nvalue = [0, 0, 1]'),\n",
       " Text(267.84000000000003, 21.744, 'gini = 0.0\\nsamples = 1\\nvalue = [0, 1, 0]'),\n",
       " Text(301.32000000000005, 65.232, 'gini = 0.0\\nsamples = 27\\nvalue = [0, 0, 27]')]"
      ]
     },
     "execution_count": 20,
     "metadata": {},
     "output_type": "execute_result"
    },
    {
     "data": {
      "image/png": "[encoded data removed]",
      "text/plain": [
       "<Figure size 432x288 with 1 Axes>"
      ]
     },
     "metadata": {
      "needs_background": "light"
     },
     "output_type": "display_data"
    }
   ],
   "source": [
    "# Print the obtained decision tree after training\n",
    "tree.plot_tree(CART_classifier)"
   ]
  },
  {
   "cell_type": "code",
   "execution_count": 21,
   "metadata": {
    "id": "0mnuPo_8Qwzk"
   },
   "outputs": [],
   "source": [
    "CART_DecisionTree = tree.export_text(CART_classifier, feature_names=iris_data['feature_names'])"
   ]
  },
  {
   "cell_type": "code",
   "execution_count": 22,
   "metadata": {
    "colab": {
     "base_uri": "https://localhost:8080/"
    },
    "id": "cGNuHIKvQzZr",
    "outputId": "6c239132-4cb5-4965-c1fd-4da8d3cfffd0"
   },
   "outputs": [
    {
     "name": "stdout",
     "output_type": "stream",
     "text": [
      "|--- petal length (cm) <= 2.35\n",
      "|   |--- class: setosa\n",
      "|--- petal length (cm) >  2.35\n",
      "|   |--- petal width (cm) <= 1.70\n",
      "|   |   |--- petal length (cm) <= 5.00\n",
      "|   |   |   |--- class: versicolor\n",
      "|   |   |--- petal length (cm) >  5.00\n",
      "|   |   |   |--- petal width (cm) <= 1.55\n",
      "|   |   |   |   |--- class: virginica\n",
      "|   |   |   |--- petal width (cm) >  1.55\n",
      "|   |   |   |   |--- class: versicolor\n",
      "|   |--- petal width (cm) >  1.70\n",
      "|   |   |--- petal length (cm) <= 4.85\n",
      "|   |   |   |--- sepal width (cm) <= 3.10\n",
      "|   |   |   |   |--- class: virginica\n",
      "|   |   |   |--- sepal width (cm) >  3.10\n",
      "|   |   |   |   |--- class: versicolor\n",
      "|   |   |--- petal length (cm) >  4.85\n",
      "|   |   |   |--- class: virginica\n",
      "\n"
     ]
    }
   ],
   "source": [
    "print(CART_DecisionTree)"
   ]
  },
  {
   "cell_type": "code",
   "execution_count": 23,
   "metadata": {
    "colab": {
     "base_uri": "https://localhost:8080/"
    },
    "id": "VUbW7NOQXQrC",
    "outputId": "e73cb527-2a19-4709-d479-7d0af324e17b"
   },
   "outputs": [
    {
     "name": "stdout",
     "output_type": "stream",
     "text": [
      "Accuracy of CART Decision Tree  95.0 %\n"
     ]
    }
   ],
   "source": [
    "CART_prediction = CART_classifier.predict(test_inputs)\n",
    "CART_score = CART_classifier.score(test_inputs, test_classes)\n",
    "print(\"Accuracy of CART Decision Tree \", CART_score*100 , \"%\")"
   ]
  },
  {
   "cell_type": "code",
   "execution_count": 24,
   "metadata": {
    "colab": {
     "base_uri": "https://localhost:8080/",
     "height": 590
    },
    "id": "CMhTAVqDXJHa",
    "outputId": "c7e003ea-a76c-4019-fadb-abea8ad91a81"
   },
   "outputs": [
    {
     "data": {
      "text/plain": [
       "[]"
      ]
     },
     "execution_count": 24,
     "metadata": {},
     "output_type": "execute_result"
    },
    {
     "data": {
      "text/plain": [
       "<Figure size 432x288 with 0 Axes>"
      ]
     },
     "metadata": {},
     "output_type": "display_data"
    },
    {
     "data": {
      "image/png": "[encoded data removed]",
      "text/plain": [
       "<Figure size 936x576 with 1 Axes>"
      ]
     },
     "metadata": {
      "needs_background": "light"
     },
     "output_type": "display_data"
    }
   ],
   "source": [
    "plt.clf()\n",
    "plt.figure(figsize=(13,8))\n",
    "\n",
    "# Red coloured plots are the actual values that don't match with prediction (green plots). Note that green plots are plotted over red ones, hence correct predictions are hidden\n",
    "\n",
    "plt.plot(np.arange(0,len(test_classes),1), test_classes, 'r^', np.arange(0,len(test_classes),1), CART_prediction, 'g^')\n",
    "plt.xlabel('Input ID', fontsize=12)\n",
    "plt.ylabel('Prediction vs Actual value', fontsize=12)\n",
    "plt.suptitle('Prediction result of CART Decision Tree classifier', fontsize = 18)\n",
    "\n",
    "# Saving the obatined plot\n",
    "plt.savefig('CART Decision Tree Prediction.png')\n",
    "\n",
    "plt.plot()"
   ]
  },
  {
   "cell_type": "markdown",
   "metadata": {
    "id": "KXllxFfLdqPi"
   },
   "source": [
    "### Result\n",
    "Both ID3 and CART algorithms give an accuracy of >90% on test data (~60 images). But, CART algorithm seems to be slightly more accurate than ID3"
   ]
  }
 ],
 "metadata": {
  "colab": {
   "collapsed_sections": [],
   "name": "Decision Tree implementation on Iris Dataset.ipynb",
   "provenance": []
  },
  "kernelspec": {
   "display_name": "Python 3",
   "language": "python",
   "name": "python3"
  },
  "language_info": {
   "codemirror_mode": {
    "name": "ipython",
    "version": 3
   },
   "file_extension": ".py",
   "mimetype": "text/x-python",
   "name": "python",
   "nbconvert_exporter": "python",
   "pygments_lexer": "ipython3",
   "version": "3.7.6"
  }
 },
 "nbformat": 4,
 "nbformat_minor": 1
}
