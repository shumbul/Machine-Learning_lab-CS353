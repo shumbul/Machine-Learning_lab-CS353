{
 "cells": [
  {
   "cell_type": "markdown",
   "metadata": {
    "id": "YEBGkIcrZkUn"
   },
   "source": [
    "<h1 align='center'> CS353 Machine Learning Lab</h1>\n",
    "<h1 align='center'>Lab-2 (05/04/21)</h1>\n",
    "<h2 align='center'>Shumbul Arifa (181CO152)</h2>"
   ]
  },
  {
   "cell_type": "markdown",
   "metadata": {},
   "source": [
    "## Task:\n",
    "Implementing NOR Gate using Artificial Neural Network.\n",
    "\n",
    "(An artificial neural network (ANN) is the piece of a computing system designed to simulate the way the human brain analyzes and processes information. It is the foundation of artificial intelligence (AI) and solves problems that would prove impossible or difficult by human or statistical standards.)"
   ]
  },
  {
   "cell_type": "markdown",
   "metadata": {
    "id": "nPERDQ8lZuVL"
   },
   "source": [
    "## 1) Import libraries"
   ]
  },
  {
   "cell_type": "code",
   "execution_count": 26,
   "metadata": {
    "id": "Y4WiRq2WZxHc"
   },
   "outputs": [],
   "source": [
    "import numpy as np\n",
    "from matplotlib import pyplot as plt"
   ]
  },
  {
   "cell_type": "markdown",
   "metadata": {
    "id": "J5nTn3L4Zp66"
   },
   "source": [
    "## 2) Activation function"
   ]
  },
  {
   "cell_type": "code",
   "execution_count": 27,
   "metadata": {
    "id": "wDVn9n1VZpnG"
   },
   "outputs": [],
   "source": [
    "def sigmoid(x):\n",
    "    z = 1 / (1 + np.exp(-x))\n",
    "#     print(\"Sigmoid of \\n\", x, \" = \", z, \"\\n\")\n",
    "    return z"
   ]
  },
  {
   "cell_type": "markdown",
   "metadata": {
    "id": "uu-OjGr1Z4HG"
   },
   "source": [
    "## 3)  Initialising weight using ```np.rand``` \n",
    "\n"
   ]
  },
  {
   "cell_type": "code",
   "execution_count": 28,
   "metadata": {
    "id": "iUOMeaOTZ4fs"
   },
   "outputs": [],
   "source": [
    "def initializeParameters(inputFeatures, HiddenLayer, outputFeatures):\n",
    "    W1 = np.random.randn(HiddenLayer, inputFeatures)\n",
    "    W2 = np.random.randn(outputFeatures, HiddenLayer)\n",
    "    b1 = np.zeros((HiddenLayer, 1))\n",
    "    b2 = np.zeros((outputFeatures, 1))\n",
    "\n",
    "    parameters = {\"W1\" : W1, \"b1\": b1,\n",
    "                  \"W2\" : W2, \"b2\": b2}\n",
    "    return parameters\n",
    "  "
   ]
  },
  {
   "cell_type": "markdown",
   "metadata": {
    "id": "0gOuN7GZaJI9"
   },
   "source": [
    "## 4) Forward Propogation"
   ]
  },
  {
   "cell_type": "code",
   "execution_count": 29,
   "metadata": {
    "id": "HOEBtCadaOVe"
   },
   "outputs": [],
   "source": [
    "def forwardPropagation(X, Y, parameters):\n",
    "    m = X.shape[1]\n",
    "    W1 = parameters[\"W1\"]\n",
    "    W2 = parameters[\"W2\"]\n",
    "    b1 = parameters[\"b1\"]\n",
    "    b2 = parameters[\"b2\"]\n",
    "  \n",
    "    Z1 = np.dot(W1, X) + b1\n",
    "    A1 = sigmoid(Z1)\n",
    "    Z2 = np.dot(W2, A1) + b2\n",
    "    A2 = sigmoid(Z2)\n",
    "  \n",
    "    cache = (Z1, A1, W1, b1, Z2, A2, W2, b2)\n",
    "    logprobs = np.multiply(np.log(A2), Y) + np.multiply(np.log(1 - A2), (1 - Y))\n",
    "    cost = -np.sum(logprobs) / m\n",
    "    return cost, cache, A2"
   ]
  },
  {
   "cell_type": "markdown",
   "metadata": {},
   "source": [
    "**Class entropy error function = -ylog(y') - (1-y)log(1-y')** \\\n",
    "y -> actual output \\\n",
    "y' -> predicted output"
   ]
  },
  {
   "cell_type": "markdown",
   "metadata": {
    "id": "lzLXKgvcaUoq"
   },
   "source": [
    "## 5) Backward Propogation"
   ]
  },
  {
   "cell_type": "code",
   "execution_count": 30,
   "metadata": {
    "id": "OEVY6hV2aXze"
   },
   "outputs": [],
   "source": [
    "def backwardPropagation(X, Y, cache):\n",
    "    m = X.shape[1]\n",
    "    (Z1, A1, W1, b1, Z2, A2, W2, b2) = cache\n",
    "      \n",
    "    dZ2 = A2 - Y\n",
    "    dW2 = np.dot(dZ2, A1.T) / m\n",
    "    db2 = np.sum(dZ2, axis = 1, keepdims = True)\n",
    "      \n",
    "    dA1 = np.dot(W2.T, dZ2)\n",
    "    dZ1 = np.multiply(dA1, A1 * (1- A1))\n",
    "    dW1 = np.dot(dZ1, X.T) / m\n",
    "    db1 = np.sum(dZ1, axis = 1, keepdims = True) / m\n",
    "      \n",
    "    gradients = {\"dZ2\": dZ2, \"dW2\": dW2, \"db2\": db2,\n",
    "                 \"dZ1\": dZ1, \"dW1\": dW1, \"db1\": db1}\n",
    "    return gradients"
   ]
  },
  {
   "cell_type": "markdown",
   "metadata": {
    "id": "hUWe5RrwaZ6X"
   },
   "source": [
    "## 6) Weight Updation"
   ]
  },
  {
   "cell_type": "code",
   "execution_count": 31,
   "metadata": {
    "id": "QY3RbJcMacPe"
   },
   "outputs": [],
   "source": [
    "def updateParameters(parameters, gradients, learningRate):\n",
    "    parameters[\"W1\"] = parameters[\"W1\"] - learningRate * gradients[\"dW1\"]\n",
    "    parameters[\"W2\"] = parameters[\"W2\"] - learningRate * gradients[\"dW2\"]\n",
    "    parameters[\"b1\"] = parameters[\"b1\"] - learningRate * gradients[\"db1\"]\n",
    "    parameters[\"b2\"] = parameters[\"b2\"] - learningRate * gradients[\"db2\"]\n",
    "    return parameters"
   ]
  },
  {
   "cell_type": "markdown",
   "metadata": {
    "id": "X95atT2VaepD"
   },
   "source": [
    "# Training"
   ]
  },
  {
   "cell_type": "markdown",
   "metadata": {
    "id": "mRJN8eCLag8n"
   },
   "source": [
    "Here, we train the neural network for 10000 epochs\n",
    "\n",
    "**NOR Gate:**\n",
    "\n",
    "0 NOR 0 -> 1\n",
    "\n",
    "0 NOR 1 -> 0\n",
    "\n",
    "1 NOR 0 -> 0\n",
    "\n",
    "1 NOR 1 -> 0"
   ]
  },
  {
   "cell_type": "code",
   "execution_count": 32,
   "metadata": {
    "id": "wkDeY9o0agLP"
   },
   "outputs": [],
   "source": [
    "X = np.array([[0, 0, 1, 1], [0, 1, 0, 1]]) # NOR input\n",
    "Y = np.array([[1, 0, 0, 0]]) # NOR output\n",
    "\n",
    "HiddenLayerNeurons = 2 \n",
    "inputFeatures = X.shape[0]\n",
    "outputFeatures = Y.shape[0] \n",
    "parameters = initializeParameters(inputFeatures, HiddenLayerNeurons, outputFeatures)\n",
    "epoch = 10000\n",
    "learningRate = 0.01\n",
    "losses = np.zeros((epoch, 1))\n",
    "  \n",
    "for i in range(epoch):\n",
    "    losses[i, 0], cache, A2 = forwardPropagation(X, Y, parameters)\n",
    "    gradients = backwardPropagation(X, Y, cache)\n",
    "    parameters = updateParameters(parameters, gradients, learningRate)"
   ]
  },
  {
   "cell_type": "markdown",
   "metadata": {
    "id": "RD_wA4euango"
   },
   "source": [
    "# Analysis\n"
   ]
  },
  {
   "cell_type": "code",
   "execution_count": 33,
   "metadata": {
    "scrolled": true
   },
   "outputs": [
    {
     "data": {
      "image/png": "[encoded data removed]",
      "text/plain": [
       "<Figure size 432x288 with 1 Axes>"
      ]
     },
     "metadata": {
      "needs_background": "light"
     },
     "output_type": "display_data"
    }
   ],
   "source": [
    "plt.figure()\n",
    "plt.plot(losses)\n",
    "plt.xlabel(\"EPOCHS\")\n",
    "plt.ylabel(\"Loss value\")\n",
    "plt.show()"
   ]
  },
  {
   "cell_type": "markdown",
   "metadata": {},
   "source": [
    "**TESTING**"
   ]
  },
  {
   "cell_type": "code",
   "execution_count": 34,
   "metadata": {},
   "outputs": [
    {
     "name": "stdout",
     "output_type": "stream",
     "text": [
      "[[0. 0. 1. 0.]]\n"
     ]
    }
   ],
   "source": [
    "X = np.array([[1, 1, 0, 0], [0, 1, 0, 1]])\n",
    "cost, _, A2 = forwardPropagation(X, Y, parameters)\n",
    "prediction = (A2 > 0.5) * 1.0\n",
    "print(prediction)"
   ]
  },
  {
   "cell_type": "markdown",
   "metadata": {},
   "source": [
    "We observe that the predicted outputs for each of the test inputs are matched with the NOR logic gate truth table."
   ]
  }
 ],
 "metadata": {
  "colab": {
   "collapsed_sections": [],
   "name": "AND-Gates.ipynb",
   "provenance": []
  },
  "kernelspec": {
   "display_name": "Python 3",
   "language": "python",
   "name": "python3"
  },
  "language_info": {
   "codemirror_mode": {
    "name": "ipython",
    "version": 3
   },
   "file_extension": ".py",
   "mimetype": "text/x-python",
   "name": "python",
   "nbconvert_exporter": "python",
   "pygments_lexer": "ipython3",
   "version": "3.7.6"
  }
 },
 "nbformat": 4,
 "nbformat_minor": 1
}
