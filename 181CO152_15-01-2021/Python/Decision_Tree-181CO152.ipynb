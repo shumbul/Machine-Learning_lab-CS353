{
 "cells": [
  {
   "cell_type": "markdown",
   "metadata": {
    "id": "EoOOdOQUhJFd"
   },
   "source": [
    "# Decision Trees on Iris Dataset\n",
    "\n",
    "### Submitted by - \n",
    "> Name : Shumbul Arifa \\\n",
    "> Roll No.: 181CO152 \\\n",
    "> Date : 15-01-2021\n"
   ]
  },
  {
   "cell_type": "markdown",
   "metadata": {
    "id": "ecWj-uuelyFP"
   },
   "source": [
    "**Problem Statement:** \n",
    "#### To create a decision tree, using the below criterions for splitting the attributes:\n",
    "1. Quinlan's ID3  (using information gain) \n",
    "2. C4.5 (using gain ratio) \n",
    "3. CART (using gini index)"
   ]
  },
  {
   "cell_type": "markdown",
   "metadata": {
    "id": "JgNXFfdSL4dn"
   },
   "source": [
    "# ID3"
   ]
  },
  {
   "cell_type": "markdown",
   "metadata": {
    "id": "5WRWxXh1MHNA"
   },
   "source": [
    "## 1) Install required libraries"
   ]
  },
  {
   "cell_type": "code",
   "execution_count": 1,
   "metadata": {
    "id": "iwdmF63vB056"
   },
   "outputs": [
    {
     "name": "stdout",
     "output_type": "stream",
     "text": [
      "Requirement already satisfied: graphviz in /home/shumbul/anaconda3/lib/python3.7/site-packages (0.16)\r\n"
     ]
    }
   ],
   "source": [
    "!pip install graphviz\n",
    "from sklearn.datasets import load_iris\n",
    "from sklearn import tree\n",
    "from sklearn.model_selection import train_test_split\n",
    "from sklearn.metrics import accuracy_score\n",
    "import graphviz \n",
    "import pandas as pd"
   ]
  },
  {
   "cell_type": "markdown",
   "metadata": {
    "id": "ci2lIZcsMOVu"
   },
   "source": [
    "## 2) Load IRIS dataset"
   ]
  },
  {
   "cell_type": "code",
   "execution_count": 2,
   "metadata": {
    "id": "-MGXRT2uMMss"
   },
   "outputs": [],
   "source": [
    "iris = load_iris()"
   ]
  },
  {
   "cell_type": "markdown",
   "metadata": {
    "id": "uVNdymPrMlHB"
   },
   "source": [
    "## 3) Split data & fit the model"
   ]
  },
  {
   "cell_type": "code",
   "execution_count": 3,
   "metadata": {
    "id": "ceAnH0nbMjXI"
   },
   "outputs": [],
   "source": [
    "X, y = load_iris(return_X_y=True)\n",
    "X_train, X_test, y_train, y_test = train_test_split(X, y, test_size = 25, random_state = 10)\n",
    "clf = tree.DecisionTreeClassifier(criterion='entropy')\n",
    "clf = clf.fit(X_train, y_train)\n",
    "clf = clf.fit(X_train, y_train)"
   ]
  },
  {
   "cell_type": "markdown",
   "metadata": {
    "id": "pE_1DhGDNIPi"
   },
   "source": [
    "## 4) Accuracy"
   ]
  },
  {
   "cell_type": "code",
   "execution_count": 4,
   "metadata": {
    "colab": {
     "base_uri": "https://localhost:8080/"
    },
    "id": "UbJhHpQCM6EV",
    "outputId": "47568502-ff0d-4b46-ed7a-7122466b2608",
    "scrolled": false
   },
   "outputs": [
    {
     "name": "stdout",
     "output_type": "stream",
     "text": [
      "Accuracy of ID3 Model:  0.96\n"
     ]
    }
   ],
   "source": [
    "print(\"Accuracy of ID3 Model: \",  clf.score(X_test, y_test))"
   ]
  },
  {
   "cell_type": "markdown",
   "metadata": {
    "id": "0g0c__yxqqLk"
   },
   "source": [
    "# C4.5\n"
   ]
  },
  {
   "cell_type": "markdown",
   "metadata": {
    "id": "9KErG2SCJYE6"
   },
   "source": [
    "## 1) Install required libraries"
   ]
  },
  {
   "cell_type": "code",
   "execution_count": 5,
   "metadata": {
    "colab": {
     "base_uri": "https://localhost:8080/"
    },
    "id": "hZvm-g83qrtE",
    "outputId": "067c775e-df60-4cec-e1dd-a4fd55ff5d00"
   },
   "outputs": [
    {
     "name": "stdout",
     "output_type": "stream",
     "text": [
      "Requirement already satisfied: chefboost in /home/shumbul/anaconda3/lib/python3.7/site-packages (0.0.10)\n",
      "Requirement already satisfied: tqdm>=4.30.0 in /home/shumbul/anaconda3/lib/python3.7/site-packages (from chefboost) (4.42.1)\n",
      "Requirement already satisfied: pandas>=0.22.0 in /home/shumbul/anaconda3/lib/python3.7/site-packages (from chefboost) (1.0.1)\n",
      "Requirement already satisfied: numpy>=1.14.0 in /home/shumbul/anaconda3/lib/python3.7/site-packages (from chefboost) (1.18.1)\n",
      "Requirement already satisfied: pytz>=2017.2 in /home/shumbul/anaconda3/lib/python3.7/site-packages (from pandas>=0.22.0->chefboost) (2019.3)\n",
      "Requirement already satisfied: python-dateutil>=2.6.1 in /home/shumbul/anaconda3/lib/python3.7/site-packages (from pandas>=0.22.0->chefboost) (2.8.1)\n",
      "Requirement already satisfied: six>=1.5 in /home/shumbul/anaconda3/lib/python3.7/site-packages (from python-dateutil>=2.6.1->pandas>=0.22.0->chefboost) (1.14.0)\n"
     ]
    }
   ],
   "source": [
    "!pip install chefboost\n"
   ]
  },
  {
   "cell_type": "markdown",
   "metadata": {
    "id": "iz4BilHyJhPG"
   },
   "source": [
    "## 2) Load the data"
   ]
  },
  {
   "cell_type": "code",
   "execution_count": 6,
   "metadata": {
    "colab": {
     "base_uri": "https://localhost:8080/"
    },
    "id": "wyXxFKiqJxMp",
    "outputId": "3e431d41-6061-42ec-a85c-0d378308d849"
   },
   "outputs": [],
   "source": [
    "data = load_iris()\n",
    "df = pd.DataFrame(data.data, columns=data.feature_names)\n",
    "df['Decision'] = pd.Series(data.target)\n",
    "df['Decision'] = df['Decision'].replace({0:\"type0\" , 1: \"type1\",2:\"type2\"});\n",
    "train=df.sample(frac=0.75,random_state=10)\n",
    "test=df.drop(train.index)"
   ]
  },
  {
   "cell_type": "markdown",
   "metadata": {
    "id": "KWtHqWE5KIXX"
   },
   "source": [
    "## 3) Build the model"
   ]
  },
  {
   "cell_type": "code",
   "execution_count": 7,
   "metadata": {
    "id": "cPRC9ibOBmfZ"
   },
   "outputs": [
    {
     "name": "stdout",
     "output_type": "stream",
     "text": [
      "C4.5  tree is going to be built...\n",
      "-------------------------\n",
      "finished in  0.5835182666778564  seconds\n",
      "-------------------------\n",
      "Evaluate  train set\n",
      "-------------------------\n",
      "Accuracy:  77.67857142857143 % on  112  instances\n",
      "Labels:  ['type1' 'type2' 'type0']\n",
      "Confusion matrix:  [[18, 5, 0], [20, 32, 0], [0, 0, 37]]\n",
      "Decision  type1  => Accuray:  77.6786 %, Precision:  78.2609 %, Recall:  47.3684 %, F1:  59.0164 %\n",
      "Decision  type2  => Accuray:  77.6786 %, Precision:  61.5385 %, Recall:  86.4865 %, F1:  71.9101 %\n",
      "Decision  type0  => Accuray:  100.0 %, Precision:  100.0 %, Recall:  100.0 %, F1:  100.0 %\n",
      "-------------------------\n",
      "Evaluate  validation set\n",
      "-------------------------\n",
      "Accuracy:  81.57894736842105 % on  38  instances\n",
      "Labels:  ['type0' 'type1' 'type2']\n",
      "Confusion matrix:  [[13, 0, 0], [0, 6, 1], [0, 6, 12]]\n",
      "Decision  type0  => Accuray:  100.0 %, Precision:  100.0 %, Recall:  100.0 %, F1:  100.0 %\n",
      "Decision  type1  => Accuray:  81.5789 %, Precision:  85.7143 %, Recall:  50.0 %, F1:  63.1579 %\n",
      "Decision  type2  => Accuray:  81.5789 %, Precision:  66.6667 %, Recall:  92.3077 %, F1:  77.4194 %\n"
     ]
    }
   ],
   "source": [
    "from chefboost import Chefboost as chef\n",
    "config = {'algorithm': 'C4.5'}\n",
    "model = chef.fit(train, config ,test)"
   ]
  },
  {
   "cell_type": "markdown",
   "metadata": {
    "id": "uOXusz_pKOgd"
   },
   "source": [
    "## 4) Analysis"
   ]
  },
  {
   "cell_type": "markdown",
   "metadata": {
    "id": "oAlEAinFKRGM"
   },
   "source": [
    "The accuracy of C4.5 is 78.3% on training dataset"
   ]
  },
  {
   "cell_type": "markdown",
   "metadata": {
    "id": "Kokv_I4YnTLh"
   },
   "source": [
    "# Gini - index"
   ]
  },
  {
   "cell_type": "markdown",
   "metadata": {
    "id": "sx18G6XcnjVm"
   },
   "source": [
    "## 1) Install Required Libraries"
   ]
  },
  {
   "cell_type": "code",
   "execution_count": 8,
   "metadata": {
    "colab": {
     "base_uri": "https://localhost:8080/"
    },
    "id": "SRlNilcpdVdc",
    "outputId": "e97de35b-5349-4845-fc03-11d44908d10e"
   },
   "outputs": [],
   "source": [
    "from sklearn.datasets import load_iris\n",
    "from sklearn import tree\n",
    "from sklearn.model_selection import train_test_split\n",
    "from sklearn.metrics import accuracy_score\n",
    "import graphviz \n",
    "import pandas as pd"
   ]
  },
  {
   "cell_type": "markdown",
   "metadata": {
    "id": "x_VwxAqOnvpD"
   },
   "source": [
    "## 2) Load Iris dataset"
   ]
  },
  {
   "cell_type": "code",
   "execution_count": 9,
   "metadata": {
    "id": "FzNT3cfbg4q0"
   },
   "outputs": [],
   "source": [
    "iris = load_iris()\n",
    "X, y = load_iris(return_X_y=True)"
   ]
  },
  {
   "cell_type": "markdown",
   "metadata": {
    "id": "Kn4dMHUco4jQ"
   },
   "source": [
    "## 3) Split data "
   ]
  },
  {
   "cell_type": "code",
   "execution_count": 10,
   "metadata": {
    "id": "95Du_bx8erVB"
   },
   "outputs": [],
   "source": [
    "X_train, X_test, y_train, y_test = train_test_split(X, y, test_size = 25, random_state = 10)\n",
    "#25% data for testing"
   ]
  },
  {
   "cell_type": "markdown",
   "metadata": {
    "id": "Ui6lFTAKpFCI"
   },
   "source": [
    "## 4) Fit the model"
   ]
  },
  {
   "cell_type": "code",
   "execution_count": 11,
   "metadata": {
    "id": "qn0Cnh2Qdsv_"
   },
   "outputs": [],
   "source": [
    "clf = tree.DecisionTreeClassifier(criterion='gini')\n",
    "clf = clf.fit(X_train, y_train)"
   ]
  },
  {
   "cell_type": "markdown",
   "metadata": {
    "id": "bCtkK8NQqGXY"
   },
   "source": [
    "## 5) Accuracy "
   ]
  },
  {
   "cell_type": "code",
   "execution_count": 12,
   "metadata": {
    "colab": {
     "base_uri": "https://localhost:8080/"
    },
    "id": "QEmH5p_2d-Bn",
    "outputId": "5ff4a039-e1ab-44af-b71f-59ed9b418c78"
   },
   "outputs": [
    {
     "name": "stdout",
     "output_type": "stream",
     "text": [
      "0.96\n"
     ]
    }
   ],
   "source": [
    "print(clf.score(X_test, y_test))"
   ]
  },
  {
   "cell_type": "markdown",
   "metadata": {
    "id": "wn2_2fNPNSBD"
   },
   "source": [
    "# Overall Analysis\n",
    "\n",
    "\n"
   ]
  },
  {
   "cell_type": "markdown",
   "metadata": {
    "id": "3i8wC4pwNwVq"
   },
   "source": [
    "Observed accuracy of each algorithm is as follows:\n",
    "ID3 - 96%\n",
    "C4.5 - 78.3%\n",
    "CART - 96%\n",
    "\n",
    "Thus, ID3 and CART show accuracy >90%, so these two are best suited for the decision tree algorithm on the iris dataset. Whereas, C4.5 is the least accurate, thus not suitable for the same as compared to two other algorithms.\n",
    "\n",
    "**Therefore, ID3 and CART are the best performing Decision Tree Algorithms on the Iris dataset**"
   ]
  }
 ],
 "metadata": {
  "colab": {
   "collapsed_sections": [],
   "name": "DecisionTree-181CO125.ipynb",
   "provenance": []
  },
  "kernelspec": {
   "display_name": "Python 3",
   "language": "python",
   "name": "python3"
  },
  "language_info": {
   "codemirror_mode": {
    "name": "ipython",
    "version": 3
   },
   "file_extension": ".py",
   "mimetype": "text/x-python",
   "name": "python",
   "nbconvert_exporter": "python",
   "pygments_lexer": "ipython3",
   "version": "3.7.6"
  }
 },
 "nbformat": 4,
 "nbformat_minor": 1
}
