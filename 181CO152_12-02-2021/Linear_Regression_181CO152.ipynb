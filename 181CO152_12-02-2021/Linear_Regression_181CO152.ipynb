{
  "nbformat": 4,
  "nbformat_minor": 0,
  "metadata": {
    "colab": {
      "name": "Linear_Regression-181CO152.ipynb",
      "provenance": [],
      "collapsed_sections": []
    },
    "kernelspec": {
      "name": "python3",
      "display_name": "Python 3"
    }
  },
  "cells": [
    {
      "cell_type": "markdown",
      "metadata": {
        "id": "3HKCRvkKJRW7"
      },
      "source": [
        "<h1 align='center'>CS353 Machine Learning Lab</h1>\n",
        "<h1 align='center'>Linear Regression (12/02/21)</h1>\n",
        "<h2 align='center'>Shumbul Arifa (181CO152)</h2>"
      ]
    },
    {
      "cell_type": "markdown",
      "metadata": {
        "id": "bHuOkWgJMUcE"
      },
      "source": [
        "# Introduction\n",
        "\n",
        "Linear Regression is a machine learning algorithm based on supervised learning. Regression models a target prediction value based on independent variables. It is mostly used for finding out the relationship between variables and forecasting. \n",
        "\n",
        "Different regression models differ based on – the kind of relationship between dependent and independent variables, they are considering and the number of independent variables being used."
      ]
    },
    {
      "cell_type": "markdown",
      "metadata": {
        "id": "OhfJZ08nJbEJ"
      },
      "source": [
        "## Dataset\n",
        "\n",
        "Diabetes dataset\n",
        "\n",
        "This dataset is available in scikit learn std dataset library.\n",
        "\n",
        "**Attributes:**\n",
        "\n",
        "1.   age age in years\n",
        "2.   sex\n",
        "3.   bmi body mass index\n",
        "4.   bp average blood pressure\n",
        "5.   s1 tc, T-Cells (a type of white blood cells)\n",
        "6.   s2 ldl, low-density lipoproteins\n",
        "7.   s3 hdl, high-density lipoproteins\n",
        "8.   s4 tch, thyroid stimulating hormone\n",
        "9.   s5 ltg, lamotrigine\n",
        "10.  s6 glu, blood sugar level"
      ]
    },
    {
      "cell_type": "markdown",
      "metadata": {
        "id": "mK2I4ZE0Mgcp"
      },
      "source": [
        "## Result\n",
        "\n",
        "Model performance metrics are as below:\n",
        " 1. Mean-sq-error            : 2634.3990247377064\n",
        " 2. Mean-abs-error           : 41.03324080030628\n",
        " 3. R2-score                 : 0.5379603832310327\n",
        " 4. Mean-sq-log-error        : 0.13730557437964364\n",
        " 5. Explained-variance-score : 0.5407959471638365"
      ]
    },
    {
      "cell_type": "markdown",
      "metadata": {
        "id": "YZ8fxH7dMoHR"
      },
      "source": [
        "# Implementation"
      ]
    },
    {
      "cell_type": "markdown",
      "metadata": {
        "id": "vQ2M2k34LL5X"
      },
      "source": [
        "## Importing Python Libraries"
      ]
    },
    {
      "cell_type": "code",
      "metadata": {
        "id": "7CwQdB9GfcXD"
      },
      "source": [
        "import numpy as np\n",
        "import pandas as pd\n",
        "import matplotlib.pyplot as plt\n",
        "from sklearn.model_selection import train_test_split\n",
        "from sklearn import datasets,linear_model\n",
        "from sklearn.metrics import mean_squared_error,mean_absolute_error,r2_score\n",
        "from sklearn.metrics import mean_squared_log_error,explained_variance_score\n",
        "from sklearn import metrics"
      ],
      "execution_count": 58,
      "outputs": []
    },
    {
      "cell_type": "markdown",
      "metadata": {
        "id": "4uJa74WELYeH"
      },
      "source": [
        "## Loading dataset"
      ]
    },
    {
      "cell_type": "code",
      "metadata": {
        "id": "glqXsNs5gW0l",
        "colab": {
          "base_uri": "https://localhost:8080/",
          "height": 0
        },
        "outputId": "39bf8d8c-7af2-4cc2-b57e-fac29872de34"
      },
      "source": [
        "data = datasets.load_diabetes()\n",
        "data"
      ],
      "execution_count": 59,
      "outputs": [
        {
          "output_type": "execute_result",
          "data": {
            "text/plain": [
              "{'DESCR': '.. _diabetes_dataset:\\n\\nDiabetes dataset\\n----------------\\n\\nTen baseline variables, age, sex, body mass index, average blood\\npressure, and six blood serum measurements were obtained for each of n =\\n442 diabetes patients, as well as the response of interest, a\\nquantitative measure of disease progression one year after baseline.\\n\\n**Data Set Characteristics:**\\n\\n  :Number of Instances: 442\\n\\n  :Number of Attributes: First 10 columns are numeric predictive values\\n\\n  :Target: Column 11 is a quantitative measure of disease progression one year after baseline\\n\\n  :Attribute Information:\\n      - Age\\n      - Sex\\n      - Body mass index\\n      - Average blood pressure\\n      - S1\\n      - S2\\n      - S3\\n      - S4\\n      - S5\\n      - S6\\n\\nNote: Each of these 10 feature variables have been mean centered and scaled by the standard deviation times `n_samples` (i.e. the sum of squares of each column totals 1).\\n\\nSource URL:\\nhttps://www4.stat.ncsu.edu/~boos/var.select/diabetes.html\\n\\nFor more information see:\\nBradley Efron, Trevor Hastie, Iain Johnstone and Robert Tibshirani (2004) \"Least Angle Regression,\" Annals of Statistics (with discussion), 407-499.\\n(https://web.stanford.edu/~hastie/Papers/LARS/LeastAngle_2002.pdf)',\n",
              " 'data': array([[ 0.03807591,  0.05068012,  0.06169621, ..., -0.00259226,\n",
              "          0.01990842, -0.01764613],\n",
              "        [-0.00188202, -0.04464164, -0.05147406, ..., -0.03949338,\n",
              "         -0.06832974, -0.09220405],\n",
              "        [ 0.08529891,  0.05068012,  0.04445121, ..., -0.00259226,\n",
              "          0.00286377, -0.02593034],\n",
              "        ...,\n",
              "        [ 0.04170844,  0.05068012, -0.01590626, ..., -0.01107952,\n",
              "         -0.04687948,  0.01549073],\n",
              "        [-0.04547248, -0.04464164,  0.03906215, ...,  0.02655962,\n",
              "          0.04452837, -0.02593034],\n",
              "        [-0.04547248, -0.04464164, -0.0730303 , ..., -0.03949338,\n",
              "         -0.00421986,  0.00306441]]),\n",
              " 'data_filename': '/usr/local/lib/python3.6/dist-packages/sklearn/datasets/data/diabetes_data.csv.gz',\n",
              " 'feature_names': ['age',\n",
              "  'sex',\n",
              "  'bmi',\n",
              "  'bp',\n",
              "  's1',\n",
              "  's2',\n",
              "  's3',\n",
              "  's4',\n",
              "  's5',\n",
              "  's6'],\n",
              " 'target': array([151.,  75., 141., 206., 135.,  97., 138.,  63., 110., 310., 101.,\n",
              "         69., 179., 185., 118., 171., 166., 144.,  97., 168.,  68.,  49.,\n",
              "         68., 245., 184., 202., 137.,  85., 131., 283., 129.,  59., 341.,\n",
              "         87.,  65., 102., 265., 276., 252.,  90., 100.,  55.,  61.,  92.,\n",
              "        259.,  53., 190., 142.,  75., 142., 155., 225.,  59., 104., 182.,\n",
              "        128.,  52.,  37., 170., 170.,  61., 144.,  52., 128.,  71., 163.,\n",
              "        150.,  97., 160., 178.,  48., 270., 202., 111.,  85.,  42., 170.,\n",
              "        200., 252., 113., 143.,  51.,  52., 210.,  65., 141.,  55., 134.,\n",
              "         42., 111.,  98., 164.,  48.,  96.,  90., 162., 150., 279.,  92.,\n",
              "         83., 128., 102., 302., 198.,  95.,  53., 134., 144., 232.,  81.,\n",
              "        104.,  59., 246., 297., 258., 229., 275., 281., 179., 200., 200.,\n",
              "        173., 180.,  84., 121., 161.,  99., 109., 115., 268., 274., 158.,\n",
              "        107.,  83., 103., 272.,  85., 280., 336., 281., 118., 317., 235.,\n",
              "         60., 174., 259., 178., 128.,  96., 126., 288.,  88., 292.,  71.,\n",
              "        197., 186.,  25.,  84.,  96., 195.,  53., 217., 172., 131., 214.,\n",
              "         59.,  70., 220., 268., 152.,  47.,  74., 295., 101., 151., 127.,\n",
              "        237., 225.,  81., 151., 107.,  64., 138., 185., 265., 101., 137.,\n",
              "        143., 141.,  79., 292., 178.,  91., 116.,  86., 122.,  72., 129.,\n",
              "        142.,  90., 158.,  39., 196., 222., 277.,  99., 196., 202., 155.,\n",
              "         77., 191.,  70.,  73.,  49.,  65., 263., 248., 296., 214., 185.,\n",
              "         78.,  93., 252., 150.,  77., 208.,  77., 108., 160.,  53., 220.,\n",
              "        154., 259.,  90., 246., 124.,  67.,  72., 257., 262., 275., 177.,\n",
              "         71.,  47., 187., 125.,  78.,  51., 258., 215., 303., 243.,  91.,\n",
              "        150., 310., 153., 346.,  63.,  89.,  50.,  39., 103., 308., 116.,\n",
              "        145.,  74.,  45., 115., 264.,  87., 202., 127., 182., 241.,  66.,\n",
              "         94., 283.,  64., 102., 200., 265.,  94., 230., 181., 156., 233.,\n",
              "         60., 219.,  80.,  68., 332., 248.,  84., 200.,  55.,  85.,  89.,\n",
              "         31., 129.,  83., 275.,  65., 198., 236., 253., 124.,  44., 172.,\n",
              "        114., 142., 109., 180., 144., 163., 147.,  97., 220., 190., 109.,\n",
              "        191., 122., 230., 242., 248., 249., 192., 131., 237.,  78., 135.,\n",
              "        244., 199., 270., 164.,  72.,  96., 306.,  91., 214.,  95., 216.,\n",
              "        263., 178., 113., 200., 139., 139.,  88., 148.,  88., 243.,  71.,\n",
              "         77., 109., 272.,  60.,  54., 221.,  90., 311., 281., 182., 321.,\n",
              "         58., 262., 206., 233., 242., 123., 167.,  63., 197.,  71., 168.,\n",
              "        140., 217., 121., 235., 245.,  40.,  52., 104., 132.,  88.,  69.,\n",
              "        219.,  72., 201., 110.,  51., 277.,  63., 118.,  69., 273., 258.,\n",
              "         43., 198., 242., 232., 175.,  93., 168., 275., 293., 281.,  72.,\n",
              "        140., 189., 181., 209., 136., 261., 113., 131., 174., 257.,  55.,\n",
              "         84.,  42., 146., 212., 233.,  91., 111., 152., 120.,  67., 310.,\n",
              "         94., 183.,  66., 173.,  72.,  49.,  64.,  48., 178., 104., 132.,\n",
              "        220.,  57.]),\n",
              " 'target_filename': '/usr/local/lib/python3.6/dist-packages/sklearn/datasets/data/diabetes_target.csv.gz'}"
            ]
          },
          "metadata": {
            "tags": []
          },
          "execution_count": 59
        }
      ]
    },
    {
      "cell_type": "markdown",
      "metadata": {
        "id": "J1G6siJlM0I7"
      },
      "source": [
        "## Splitting dataset"
      ]
    },
    {
      "cell_type": "code",
      "metadata": {
        "id": "VVs9ZHA_kb7D"
      },
      "source": [
        "X = data.data\n",
        "y = data.target\n",
        "x_train,x_test,y_train,y_test = train_test_split(X,y,test_size=0.3,random_state = 512)"
      ],
      "execution_count": 60,
      "outputs": []
    },
    {
      "cell_type": "markdown",
      "metadata": {
        "id": "jZDrst2kM-K3"
      },
      "source": [
        "## Buliding Model"
      ]
    },
    {
      "cell_type": "code",
      "metadata": {
        "id": "8AzJ6fWCkhiQ"
      },
      "source": [
        "model = linear_model.LinearRegression()\n",
        "model.fit(x_train,y_train)\n",
        "prediction = model.predict(x_test)"
      ],
      "execution_count": 61,
      "outputs": []
    },
    {
      "cell_type": "markdown",
      "metadata": {
        "id": "PAgAL8LBN9wt"
      },
      "source": [
        "## Analyzing"
      ]
    },
    {
      "cell_type": "code",
      "metadata": {
        "colab": {
          "base_uri": "https://localhost:8080/",
          "height": 0
        },
        "id": "Zcf_VkmWN8R5",
        "outputId": "33b0bcfc-9b10-49e0-e530-c62030ff26b8"
      },
      "source": [
        "print('\\n\\nMetrics for model evualtion:\\n\\n')\n",
        "\n",
        "mean_sq_error = mean_squared_error(y_test,prediction)\n",
        "mean_abs_error = mean_absolute_error(y_test,prediction)\n",
        "R2_score = metrics.r2_score(y_test,prediction)\n",
        "mean_sq_log_error = mean_squared_log_error(y_test,prediction)\n",
        "explained_variance_score = metrics.explained_variance_score( y_test,prediction, multioutput='uniform_average')\n",
        "\n",
        "print(f' Mean-sq-error            : {mean_sq_error}\\n\\n Mean-abs-error           : {mean_abs_error}\\n\\n R2-score                 : {R2_score}\\n\\n Mean-sq-log-error        : {mean_sq_log_error}\\n\\n Explained-variance-score : {explained_variance_score}\\n')\n"
      ],
      "execution_count": 62,
      "outputs": [
        {
          "output_type": "stream",
          "text": [
            "\n",
            "\n",
            "Metrics for model evualtion:\n",
            "\n",
            "\n",
            " Mean-sq-error            : 2634.3990247377064\n",
            "\n",
            " Mean-abs-error           : 41.03324080030628\n",
            "\n",
            " R2-score                 : 0.5379603832310327\n",
            "\n",
            " Mean-sq-log-error        : 0.13730557437964364\n",
            "\n",
            " Explained-variance-score : 0.5407959471638365\n",
            "\n"
          ],
          "name": "stdout"
        }
      ]
    },
    {
      "cell_type": "code",
      "metadata": {
        "colab": {
          "base_uri": "https://localhost:8080/",
          "height": 0
        },
        "id": "hzvFPtOsNPHz",
        "outputId": "c6296ee2-ad3e-4403-b710-36d31d59c888"
      },
      "source": [
        "x_test"
      ],
      "execution_count": 63,
      "outputs": [
        {
          "output_type": "execute_result",
          "data": {
            "text/plain": [
              "array([[ 0.0090156 , -0.04464164,  0.01427248, ..., -0.03949338,\n",
              "        -0.03324879, -0.05906719],\n",
              "       [-0.02730979, -0.04464164,  0.04768465, ...,  0.13025177,\n",
              "         0.04506617,  0.13146972],\n",
              "       [-0.00551455,  0.05068012, -0.00836158, ..., -0.00259226,\n",
              "         0.08058546,  0.00720652],\n",
              "       ...,\n",
              "       [-0.00914709,  0.05068012, -0.03961813, ...,  0.07120998,\n",
              "         0.01776348, -0.06735141],\n",
              "       [ 0.06350368,  0.05068012, -0.00405033, ..., -0.00259226,\n",
              "         0.08449528, -0.01764613],\n",
              "       [-0.01277963, -0.04464164, -0.06548562, ..., -0.0070204 ,\n",
              "        -0.03075121, -0.05078298]])"
            ]
          },
          "metadata": {
            "tags": []
          },
          "execution_count": 63
        }
      ]
    },
    {
      "cell_type": "code",
      "metadata": {
        "colab": {
          "base_uri": "https://localhost:8080/",
          "height": 0
        },
        "id": "atpvdC9krshY",
        "outputId": "fb32faaa-bf53-486d-f3af-294dd7009c1c"
      },
      "source": [
        "x_test.shape"
      ],
      "execution_count": 64,
      "outputs": [
        {
          "output_type": "execute_result",
          "data": {
            "text/plain": [
              "(133, 10)"
            ]
          },
          "metadata": {
            "tags": []
          },
          "execution_count": 64
        }
      ]
    },
    {
      "cell_type": "code",
      "metadata": {
        "colab": {
          "base_uri": "https://localhost:8080/",
          "height": 0
        },
        "id": "TrInjpWUsBc-",
        "outputId": "939ad849-3cf5-4f83-84ab-2ff93bea3f3b"
      },
      "source": [
        "prediction.shape"
      ],
      "execution_count": 65,
      "outputs": [
        {
          "output_type": "execute_result",
          "data": {
            "text/plain": [
              "(133,)"
            ]
          },
          "metadata": {
            "tags": []
          },
          "execution_count": 65
        }
      ]
    },
    {
      "cell_type": "markdown",
      "metadata": {
        "id": "6pKM2URgNYYD"
      },
      "source": [
        "# Plotting Graph"
      ]
    },
    {
      "cell_type": "code",
      "metadata": {
        "colab": {
          "base_uri": "https://localhost:8080/",
          "height": 282
        },
        "id": "WxkZQwvPrhQA",
        "outputId": "2a4b2e9c-8396-454f-b652-0a29b7df1b46"
      },
      "source": [
        "  print(\"Plot on AGE\")\n",
        "  plt.scatter(x_test[:,0],prediction,color='black')\n",
        "  plt.scatter(x_test[:,0],y_test)\n",
        "  plt.legend(['Predicted','Actual'],loc =0 )\n",
        "  plt.show()\n",
        "  #age\n"
      ],
      "execution_count": 66,
      "outputs": [
        {
          "output_type": "stream",
          "text": [
            "Plot on AGE\n"
          ],
          "name": "stdout"
        },
        {
          "output_type": "display_data",
          "data": {
            "image/png": "[encoded data removed]",
            "text/plain": [
              "<Figure size 432x288 with 1 Axes>"
            ]
          },
          "metadata": {
            "tags": [],
            "needs_background": "light"
          }
        }
      ]
    },
    {
      "cell_type": "code",
      "metadata": {
        "colab": {
          "base_uri": "https://localhost:8080/",
          "height": 282
        },
        "id": "hv1fzVZqsZOX",
        "outputId": "64171439-0fd3-46bc-f21c-a072db1bcbb6"
      },
      "source": [
        "print(\"Plot on BMI\")\n",
        "plt.scatter(x_test[:,2],prediction,color='black')\n",
        "plt.scatter(x_test[:,2],y_test)\n",
        "plt.legend(['Predicted','Actual'],loc =0 )\n",
        "plt.show()\n",
        "#bmi"
      ],
      "execution_count": 67,
      "outputs": [
        {
          "output_type": "stream",
          "text": [
            "Plot on BMI\n"
          ],
          "name": "stdout"
        },
        {
          "output_type": "display_data",
          "data": {
            "image/png": "[encoded data removed]",
            "text/plain": [
              "<Figure size 432x288 with 1 Axes>"
            ]
          },
          "metadata": {
            "tags": [],
            "needs_background": "light"
          }
        }
      ]
    },
    {
      "cell_type": "code",
      "metadata": {
        "colab": {
          "base_uri": "https://localhost:8080/",
          "height": 282
        },
        "id": "RExop-1RsZR7",
        "outputId": "3eeec0d8-75da-47c5-d0a6-3b4c6b1a79ff"
      },
      "source": [
        "print(\"Plot on BP\")\n",
        "plt.scatter(x_test[:,0],prediction,color='black')\n",
        "plt.scatter(x_test[:,0],y_test)\n",
        "plt.legend(['Predicted','Actual'],loc =0 )\n",
        "plt.show()\n",
        "#bp"
      ],
      "execution_count": 68,
      "outputs": [
        {
          "output_type": "stream",
          "text": [
            "Plot on BP\n"
          ],
          "name": "stdout"
        },
        {
          "output_type": "display_data",
          "data": {
            "image/png": "[encoded data removed]",
            "text/plain": [
              "<Figure size 432x288 with 1 Axes>"
            ]
          },
          "metadata": {
            "tags": [],
            "needs_background": "light"
          }
        }
      ]
    },
    {
      "cell_type": "code",
      "metadata": {
        "colab": {
          "base_uri": "https://localhost:8080/",
          "height": 265
        },
        "id": "NwmH5CsNOLUu",
        "outputId": "9eb12068-e604-4bdc-9a70-45dce9c7f86a"
      },
      "source": [
        "y_pred = model.predict(x_test) \n",
        "plt.plot(y_test, y_pred, '.')\n",
        "\n",
        "# plot a line, a perfit predict would all fall on this line\n",
        "x = np.linspace(0, 330, 100)\n",
        "y = x\n",
        "plt.plot(x, y)\n",
        "plt.show()"
      ],
      "execution_count": 69,
      "outputs": [
        {
          "output_type": "display_data",
          "data": {
            "image/png": "[encoded data removed]",
            "text/plain": [
              "<Figure size 432x288 with 1 Axes>"
            ]
          },
          "metadata": {
            "tags": [],
            "needs_background": "light"
          }
        }
      ]
    },
    {
      "cell_type": "markdown",
      "metadata": {
        "id": "EdT-YhoEOmbP"
      },
      "source": [
        "### Observation\n",
        "By looking at the graphs, we can say that the performance is quite low when linear regression is used.\n",
        "\n",
        "x-axis: original test values\n",
        "\n",
        "y-axis: prediction values.\n",
        "\n",
        "A perfect prediction would fall on the line x-y. As you can see, there are quite a lot of points not on the line y = x giving us low accuracy as a result."
      ]
    }
  ]
}